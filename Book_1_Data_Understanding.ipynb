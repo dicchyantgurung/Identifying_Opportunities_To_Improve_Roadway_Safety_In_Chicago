{
 "cells": [
  {
   "cell_type": "markdown",
   "metadata": {},
   "source": [
    "## Identifying Opportunities to Reduce Car Crashes in Chicago "
   ]
  },
  {
   "cell_type": "markdown",
   "metadata": {},
   "source": [
    "### Book 1: Prepare the dataset for exploration and modelling"
   ]
  },
  {
   "cell_type": "markdown",
   "metadata": {},
   "source": [
    "### Business Case"
   ]
  },
  {
   "cell_type": "markdown",
   "metadata": {},
   "source": [
    "The Vehicle Safety Board is looking to reduce the number of accidents in the City of Chicago. Utilizing the car crash data available in Chicago Data Portal, we will perform some meaningful EDA and provide recommendations to the Vehicle Safety Board. \n",
    "\n",
    "Firstly, we will do some data exploration to answer the three main problem statements. We will then use the results to identify areas for improvement and come up with actionable steps that will help reduce the number of accidents in the City of Chicago.\n",
    "\n",
    "**1. Identify high-density areas of car crash in Chicago**\n",
    "\n",
    "**2. Analyze control failures to identify opportunities for improvement**\n",
    "\n",
    "**3. Check for trends in the time of crash to relocate resources appropriately**\n",
    "\n",
    "Secondly, we will create a ML classifier to categorize accidents in four main cateogories:\n",
    "\n",
    "1. Injury & Damages over 1,500 dollars\n",
    "2. Injury & Damages under 1,500 dollars \n",
    "3. No Injury & Damages over 1,500 dollars\n",
    "4. No Injury & Damages under 1,500 dollars\n",
    "\n",
    "Using these four classes, we will predict what action, event or conditions are most likely to lead to an injury and/or damages in either of the four classes."
   ]
  },
  {
   "cell_type": "markdown",
   "metadata": {},
   "source": [
    "### Dataset"
   ]
  },
  {
   "cell_type": "markdown",
   "metadata": {},
   "source": [
    "Chicago Car Crashes https://data.cityofchicago.org/Transportation/Traffic-Crashes-Crashes/85ca-t3if\n",
    "\n",
    "Vehicle Data https://data.cityofchicago.org/Transportation/Traffic-Crashes-Vehicles/68nd-jvt3\n",
    "\n",
    "Driver/Passenger Data https://data.cityofchicago.org/Transportation/Traffic-Crashes-People/u6pd-qa9d"
   ]
  },
  {
   "cell_type": "markdown",
   "metadata": {},
   "source": [
    "### Objective"
   ]
  },
  {
   "cell_type": "markdown",
   "metadata": {},
   "source": [
    "- Inspect all datasets and explore it's contents.\n",
    "- Clean each dataset by removing missing values and deleting columns irrelevant to our business case.\n",
    "- Merge the three datasets to create a master dataset.\n",
    "- Explore each variable and perform feature engineering to prepare the data for modeling."
   ]
  },
  {
   "cell_type": "markdown",
   "metadata": {},
   "source": [
    "### Data Understanding"
   ]
  },
  {
   "cell_type": "code",
   "execution_count": 1,
   "metadata": {},
   "outputs": [],
   "source": [
    "# Import relevant packages\n",
    "\n",
    "import pandas as pd\n",
    "import numpy as np"
   ]
  },
  {
   "cell_type": "code",
   "execution_count": 2,
   "metadata": {},
   "outputs": [],
   "source": [
    "# Import all datasets\n",
    "\n",
    "df_crashes_raw = pd.read_csv(r'Datasets/Traffic_Crashes_-_Crashes.csv')\n",
    "df_vehicles_raw = pd.read_csv(r'Datasets/Traffic_Crashes_-_Vehicles.csv', dtype='unicode')\n",
    "df_people_raw = pd.read_csv(r'Datasets/Traffic_Crashes_-_People.csv', dtype='unicode')"
   ]
  },
  {
   "cell_type": "markdown",
   "metadata": {},
   "source": [
    "### Traffic Crashes Dataset"
   ]
  },
  {
   "cell_type": "code",
   "execution_count": 3,
   "metadata": {},
   "outputs": [
    {
     "data": {
      "text/html": [
       "<div>\n",
       "<style scoped>\n",
       "    .dataframe tbody tr th:only-of-type {\n",
       "        vertical-align: middle;\n",
       "    }\n",
       "\n",
       "    .dataframe tbody tr th {\n",
       "        vertical-align: top;\n",
       "    }\n",
       "\n",
       "    .dataframe thead th {\n",
       "        text-align: right;\n",
       "    }\n",
       "</style>\n",
       "<table border=\"1\" class=\"dataframe\">\n",
       "  <thead>\n",
       "    <tr style=\"text-align: right;\">\n",
       "      <th></th>\n",
       "      <th>CRASH_RECORD_ID</th>\n",
       "      <th>RD_NO</th>\n",
       "      <th>CRASH_DATE_EST_I</th>\n",
       "      <th>CRASH_DATE</th>\n",
       "      <th>POSTED_SPEED_LIMIT</th>\n",
       "      <th>TRAFFIC_CONTROL_DEVICE</th>\n",
       "      <th>DEVICE_CONDITION</th>\n",
       "      <th>WEATHER_CONDITION</th>\n",
       "      <th>LIGHTING_CONDITION</th>\n",
       "      <th>FIRST_CRASH_TYPE</th>\n",
       "      <th>...</th>\n",
       "      <th>INJURIES_NON_INCAPACITATING</th>\n",
       "      <th>INJURIES_REPORTED_NOT_EVIDENT</th>\n",
       "      <th>INJURIES_NO_INDICATION</th>\n",
       "      <th>INJURIES_UNKNOWN</th>\n",
       "      <th>CRASH_HOUR</th>\n",
       "      <th>CRASH_DAY_OF_WEEK</th>\n",
       "      <th>CRASH_MONTH</th>\n",
       "      <th>LATITUDE</th>\n",
       "      <th>LONGITUDE</th>\n",
       "      <th>LOCATION</th>\n",
       "    </tr>\n",
       "  </thead>\n",
       "  <tbody>\n",
       "    <tr>\n",
       "      <th>0</th>\n",
       "      <td>4fd0a3e0897b3335b94cd8d5b2d2b350eb691add56c62d...</td>\n",
       "      <td>JC343143</td>\n",
       "      <td>NaN</td>\n",
       "      <td>07/10/2019 05:56:00 PM</td>\n",
       "      <td>35</td>\n",
       "      <td>NO CONTROLS</td>\n",
       "      <td>NO CONTROLS</td>\n",
       "      <td>CLEAR</td>\n",
       "      <td>DAYLIGHT</td>\n",
       "      <td>TURNING</td>\n",
       "      <td>...</td>\n",
       "      <td>0.0</td>\n",
       "      <td>0.0</td>\n",
       "      <td>3.0</td>\n",
       "      <td>0.0</td>\n",
       "      <td>17</td>\n",
       "      <td>4</td>\n",
       "      <td>7</td>\n",
       "      <td>41.919664</td>\n",
       "      <td>-87.773288</td>\n",
       "      <td>POINT (-87.773287883007 41.919663832993)</td>\n",
       "    </tr>\n",
       "    <tr>\n",
       "      <th>1</th>\n",
       "      <td>009e9e67203442370272e1a13d6ee51a4155dac65e583d...</td>\n",
       "      <td>JA329216</td>\n",
       "      <td>NaN</td>\n",
       "      <td>06/30/2017 04:00:00 PM</td>\n",
       "      <td>35</td>\n",
       "      <td>STOP SIGN/FLASHER</td>\n",
       "      <td>FUNCTIONING PROPERLY</td>\n",
       "      <td>CLEAR</td>\n",
       "      <td>DAYLIGHT</td>\n",
       "      <td>TURNING</td>\n",
       "      <td>...</td>\n",
       "      <td>0.0</td>\n",
       "      <td>0.0</td>\n",
       "      <td>3.0</td>\n",
       "      <td>0.0</td>\n",
       "      <td>16</td>\n",
       "      <td>6</td>\n",
       "      <td>6</td>\n",
       "      <td>41.741804</td>\n",
       "      <td>-87.740954</td>\n",
       "      <td>POINT (-87.740953581987 41.741803598989)</td>\n",
       "    </tr>\n",
       "    <tr>\n",
       "      <th>2</th>\n",
       "      <td>ee9283eff3a55ac50ee58f3d9528ce1d689b1c4180b4c4...</td>\n",
       "      <td>JD292400</td>\n",
       "      <td>NaN</td>\n",
       "      <td>07/10/2020 10:25:00 AM</td>\n",
       "      <td>30</td>\n",
       "      <td>TRAFFIC SIGNAL</td>\n",
       "      <td>FUNCTIONING PROPERLY</td>\n",
       "      <td>CLEAR</td>\n",
       "      <td>DAYLIGHT</td>\n",
       "      <td>REAR END</td>\n",
       "      <td>...</td>\n",
       "      <td>0.0</td>\n",
       "      <td>0.0</td>\n",
       "      <td>3.0</td>\n",
       "      <td>0.0</td>\n",
       "      <td>10</td>\n",
       "      <td>6</td>\n",
       "      <td>7</td>\n",
       "      <td>41.773456</td>\n",
       "      <td>-87.585022</td>\n",
       "      <td>POINT (-87.585022352022 41.773455972008)</td>\n",
       "    </tr>\n",
       "    <tr>\n",
       "      <th>3</th>\n",
       "      <td>f8960f698e870ebdc60b521b2a141a5395556bc3704191...</td>\n",
       "      <td>JD293602</td>\n",
       "      <td>NaN</td>\n",
       "      <td>07/11/2020 01:00:00 AM</td>\n",
       "      <td>30</td>\n",
       "      <td>NO CONTROLS</td>\n",
       "      <td>NO CONTROLS</td>\n",
       "      <td>CLEAR</td>\n",
       "      <td>DARKNESS</td>\n",
       "      <td>PARKED MOTOR VEHICLE</td>\n",
       "      <td>...</td>\n",
       "      <td>0.0</td>\n",
       "      <td>0.0</td>\n",
       "      <td>3.0</td>\n",
       "      <td>0.0</td>\n",
       "      <td>1</td>\n",
       "      <td>7</td>\n",
       "      <td>7</td>\n",
       "      <td>41.802119</td>\n",
       "      <td>-87.622115</td>\n",
       "      <td>POINT (-87.622114914961 41.802118543011)</td>\n",
       "    </tr>\n",
       "    <tr>\n",
       "      <th>4</th>\n",
       "      <td>8eaa2678d1a127804ee9b8c35ddf7d63d913c14eda61d6...</td>\n",
       "      <td>JD290451</td>\n",
       "      <td>NaN</td>\n",
       "      <td>07/08/2020 02:00:00 PM</td>\n",
       "      <td>20</td>\n",
       "      <td>NO CONTROLS</td>\n",
       "      <td>NO CONTROLS</td>\n",
       "      <td>CLEAR</td>\n",
       "      <td>DAYLIGHT</td>\n",
       "      <td>PARKED MOTOR VEHICLE</td>\n",
       "      <td>...</td>\n",
       "      <td>0.0</td>\n",
       "      <td>0.0</td>\n",
       "      <td>1.0</td>\n",
       "      <td>0.0</td>\n",
       "      <td>14</td>\n",
       "      <td>4</td>\n",
       "      <td>7</td>\n",
       "      <td>NaN</td>\n",
       "      <td>NaN</td>\n",
       "      <td>NaN</td>\n",
       "    </tr>\n",
       "  </tbody>\n",
       "</table>\n",
       "<p>5 rows × 49 columns</p>\n",
       "</div>"
      ],
      "text/plain": [
       "                                     CRASH_RECORD_ID     RD_NO  \\\n",
       "0  4fd0a3e0897b3335b94cd8d5b2d2b350eb691add56c62d...  JC343143   \n",
       "1  009e9e67203442370272e1a13d6ee51a4155dac65e583d...  JA329216   \n",
       "2  ee9283eff3a55ac50ee58f3d9528ce1d689b1c4180b4c4...  JD292400   \n",
       "3  f8960f698e870ebdc60b521b2a141a5395556bc3704191...  JD293602   \n",
       "4  8eaa2678d1a127804ee9b8c35ddf7d63d913c14eda61d6...  JD290451   \n",
       "\n",
       "  CRASH_DATE_EST_I              CRASH_DATE  POSTED_SPEED_LIMIT  \\\n",
       "0              NaN  07/10/2019 05:56:00 PM                  35   \n",
       "1              NaN  06/30/2017 04:00:00 PM                  35   \n",
       "2              NaN  07/10/2020 10:25:00 AM                  30   \n",
       "3              NaN  07/11/2020 01:00:00 AM                  30   \n",
       "4              NaN  07/08/2020 02:00:00 PM                  20   \n",
       "\n",
       "  TRAFFIC_CONTROL_DEVICE      DEVICE_CONDITION WEATHER_CONDITION  \\\n",
       "0            NO CONTROLS           NO CONTROLS             CLEAR   \n",
       "1      STOP SIGN/FLASHER  FUNCTIONING PROPERLY             CLEAR   \n",
       "2         TRAFFIC SIGNAL  FUNCTIONING PROPERLY             CLEAR   \n",
       "3            NO CONTROLS           NO CONTROLS             CLEAR   \n",
       "4            NO CONTROLS           NO CONTROLS             CLEAR   \n",
       "\n",
       "  LIGHTING_CONDITION      FIRST_CRASH_TYPE  ... INJURIES_NON_INCAPACITATING  \\\n",
       "0           DAYLIGHT               TURNING  ...                         0.0   \n",
       "1           DAYLIGHT               TURNING  ...                         0.0   \n",
       "2           DAYLIGHT              REAR END  ...                         0.0   \n",
       "3           DARKNESS  PARKED MOTOR VEHICLE  ...                         0.0   \n",
       "4           DAYLIGHT  PARKED MOTOR VEHICLE  ...                         0.0   \n",
       "\n",
       "   INJURIES_REPORTED_NOT_EVIDENT INJURIES_NO_INDICATION INJURIES_UNKNOWN  \\\n",
       "0                            0.0                    3.0              0.0   \n",
       "1                            0.0                    3.0              0.0   \n",
       "2                            0.0                    3.0              0.0   \n",
       "3                            0.0                    3.0              0.0   \n",
       "4                            0.0                    1.0              0.0   \n",
       "\n",
       "  CRASH_HOUR CRASH_DAY_OF_WEEK CRASH_MONTH   LATITUDE  LONGITUDE  \\\n",
       "0         17                 4           7  41.919664 -87.773288   \n",
       "1         16                 6           6  41.741804 -87.740954   \n",
       "2         10                 6           7  41.773456 -87.585022   \n",
       "3          1                 7           7  41.802119 -87.622115   \n",
       "4         14                 4           7        NaN        NaN   \n",
       "\n",
       "                                   LOCATION  \n",
       "0  POINT (-87.773287883007 41.919663832993)  \n",
       "1  POINT (-87.740953581987 41.741803598989)  \n",
       "2  POINT (-87.585022352022 41.773455972008)  \n",
       "3  POINT (-87.622114914961 41.802118543011)  \n",
       "4                                       NaN  \n",
       "\n",
       "[5 rows x 49 columns]"
      ]
     },
     "execution_count": 3,
     "metadata": {},
     "output_type": "execute_result"
    }
   ],
   "source": [
    "df_crashes_raw.head()"
   ]
  },
  {
   "cell_type": "code",
   "execution_count": 4,
   "metadata": {},
   "outputs": [
    {
     "data": {
      "text/plain": [
       "Index(['CRASH_RECORD_ID', 'RD_NO', 'CRASH_DATE_EST_I', 'CRASH_DATE',\n",
       "       'POSTED_SPEED_LIMIT', 'TRAFFIC_CONTROL_DEVICE', 'DEVICE_CONDITION',\n",
       "       'WEATHER_CONDITION', 'LIGHTING_CONDITION', 'FIRST_CRASH_TYPE',\n",
       "       'TRAFFICWAY_TYPE', 'LANE_CNT', 'ALIGNMENT', 'ROADWAY_SURFACE_COND',\n",
       "       'ROAD_DEFECT', 'REPORT_TYPE', 'CRASH_TYPE', 'INTERSECTION_RELATED_I',\n",
       "       'NOT_RIGHT_OF_WAY_I', 'HIT_AND_RUN_I', 'DAMAGE', 'DATE_POLICE_NOTIFIED',\n",
       "       'PRIM_CONTRIBUTORY_CAUSE', 'SEC_CONTRIBUTORY_CAUSE', 'STREET_NO',\n",
       "       'STREET_DIRECTION', 'STREET_NAME', 'BEAT_OF_OCCURRENCE',\n",
       "       'PHOTOS_TAKEN_I', 'STATEMENTS_TAKEN_I', 'DOORING_I', 'WORK_ZONE_I',\n",
       "       'WORK_ZONE_TYPE', 'WORKERS_PRESENT_I', 'NUM_UNITS',\n",
       "       'MOST_SEVERE_INJURY', 'INJURIES_TOTAL', 'INJURIES_FATAL',\n",
       "       'INJURIES_INCAPACITATING', 'INJURIES_NON_INCAPACITATING',\n",
       "       'INJURIES_REPORTED_NOT_EVIDENT', 'INJURIES_NO_INDICATION',\n",
       "       'INJURIES_UNKNOWN', 'CRASH_HOUR', 'CRASH_DAY_OF_WEEK', 'CRASH_MONTH',\n",
       "       'LATITUDE', 'LONGITUDE', 'LOCATION'],\n",
       "      dtype='object')"
      ]
     },
     "execution_count": 4,
     "metadata": {},
     "output_type": "execute_result"
    }
   ],
   "source": [
    "# Check all columns in the dataset\n",
    "\n",
    "df_crashes_raw.columns"
   ]
  },
  {
   "cell_type": "markdown",
   "metadata": {},
   "source": [
    "The description for each column in the datasets are available in the Chicago Data Portal."
   ]
  },
  {
   "cell_type": "markdown",
   "metadata": {},
   "source": [
    "Chicago Car Crashes https://data.cityofchicago.org/Transportation/Traffic-Crashes-Crashes/85ca-t3if\n",
    "\n",
    "Vehicle Data https://data.cityofchicago.org/Transportation/Traffic-Crashes-Vehicles/68nd-jvt3\n",
    "\n",
    "Driver/Passenger Data https://data.cityofchicago.org/Transportation/Traffic-Crashes-People/u6pd-qa9d"
   ]
  },
  {
   "cell_type": "markdown",
   "metadata": {},
   "source": [
    "For the purpose of this project, we have decided to remove the following columns."
   ]
  },
  {
   "cell_type": "code",
   "execution_count": 5,
   "metadata": {},
   "outputs": [],
   "source": [
    "columns_to_delete = ['RD_NO', 'CRASH_DATE_EST_I', 'CRASH_DATE','LANE_CNT','REPORT_TYPE','DATE_POLICE_NOTIFIED', \n",
    "                     'SEC_CONTRIBUTORY_CAUSE','STREET_NO','STREET_DIRECTION', 'STREET_NAME','PHOTOS_TAKEN_I', \n",
    "                     'STATEMENTS_TAKEN_I', 'BEAT_OF_OCCURRENCE', 'MOST_SEVERE_INJURY', 'INJURIES_TOTAL',\n",
    "                     'INJURIES_FATAL','INJURIES_INCAPACITATING', 'INJURIES_NON_INCAPACITATING', \n",
    "                     'INJURIES_REPORTED_NOT_EVIDENT', 'INJURIES_NO_INDICATION', 'INJURIES_UNKNOWN']"
   ]
  },
  {
   "cell_type": "code",
   "execution_count": 6,
   "metadata": {},
   "outputs": [
    {
     "data": {
      "text/html": [
       "<div>\n",
       "<style scoped>\n",
       "    .dataframe tbody tr th:only-of-type {\n",
       "        vertical-align: middle;\n",
       "    }\n",
       "\n",
       "    .dataframe tbody tr th {\n",
       "        vertical-align: top;\n",
       "    }\n",
       "\n",
       "    .dataframe thead th {\n",
       "        text-align: right;\n",
       "    }\n",
       "</style>\n",
       "<table border=\"1\" class=\"dataframe\">\n",
       "  <thead>\n",
       "    <tr style=\"text-align: right;\">\n",
       "      <th></th>\n",
       "      <th>CRASH_RECORD_ID</th>\n",
       "      <th>RD_NO</th>\n",
       "      <th>CRASH_DATE_EST_I</th>\n",
       "      <th>CRASH_DATE</th>\n",
       "      <th>POSTED_SPEED_LIMIT</th>\n",
       "      <th>TRAFFIC_CONTROL_DEVICE</th>\n",
       "      <th>DEVICE_CONDITION</th>\n",
       "      <th>WEATHER_CONDITION</th>\n",
       "      <th>LIGHTING_CONDITION</th>\n",
       "      <th>FIRST_CRASH_TYPE</th>\n",
       "      <th>...</th>\n",
       "      <th>INJURIES_NON_INCAPACITATING</th>\n",
       "      <th>INJURIES_REPORTED_NOT_EVIDENT</th>\n",
       "      <th>INJURIES_NO_INDICATION</th>\n",
       "      <th>INJURIES_UNKNOWN</th>\n",
       "      <th>CRASH_HOUR</th>\n",
       "      <th>CRASH_DAY_OF_WEEK</th>\n",
       "      <th>CRASH_MONTH</th>\n",
       "      <th>LATITUDE</th>\n",
       "      <th>LONGITUDE</th>\n",
       "      <th>LOCATION</th>\n",
       "    </tr>\n",
       "  </thead>\n",
       "  <tbody>\n",
       "    <tr>\n",
       "      <th>0</th>\n",
       "      <td>4fd0a3e0897b3335b94cd8d5b2d2b350eb691add56c62d...</td>\n",
       "      <td>JC343143</td>\n",
       "      <td>NaN</td>\n",
       "      <td>07/10/2019 05:56:00 PM</td>\n",
       "      <td>35</td>\n",
       "      <td>NO CONTROLS</td>\n",
       "      <td>NO CONTROLS</td>\n",
       "      <td>CLEAR</td>\n",
       "      <td>DAYLIGHT</td>\n",
       "      <td>TURNING</td>\n",
       "      <td>...</td>\n",
       "      <td>0.0</td>\n",
       "      <td>0.0</td>\n",
       "      <td>3.0</td>\n",
       "      <td>0.0</td>\n",
       "      <td>17</td>\n",
       "      <td>4</td>\n",
       "      <td>7</td>\n",
       "      <td>41.919664</td>\n",
       "      <td>-87.773288</td>\n",
       "      <td>POINT (-87.773287883007 41.919663832993)</td>\n",
       "    </tr>\n",
       "    <tr>\n",
       "      <th>1</th>\n",
       "      <td>009e9e67203442370272e1a13d6ee51a4155dac65e583d...</td>\n",
       "      <td>JA329216</td>\n",
       "      <td>NaN</td>\n",
       "      <td>06/30/2017 04:00:00 PM</td>\n",
       "      <td>35</td>\n",
       "      <td>STOP SIGN/FLASHER</td>\n",
       "      <td>FUNCTIONING PROPERLY</td>\n",
       "      <td>CLEAR</td>\n",
       "      <td>DAYLIGHT</td>\n",
       "      <td>TURNING</td>\n",
       "      <td>...</td>\n",
       "      <td>0.0</td>\n",
       "      <td>0.0</td>\n",
       "      <td>3.0</td>\n",
       "      <td>0.0</td>\n",
       "      <td>16</td>\n",
       "      <td>6</td>\n",
       "      <td>6</td>\n",
       "      <td>41.741804</td>\n",
       "      <td>-87.740954</td>\n",
       "      <td>POINT (-87.740953581987 41.741803598989)</td>\n",
       "    </tr>\n",
       "    <tr>\n",
       "      <th>2</th>\n",
       "      <td>ee9283eff3a55ac50ee58f3d9528ce1d689b1c4180b4c4...</td>\n",
       "      <td>JD292400</td>\n",
       "      <td>NaN</td>\n",
       "      <td>07/10/2020 10:25:00 AM</td>\n",
       "      <td>30</td>\n",
       "      <td>TRAFFIC SIGNAL</td>\n",
       "      <td>FUNCTIONING PROPERLY</td>\n",
       "      <td>CLEAR</td>\n",
       "      <td>DAYLIGHT</td>\n",
       "      <td>REAR END</td>\n",
       "      <td>...</td>\n",
       "      <td>0.0</td>\n",
       "      <td>0.0</td>\n",
       "      <td>3.0</td>\n",
       "      <td>0.0</td>\n",
       "      <td>10</td>\n",
       "      <td>6</td>\n",
       "      <td>7</td>\n",
       "      <td>41.773456</td>\n",
       "      <td>-87.585022</td>\n",
       "      <td>POINT (-87.585022352022 41.773455972008)</td>\n",
       "    </tr>\n",
       "    <tr>\n",
       "      <th>3</th>\n",
       "      <td>f8960f698e870ebdc60b521b2a141a5395556bc3704191...</td>\n",
       "      <td>JD293602</td>\n",
       "      <td>NaN</td>\n",
       "      <td>07/11/2020 01:00:00 AM</td>\n",
       "      <td>30</td>\n",
       "      <td>NO CONTROLS</td>\n",
       "      <td>NO CONTROLS</td>\n",
       "      <td>CLEAR</td>\n",
       "      <td>DARKNESS</td>\n",
       "      <td>PARKED MOTOR VEHICLE</td>\n",
       "      <td>...</td>\n",
       "      <td>0.0</td>\n",
       "      <td>0.0</td>\n",
       "      <td>3.0</td>\n",
       "      <td>0.0</td>\n",
       "      <td>1</td>\n",
       "      <td>7</td>\n",
       "      <td>7</td>\n",
       "      <td>41.802119</td>\n",
       "      <td>-87.622115</td>\n",
       "      <td>POINT (-87.622114914961 41.802118543011)</td>\n",
       "    </tr>\n",
       "    <tr>\n",
       "      <th>4</th>\n",
       "      <td>8eaa2678d1a127804ee9b8c35ddf7d63d913c14eda61d6...</td>\n",
       "      <td>JD290451</td>\n",
       "      <td>NaN</td>\n",
       "      <td>07/08/2020 02:00:00 PM</td>\n",
       "      <td>20</td>\n",
       "      <td>NO CONTROLS</td>\n",
       "      <td>NO CONTROLS</td>\n",
       "      <td>CLEAR</td>\n",
       "      <td>DAYLIGHT</td>\n",
       "      <td>PARKED MOTOR VEHICLE</td>\n",
       "      <td>...</td>\n",
       "      <td>0.0</td>\n",
       "      <td>0.0</td>\n",
       "      <td>1.0</td>\n",
       "      <td>0.0</td>\n",
       "      <td>14</td>\n",
       "      <td>4</td>\n",
       "      <td>7</td>\n",
       "      <td>NaN</td>\n",
       "      <td>NaN</td>\n",
       "      <td>NaN</td>\n",
       "    </tr>\n",
       "    <tr>\n",
       "      <th>...</th>\n",
       "      <td>...</td>\n",
       "      <td>...</td>\n",
       "      <td>...</td>\n",
       "      <td>...</td>\n",
       "      <td>...</td>\n",
       "      <td>...</td>\n",
       "      <td>...</td>\n",
       "      <td>...</td>\n",
       "      <td>...</td>\n",
       "      <td>...</td>\n",
       "      <td>...</td>\n",
       "      <td>...</td>\n",
       "      <td>...</td>\n",
       "      <td>...</td>\n",
       "      <td>...</td>\n",
       "      <td>...</td>\n",
       "      <td>...</td>\n",
       "      <td>...</td>\n",
       "      <td>...</td>\n",
       "      <td>...</td>\n",
       "      <td>...</td>\n",
       "    </tr>\n",
       "    <tr>\n",
       "      <th>555214</th>\n",
       "      <td>9a9db62f3334a1fad706f97c5a4ebb8485668447c176e2...</td>\n",
       "      <td>JE299347</td>\n",
       "      <td>NaN</td>\n",
       "      <td>07/12/2021 06:37:00 PM</td>\n",
       "      <td>10</td>\n",
       "      <td>NO CONTROLS</td>\n",
       "      <td>NO CONTROLS</td>\n",
       "      <td>CLEAR</td>\n",
       "      <td>DAYLIGHT</td>\n",
       "      <td>PARKED MOTOR VEHICLE</td>\n",
       "      <td>...</td>\n",
       "      <td>0.0</td>\n",
       "      <td>0.0</td>\n",
       "      <td>1.0</td>\n",
       "      <td>0.0</td>\n",
       "      <td>18</td>\n",
       "      <td>2</td>\n",
       "      <td>7</td>\n",
       "      <td>41.736965</td>\n",
       "      <td>-87.721652</td>\n",
       "      <td>POINT (-87.721652118145 41.736965321289)</td>\n",
       "    </tr>\n",
       "    <tr>\n",
       "      <th>555215</th>\n",
       "      <td>db31327d28803316b8f44f0ec86d6e76a248934f3d1bfc...</td>\n",
       "      <td>JE295652</td>\n",
       "      <td>NaN</td>\n",
       "      <td>07/07/2021 09:25:00 PM</td>\n",
       "      <td>30</td>\n",
       "      <td>TRAFFIC SIGNAL</td>\n",
       "      <td>FUNCTIONING PROPERLY</td>\n",
       "      <td>UNKNOWN</td>\n",
       "      <td>UNKNOWN</td>\n",
       "      <td>SIDESWIPE SAME DIRECTION</td>\n",
       "      <td>...</td>\n",
       "      <td>0.0</td>\n",
       "      <td>0.0</td>\n",
       "      <td>2.0</td>\n",
       "      <td>0.0</td>\n",
       "      <td>21</td>\n",
       "      <td>4</td>\n",
       "      <td>7</td>\n",
       "      <td>41.747538</td>\n",
       "      <td>-87.604986</td>\n",
       "      <td>POINT (-87.604985730802 41.747538448447)</td>\n",
       "    </tr>\n",
       "    <tr>\n",
       "      <th>555216</th>\n",
       "      <td>d51aae396db49981c7ee26ceb54dfcab3c4b06d0cc5d7d...</td>\n",
       "      <td>JE298826</td>\n",
       "      <td>NaN</td>\n",
       "      <td>07/12/2021 10:00:00 AM</td>\n",
       "      <td>30</td>\n",
       "      <td>NO CONTROLS</td>\n",
       "      <td>NO CONTROLS</td>\n",
       "      <td>CLEAR</td>\n",
       "      <td>DAYLIGHT</td>\n",
       "      <td>REAR TO SIDE</td>\n",
       "      <td>...</td>\n",
       "      <td>0.0</td>\n",
       "      <td>1.0</td>\n",
       "      <td>1.0</td>\n",
       "      <td>0.0</td>\n",
       "      <td>10</td>\n",
       "      <td>2</td>\n",
       "      <td>7</td>\n",
       "      <td>41.752918</td>\n",
       "      <td>-87.621573</td>\n",
       "      <td>POINT (-87.621572939578 41.752917594949)</td>\n",
       "    </tr>\n",
       "    <tr>\n",
       "      <th>555217</th>\n",
       "      <td>6f9abc7e7f54095cef0fa17e16e6f72eb14f8d17d3b572...</td>\n",
       "      <td>JE300245</td>\n",
       "      <td>NaN</td>\n",
       "      <td>07/13/2021 04:15:00 PM</td>\n",
       "      <td>15</td>\n",
       "      <td>NO CONTROLS</td>\n",
       "      <td>NO CONTROLS</td>\n",
       "      <td>CLEAR</td>\n",
       "      <td>DAYLIGHT</td>\n",
       "      <td>PARKED MOTOR VEHICLE</td>\n",
       "      <td>...</td>\n",
       "      <td>0.0</td>\n",
       "      <td>0.0</td>\n",
       "      <td>1.0</td>\n",
       "      <td>0.0</td>\n",
       "      <td>16</td>\n",
       "      <td>3</td>\n",
       "      <td>7</td>\n",
       "      <td>41.781830</td>\n",
       "      <td>-87.668979</td>\n",
       "      <td>POINT (-87.668979124866 41.781829602685)</td>\n",
       "    </tr>\n",
       "    <tr>\n",
       "      <th>555218</th>\n",
       "      <td>bc361965fe506c50f7899493c79b1f7d011376f753acaa...</td>\n",
       "      <td>JE300060</td>\n",
       "      <td>NaN</td>\n",
       "      <td>07/13/2021 11:30:00 AM</td>\n",
       "      <td>30</td>\n",
       "      <td>NO CONTROLS</td>\n",
       "      <td>NO CONTROLS</td>\n",
       "      <td>CLEAR</td>\n",
       "      <td>DAYLIGHT</td>\n",
       "      <td>SIDESWIPE SAME DIRECTION</td>\n",
       "      <td>...</td>\n",
       "      <td>0.0</td>\n",
       "      <td>0.0</td>\n",
       "      <td>2.0</td>\n",
       "      <td>0.0</td>\n",
       "      <td>11</td>\n",
       "      <td>3</td>\n",
       "      <td>7</td>\n",
       "      <td>41.997303</td>\n",
       "      <td>-87.780162</td>\n",
       "      <td>POINT (-87.780162317876 41.997302747477)</td>\n",
       "    </tr>\n",
       "  </tbody>\n",
       "</table>\n",
       "<p>555219 rows × 49 columns</p>\n",
       "</div>"
      ],
      "text/plain": [
       "                                          CRASH_RECORD_ID     RD_NO  \\\n",
       "0       4fd0a3e0897b3335b94cd8d5b2d2b350eb691add56c62d...  JC343143   \n",
       "1       009e9e67203442370272e1a13d6ee51a4155dac65e583d...  JA329216   \n",
       "2       ee9283eff3a55ac50ee58f3d9528ce1d689b1c4180b4c4...  JD292400   \n",
       "3       f8960f698e870ebdc60b521b2a141a5395556bc3704191...  JD293602   \n",
       "4       8eaa2678d1a127804ee9b8c35ddf7d63d913c14eda61d6...  JD290451   \n",
       "...                                                   ...       ...   \n",
       "555214  9a9db62f3334a1fad706f97c5a4ebb8485668447c176e2...  JE299347   \n",
       "555215  db31327d28803316b8f44f0ec86d6e76a248934f3d1bfc...  JE295652   \n",
       "555216  d51aae396db49981c7ee26ceb54dfcab3c4b06d0cc5d7d...  JE298826   \n",
       "555217  6f9abc7e7f54095cef0fa17e16e6f72eb14f8d17d3b572...  JE300245   \n",
       "555218  bc361965fe506c50f7899493c79b1f7d011376f753acaa...  JE300060   \n",
       "\n",
       "       CRASH_DATE_EST_I              CRASH_DATE  POSTED_SPEED_LIMIT  \\\n",
       "0                   NaN  07/10/2019 05:56:00 PM                  35   \n",
       "1                   NaN  06/30/2017 04:00:00 PM                  35   \n",
       "2                   NaN  07/10/2020 10:25:00 AM                  30   \n",
       "3                   NaN  07/11/2020 01:00:00 AM                  30   \n",
       "4                   NaN  07/08/2020 02:00:00 PM                  20   \n",
       "...                 ...                     ...                 ...   \n",
       "555214              NaN  07/12/2021 06:37:00 PM                  10   \n",
       "555215              NaN  07/07/2021 09:25:00 PM                  30   \n",
       "555216              NaN  07/12/2021 10:00:00 AM                  30   \n",
       "555217              NaN  07/13/2021 04:15:00 PM                  15   \n",
       "555218              NaN  07/13/2021 11:30:00 AM                  30   \n",
       "\n",
       "       TRAFFIC_CONTROL_DEVICE      DEVICE_CONDITION WEATHER_CONDITION  \\\n",
       "0                 NO CONTROLS           NO CONTROLS             CLEAR   \n",
       "1           STOP SIGN/FLASHER  FUNCTIONING PROPERLY             CLEAR   \n",
       "2              TRAFFIC SIGNAL  FUNCTIONING PROPERLY             CLEAR   \n",
       "3                 NO CONTROLS           NO CONTROLS             CLEAR   \n",
       "4                 NO CONTROLS           NO CONTROLS             CLEAR   \n",
       "...                       ...                   ...               ...   \n",
       "555214            NO CONTROLS           NO CONTROLS             CLEAR   \n",
       "555215         TRAFFIC SIGNAL  FUNCTIONING PROPERLY           UNKNOWN   \n",
       "555216            NO CONTROLS           NO CONTROLS             CLEAR   \n",
       "555217            NO CONTROLS           NO CONTROLS             CLEAR   \n",
       "555218            NO CONTROLS           NO CONTROLS             CLEAR   \n",
       "\n",
       "       LIGHTING_CONDITION          FIRST_CRASH_TYPE  ...  \\\n",
       "0                DAYLIGHT                   TURNING  ...   \n",
       "1                DAYLIGHT                   TURNING  ...   \n",
       "2                DAYLIGHT                  REAR END  ...   \n",
       "3                DARKNESS      PARKED MOTOR VEHICLE  ...   \n",
       "4                DAYLIGHT      PARKED MOTOR VEHICLE  ...   \n",
       "...                   ...                       ...  ...   \n",
       "555214           DAYLIGHT      PARKED MOTOR VEHICLE  ...   \n",
       "555215            UNKNOWN  SIDESWIPE SAME DIRECTION  ...   \n",
       "555216           DAYLIGHT              REAR TO SIDE  ...   \n",
       "555217           DAYLIGHT      PARKED MOTOR VEHICLE  ...   \n",
       "555218           DAYLIGHT  SIDESWIPE SAME DIRECTION  ...   \n",
       "\n",
       "       INJURIES_NON_INCAPACITATING  INJURIES_REPORTED_NOT_EVIDENT  \\\n",
       "0                              0.0                            0.0   \n",
       "1                              0.0                            0.0   \n",
       "2                              0.0                            0.0   \n",
       "3                              0.0                            0.0   \n",
       "4                              0.0                            0.0   \n",
       "...                            ...                            ...   \n",
       "555214                         0.0                            0.0   \n",
       "555215                         0.0                            0.0   \n",
       "555216                         0.0                            1.0   \n",
       "555217                         0.0                            0.0   \n",
       "555218                         0.0                            0.0   \n",
       "\n",
       "       INJURIES_NO_INDICATION INJURIES_UNKNOWN CRASH_HOUR CRASH_DAY_OF_WEEK  \\\n",
       "0                         3.0              0.0         17                 4   \n",
       "1                         3.0              0.0         16                 6   \n",
       "2                         3.0              0.0         10                 6   \n",
       "3                         3.0              0.0          1                 7   \n",
       "4                         1.0              0.0         14                 4   \n",
       "...                       ...              ...        ...               ...   \n",
       "555214                    1.0              0.0         18                 2   \n",
       "555215                    2.0              0.0         21                 4   \n",
       "555216                    1.0              0.0         10                 2   \n",
       "555217                    1.0              0.0         16                 3   \n",
       "555218                    2.0              0.0         11                 3   \n",
       "\n",
       "       CRASH_MONTH   LATITUDE  LONGITUDE  \\\n",
       "0                7  41.919664 -87.773288   \n",
       "1                6  41.741804 -87.740954   \n",
       "2                7  41.773456 -87.585022   \n",
       "3                7  41.802119 -87.622115   \n",
       "4                7        NaN        NaN   \n",
       "...            ...        ...        ...   \n",
       "555214           7  41.736965 -87.721652   \n",
       "555215           7  41.747538 -87.604986   \n",
       "555216           7  41.752918 -87.621573   \n",
       "555217           7  41.781830 -87.668979   \n",
       "555218           7  41.997303 -87.780162   \n",
       "\n",
       "                                        LOCATION  \n",
       "0       POINT (-87.773287883007 41.919663832993)  \n",
       "1       POINT (-87.740953581987 41.741803598989)  \n",
       "2       POINT (-87.585022352022 41.773455972008)  \n",
       "3       POINT (-87.622114914961 41.802118543011)  \n",
       "4                                            NaN  \n",
       "...                                          ...  \n",
       "555214  POINT (-87.721652118145 41.736965321289)  \n",
       "555215  POINT (-87.604985730802 41.747538448447)  \n",
       "555216  POINT (-87.621572939578 41.752917594949)  \n",
       "555217  POINT (-87.668979124866 41.781829602685)  \n",
       "555218  POINT (-87.780162317876 41.997302747477)  \n",
       "\n",
       "[555219 rows x 49 columns]"
      ]
     },
     "execution_count": 6,
     "metadata": {},
     "output_type": "execute_result"
    }
   ],
   "source": [
    "df_crashes_raw[:]"
   ]
  },
  {
   "cell_type": "code",
   "execution_count": 7,
   "metadata": {},
   "outputs": [],
   "source": [
    "# Drop the irrelavant columns\n",
    "\n",
    "df_crashes_clean = df_crashes_raw.drop(columns_to_delete, axis=1).copy()"
   ]
  },
  {
   "cell_type": "markdown",
   "metadata": {},
   "source": [
    "We will now go into looking for missing or null values and remove them as necessary."
   ]
  },
  {
   "cell_type": "code",
   "execution_count": 8,
   "metadata": {},
   "outputs": [
    {
     "data": {
      "text/plain": [
       "CRASH_RECORD_ID                 0\n",
       "POSTED_SPEED_LIMIT              0\n",
       "TRAFFIC_CONTROL_DEVICE          0\n",
       "DEVICE_CONDITION                0\n",
       "WEATHER_CONDITION               0\n",
       "LIGHTING_CONDITION              0\n",
       "FIRST_CRASH_TYPE                0\n",
       "TRAFFICWAY_TYPE                 0\n",
       "ALIGNMENT                       0\n",
       "ROADWAY_SURFACE_COND            0\n",
       "ROAD_DEFECT                     0\n",
       "CRASH_TYPE                      0\n",
       "INTERSECTION_RELATED_I     429100\n",
       "NOT_RIGHT_OF_WAY_I         528971\n",
       "HIT_AND_RUN_I              387461\n",
       "DAMAGE                          0\n",
       "PRIM_CONTRIBUTORY_CAUSE         0\n",
       "DOORING_I                  553422\n",
       "WORK_ZONE_I                551731\n",
       "WORK_ZONE_TYPE             552459\n",
       "WORKERS_PRESENT_I          554350\n",
       "NUM_UNITS                       0\n",
       "CRASH_HOUR                      0\n",
       "CRASH_DAY_OF_WEEK               0\n",
       "CRASH_MONTH                     0\n",
       "LATITUDE                     3207\n",
       "LONGITUDE                    3207\n",
       "LOCATION                     3207\n",
       "dtype: int64"
      ]
     },
     "execution_count": 8,
     "metadata": {},
     "output_type": "execute_result"
    }
   ],
   "source": [
    "# Check for missing values\n",
    "\n",
    "df_crashes_clean.isnull().sum()"
   ]
  },
  {
   "cell_type": "code",
   "execution_count": 9,
   "metadata": {},
   "outputs": [
    {
     "data": {
      "text/plain": [
       "(555219, 28)"
      ]
     },
     "execution_count": 9,
     "metadata": {},
     "output_type": "execute_result"
    }
   ],
   "source": [
    "# Check the total count of the dataset\n",
    "\n",
    "df_crashes_clean.shape"
   ]
  },
  {
   "cell_type": "markdown",
   "metadata": {},
   "source": [
    "Out of 555,219 total values, some of the columns above show majority of missing values. We will drop these columns."
   ]
  },
  {
   "cell_type": "code",
   "execution_count": 10,
   "metadata": {},
   "outputs": [],
   "source": [
    "df_crashes_clean.drop(['INTERSECTION_RELATED_I', 'NOT_RIGHT_OF_WAY_I','HIT_AND_RUN_I',\n",
    "                       'DOORING_I','WORK_ZONE_I','WORK_ZONE_TYPE', 'WORKERS_PRESENT_I'], axis=1, inplace=True)"
   ]
  },
  {
   "cell_type": "code",
   "execution_count": 11,
   "metadata": {},
   "outputs": [
    {
     "data": {
      "text/plain": [
       "CRASH_RECORD_ID               0\n",
       "POSTED_SPEED_LIMIT            0\n",
       "TRAFFIC_CONTROL_DEVICE        0\n",
       "DEVICE_CONDITION              0\n",
       "WEATHER_CONDITION             0\n",
       "LIGHTING_CONDITION            0\n",
       "FIRST_CRASH_TYPE              0\n",
       "TRAFFICWAY_TYPE               0\n",
       "ALIGNMENT                     0\n",
       "ROADWAY_SURFACE_COND          0\n",
       "ROAD_DEFECT                   0\n",
       "CRASH_TYPE                    0\n",
       "DAMAGE                        0\n",
       "PRIM_CONTRIBUTORY_CAUSE       0\n",
       "NUM_UNITS                     0\n",
       "CRASH_HOUR                    0\n",
       "CRASH_DAY_OF_WEEK             0\n",
       "CRASH_MONTH                   0\n",
       "LATITUDE                   3207\n",
       "LONGITUDE                  3207\n",
       "LOCATION                   3207\n",
       "dtype: int64"
      ]
     },
     "execution_count": 11,
     "metadata": {},
     "output_type": "execute_result"
    }
   ],
   "source": [
    "df_crashes_clean.isnull().sum()"
   ]
  },
  {
   "cell_type": "markdown",
   "metadata": {},
   "source": [
    "The missing values in the last three columns represent a very small portion of the data. To preserve information available in rest of the columns, we will replace these values with zero."
   ]
  },
  {
   "cell_type": "code",
   "execution_count": 12,
   "metadata": {},
   "outputs": [],
   "source": [
    "# Replace missing values with 0\n",
    "\n",
    "df_crashes_clean.fillna(0, axis=0, inplace=True)"
   ]
  },
  {
   "cell_type": "code",
   "execution_count": 13,
   "metadata": {},
   "outputs": [
    {
     "data": {
      "text/plain": [
       "CRASH_RECORD_ID            0\n",
       "POSTED_SPEED_LIMIT         0\n",
       "TRAFFIC_CONTROL_DEVICE     0\n",
       "DEVICE_CONDITION           0\n",
       "WEATHER_CONDITION          0\n",
       "LIGHTING_CONDITION         0\n",
       "FIRST_CRASH_TYPE           0\n",
       "TRAFFICWAY_TYPE            0\n",
       "ALIGNMENT                  0\n",
       "ROADWAY_SURFACE_COND       0\n",
       "ROAD_DEFECT                0\n",
       "CRASH_TYPE                 0\n",
       "DAMAGE                     0\n",
       "PRIM_CONTRIBUTORY_CAUSE    0\n",
       "NUM_UNITS                  0\n",
       "CRASH_HOUR                 0\n",
       "CRASH_DAY_OF_WEEK          0\n",
       "CRASH_MONTH                0\n",
       "LATITUDE                   0\n",
       "LONGITUDE                  0\n",
       "LOCATION                   0\n",
       "dtype: int64"
      ]
     },
     "execution_count": 13,
     "metadata": {},
     "output_type": "execute_result"
    }
   ],
   "source": [
    "df_crashes_clean.isnull().sum()"
   ]
  },
  {
   "cell_type": "markdown",
   "metadata": {},
   "source": [
    "Let's explore other datasets to see what we can find."
   ]
  },
  {
   "cell_type": "markdown",
   "metadata": {},
   "source": [
    "### Traffic Vehicle Dataset"
   ]
  },
  {
   "cell_type": "code",
   "execution_count": 14,
   "metadata": {},
   "outputs": [
    {
     "data": {
      "text/html": [
       "<div>\n",
       "<style scoped>\n",
       "    .dataframe tbody tr th:only-of-type {\n",
       "        vertical-align: middle;\n",
       "    }\n",
       "\n",
       "    .dataframe tbody tr th {\n",
       "        vertical-align: top;\n",
       "    }\n",
       "\n",
       "    .dataframe thead th {\n",
       "        text-align: right;\n",
       "    }\n",
       "</style>\n",
       "<table border=\"1\" class=\"dataframe\">\n",
       "  <thead>\n",
       "    <tr style=\"text-align: right;\">\n",
       "      <th></th>\n",
       "      <th>CRASH_UNIT_ID</th>\n",
       "      <th>CRASH_RECORD_ID</th>\n",
       "      <th>RD_NO</th>\n",
       "      <th>CRASH_DATE</th>\n",
       "      <th>UNIT_NO</th>\n",
       "      <th>UNIT_TYPE</th>\n",
       "      <th>NUM_PASSENGERS</th>\n",
       "      <th>VEHICLE_ID</th>\n",
       "      <th>CMRC_VEH_I</th>\n",
       "      <th>MAKE</th>\n",
       "      <th>...</th>\n",
       "      <th>TRAILER1_LENGTH</th>\n",
       "      <th>TRAILER2_LENGTH</th>\n",
       "      <th>TOTAL_VEHICLE_LENGTH</th>\n",
       "      <th>AXLE_CNT</th>\n",
       "      <th>VEHICLE_CONFIG</th>\n",
       "      <th>CARGO_BODY_TYPE</th>\n",
       "      <th>LOAD_TYPE</th>\n",
       "      <th>HAZMAT_OUT_OF_SERVICE_I</th>\n",
       "      <th>MCS_OUT_OF_SERVICE_I</th>\n",
       "      <th>HAZMAT_CLASS</th>\n",
       "    </tr>\n",
       "  </thead>\n",
       "  <tbody>\n",
       "    <tr>\n",
       "      <th>0</th>\n",
       "      <td>829999</td>\n",
       "      <td>24ddf9fd8542199d832e1c223cc474e5601b356f1d77a6...</td>\n",
       "      <td>JD124535</td>\n",
       "      <td>01/22/2020 06:25:00 AM</td>\n",
       "      <td>1</td>\n",
       "      <td>DRIVER</td>\n",
       "      <td>NaN</td>\n",
       "      <td>796949</td>\n",
       "      <td>NaN</td>\n",
       "      <td>INFINITI</td>\n",
       "      <td>...</td>\n",
       "      <td>NaN</td>\n",
       "      <td>NaN</td>\n",
       "      <td>NaN</td>\n",
       "      <td>NaN</td>\n",
       "      <td>NaN</td>\n",
       "      <td>NaN</td>\n",
       "      <td>NaN</td>\n",
       "      <td>NaN</td>\n",
       "      <td>NaN</td>\n",
       "      <td>NaN</td>\n",
       "    </tr>\n",
       "    <tr>\n",
       "      <th>1</th>\n",
       "      <td>749947</td>\n",
       "      <td>81dc0de2ed92aa62baccab641fa377be7feb1cc47e6554...</td>\n",
       "      <td>JC451435</td>\n",
       "      <td>09/28/2019 03:30:00 AM</td>\n",
       "      <td>1</td>\n",
       "      <td>DRIVER</td>\n",
       "      <td>NaN</td>\n",
       "      <td>834816</td>\n",
       "      <td>NaN</td>\n",
       "      <td>HONDA</td>\n",
       "      <td>...</td>\n",
       "      <td>NaN</td>\n",
       "      <td>NaN</td>\n",
       "      <td>NaN</td>\n",
       "      <td>NaN</td>\n",
       "      <td>NaN</td>\n",
       "      <td>NaN</td>\n",
       "      <td>NaN</td>\n",
       "      <td>NaN</td>\n",
       "      <td>NaN</td>\n",
       "      <td>NaN</td>\n",
       "    </tr>\n",
       "    <tr>\n",
       "      <th>2</th>\n",
       "      <td>749949</td>\n",
       "      <td>81dc0de2ed92aa62baccab641fa377be7feb1cc47e6554...</td>\n",
       "      <td>JC451435</td>\n",
       "      <td>09/28/2019 03:30:00 AM</td>\n",
       "      <td>2</td>\n",
       "      <td>PARKED</td>\n",
       "      <td>NaN</td>\n",
       "      <td>834819</td>\n",
       "      <td>NaN</td>\n",
       "      <td>TOYOTA</td>\n",
       "      <td>...</td>\n",
       "      <td>NaN</td>\n",
       "      <td>NaN</td>\n",
       "      <td>NaN</td>\n",
       "      <td>NaN</td>\n",
       "      <td>NaN</td>\n",
       "      <td>NaN</td>\n",
       "      <td>NaN</td>\n",
       "      <td>NaN</td>\n",
       "      <td>NaN</td>\n",
       "      <td>NaN</td>\n",
       "    </tr>\n",
       "    <tr>\n",
       "      <th>3</th>\n",
       "      <td>749950</td>\n",
       "      <td>81dc0de2ed92aa62baccab641fa377be7feb1cc47e6554...</td>\n",
       "      <td>JC451435</td>\n",
       "      <td>09/28/2019 03:30:00 AM</td>\n",
       "      <td>3</td>\n",
       "      <td>PARKED</td>\n",
       "      <td>NaN</td>\n",
       "      <td>834817</td>\n",
       "      <td>NaN</td>\n",
       "      <td>GENERAL MOTORS CORPORATION (GMC)</td>\n",
       "      <td>...</td>\n",
       "      <td>NaN</td>\n",
       "      <td>NaN</td>\n",
       "      <td>NaN</td>\n",
       "      <td>NaN</td>\n",
       "      <td>NaN</td>\n",
       "      <td>NaN</td>\n",
       "      <td>NaN</td>\n",
       "      <td>NaN</td>\n",
       "      <td>NaN</td>\n",
       "      <td>NaN</td>\n",
       "    </tr>\n",
       "    <tr>\n",
       "      <th>4</th>\n",
       "      <td>871921</td>\n",
       "      <td>af84fb5c8d996fcd3aefd36593c3a02e6e7509eeb27568...</td>\n",
       "      <td>JD208731</td>\n",
       "      <td>04/13/2020 10:50:00 PM</td>\n",
       "      <td>2</td>\n",
       "      <td>DRIVER</td>\n",
       "      <td>NaN</td>\n",
       "      <td>827212</td>\n",
       "      <td>NaN</td>\n",
       "      <td>BUICK</td>\n",
       "      <td>...</td>\n",
       "      <td>NaN</td>\n",
       "      <td>NaN</td>\n",
       "      <td>NaN</td>\n",
       "      <td>NaN</td>\n",
       "      <td>NaN</td>\n",
       "      <td>NaN</td>\n",
       "      <td>NaN</td>\n",
       "      <td>NaN</td>\n",
       "      <td>NaN</td>\n",
       "      <td>NaN</td>\n",
       "    </tr>\n",
       "  </tbody>\n",
       "</table>\n",
       "<p>5 rows × 72 columns</p>\n",
       "</div>"
      ],
      "text/plain": [
       "  CRASH_UNIT_ID                                    CRASH_RECORD_ID     RD_NO  \\\n",
       "0        829999  24ddf9fd8542199d832e1c223cc474e5601b356f1d77a6...  JD124535   \n",
       "1        749947  81dc0de2ed92aa62baccab641fa377be7feb1cc47e6554...  JC451435   \n",
       "2        749949  81dc0de2ed92aa62baccab641fa377be7feb1cc47e6554...  JC451435   \n",
       "3        749950  81dc0de2ed92aa62baccab641fa377be7feb1cc47e6554...  JC451435   \n",
       "4        871921  af84fb5c8d996fcd3aefd36593c3a02e6e7509eeb27568...  JD208731   \n",
       "\n",
       "               CRASH_DATE UNIT_NO UNIT_TYPE NUM_PASSENGERS VEHICLE_ID  \\\n",
       "0  01/22/2020 06:25:00 AM       1    DRIVER            NaN     796949   \n",
       "1  09/28/2019 03:30:00 AM       1    DRIVER            NaN     834816   \n",
       "2  09/28/2019 03:30:00 AM       2    PARKED            NaN     834819   \n",
       "3  09/28/2019 03:30:00 AM       3    PARKED            NaN     834817   \n",
       "4  04/13/2020 10:50:00 PM       2    DRIVER            NaN     827212   \n",
       "\n",
       "  CMRC_VEH_I                              MAKE  ... TRAILER1_LENGTH  \\\n",
       "0        NaN                          INFINITI  ...             NaN   \n",
       "1        NaN                             HONDA  ...             NaN   \n",
       "2        NaN                            TOYOTA  ...             NaN   \n",
       "3        NaN  GENERAL MOTORS CORPORATION (GMC)  ...             NaN   \n",
       "4        NaN                             BUICK  ...             NaN   \n",
       "\n",
       "  TRAILER2_LENGTH TOTAL_VEHICLE_LENGTH AXLE_CNT VEHICLE_CONFIG  \\\n",
       "0             NaN                  NaN      NaN            NaN   \n",
       "1             NaN                  NaN      NaN            NaN   \n",
       "2             NaN                  NaN      NaN            NaN   \n",
       "3             NaN                  NaN      NaN            NaN   \n",
       "4             NaN                  NaN      NaN            NaN   \n",
       "\n",
       "  CARGO_BODY_TYPE LOAD_TYPE HAZMAT_OUT_OF_SERVICE_I MCS_OUT_OF_SERVICE_I  \\\n",
       "0             NaN       NaN                     NaN                  NaN   \n",
       "1             NaN       NaN                     NaN                  NaN   \n",
       "2             NaN       NaN                     NaN                  NaN   \n",
       "3             NaN       NaN                     NaN                  NaN   \n",
       "4             NaN       NaN                     NaN                  NaN   \n",
       "\n",
       "  HAZMAT_CLASS  \n",
       "0          NaN  \n",
       "1          NaN  \n",
       "2          NaN  \n",
       "3          NaN  \n",
       "4          NaN  \n",
       "\n",
       "[5 rows x 72 columns]"
      ]
     },
     "execution_count": 14,
     "metadata": {},
     "output_type": "execute_result"
    }
   ],
   "source": [
    "df_vehicles_raw.head()"
   ]
  },
  {
   "cell_type": "code",
   "execution_count": 15,
   "metadata": {},
   "outputs": [
    {
     "data": {
      "text/plain": [
       "Index(['CRASH_UNIT_ID', 'CRASH_RECORD_ID', 'RD_NO', 'CRASH_DATE', 'UNIT_NO',\n",
       "       'UNIT_TYPE', 'NUM_PASSENGERS', 'VEHICLE_ID', 'CMRC_VEH_I', 'MAKE',\n",
       "       'MODEL', 'LIC_PLATE_STATE', 'VEHICLE_YEAR', 'VEHICLE_DEFECT',\n",
       "       'VEHICLE_TYPE', 'VEHICLE_USE', 'TRAVEL_DIRECTION', 'MANEUVER',\n",
       "       'TOWED_I', 'FIRE_I', 'OCCUPANT_CNT', 'EXCEED_SPEED_LIMIT_I', 'TOWED_BY',\n",
       "       'TOWED_TO', 'AREA_00_I', 'AREA_01_I', 'AREA_02_I', 'AREA_03_I',\n",
       "       'AREA_04_I', 'AREA_05_I', 'AREA_06_I', 'AREA_07_I', 'AREA_08_I',\n",
       "       'AREA_09_I', 'AREA_10_I', 'AREA_11_I', 'AREA_12_I', 'AREA_99_I',\n",
       "       'FIRST_CONTACT_POINT', 'CMV_ID', 'USDOT_NO', 'CCMC_NO', 'ILCC_NO',\n",
       "       'COMMERCIAL_SRC', 'GVWR', 'CARRIER_NAME', 'CARRIER_STATE',\n",
       "       'CARRIER_CITY', 'HAZMAT_PLACARDS_I', 'HAZMAT_NAME', 'UN_NO',\n",
       "       'HAZMAT_PRESENT_I', 'HAZMAT_REPORT_I', 'HAZMAT_REPORT_NO',\n",
       "       'MCS_REPORT_I', 'MCS_REPORT_NO', 'HAZMAT_VIO_CAUSE_CRASH_I',\n",
       "       'MCS_VIO_CAUSE_CRASH_I', 'IDOT_PERMIT_NO', 'WIDE_LOAD_I',\n",
       "       'TRAILER1_WIDTH', 'TRAILER2_WIDTH', 'TRAILER1_LENGTH',\n",
       "       'TRAILER2_LENGTH', 'TOTAL_VEHICLE_LENGTH', 'AXLE_CNT', 'VEHICLE_CONFIG',\n",
       "       'CARGO_BODY_TYPE', 'LOAD_TYPE', 'HAZMAT_OUT_OF_SERVICE_I',\n",
       "       'MCS_OUT_OF_SERVICE_I', 'HAZMAT_CLASS'],\n",
       "      dtype='object')"
      ]
     },
     "execution_count": 15,
     "metadata": {},
     "output_type": "execute_result"
    }
   ],
   "source": [
    "# Check all variables in the dataset\n",
    "\n",
    "df_vehicles_raw.columns"
   ]
  },
  {
   "cell_type": "markdown",
   "metadata": {},
   "source": [
    "Here also, we have a lot of variables that we do not need for our analysis. We will remove these columns. "
   ]
  },
  {
   "cell_type": "code",
   "execution_count": 16,
   "metadata": {},
   "outputs": [],
   "source": [
    "columns_to_delete_vehicles = ['CRASH_UNIT_ID', 'CRASH_RECORD_ID', 'RD_NO', 'CRASH_DATE',\n",
    "       'NUM_PASSENGERS', 'CMRC_VEH_I', 'MAKE','MODEL', 'LIC_PLATE_STATE', \n",
    "       'VEHICLE_YEAR','TOWED_I', 'FIRE_I', 'OCCUPANT_CNT', \n",
    "       'TOWED_BY', 'TOWED_TO', 'AREA_00_I', 'AREA_01_I', 'AREA_02_I', 'AREA_03_I',\n",
    "       'AREA_04_I', 'AREA_05_I', 'AREA_06_I', 'AREA_07_I', 'AREA_08_I',\n",
    "       'AREA_09_I', 'AREA_10_I', 'AREA_11_I', 'AREA_12_I', 'AREA_99_I',\n",
    "       'CMV_ID', 'USDOT_NO', 'CCMC_NO', 'ILCC_NO',\n",
    "       'COMMERCIAL_SRC', 'GVWR', 'CARRIER_NAME', 'CARRIER_STATE',\n",
    "       'CARRIER_CITY', 'HAZMAT_PLACARDS_I', 'HAZMAT_NAME', 'UN_NO',\n",
    "       'HAZMAT_PRESENT_I', 'HAZMAT_REPORT_I', 'HAZMAT_REPORT_NO',\n",
    "       'MCS_REPORT_I', 'MCS_REPORT_NO', 'HAZMAT_VIO_CAUSE_CRASH_I',\n",
    "       'MCS_VIO_CAUSE_CRASH_I', 'IDOT_PERMIT_NO', 'WIDE_LOAD_I',\n",
    "       'TRAILER1_WIDTH', 'TRAILER2_WIDTH', 'TRAILER1_LENGTH',\n",
    "       'TRAILER2_LENGTH', 'TOTAL_VEHICLE_LENGTH', 'AXLE_CNT', 'VEHICLE_CONFIG',\n",
    "       'CARGO_BODY_TYPE', 'LOAD_TYPE', 'HAZMAT_OUT_OF_SERVICE_I',\n",
    "       'MCS_OUT_OF_SERVICE_I', 'HAZMAT_CLASS']"
   ]
  },
  {
   "cell_type": "code",
   "execution_count": 17,
   "metadata": {},
   "outputs": [],
   "source": [
    "# Drop the irrelevant columns\n",
    "\n",
    "df_vehicles_clean = df_vehicles_raw.drop(columns_to_delete_vehicles, axis=1).copy()"
   ]
  },
  {
   "cell_type": "code",
   "execution_count": 18,
   "metadata": {},
   "outputs": [
    {
     "data": {
      "text/plain": [
       "UNIT_NO                       0\n",
       "UNIT_TYPE                  1626\n",
       "VEHICLE_ID                26058\n",
       "VEHICLE_DEFECT            26058\n",
       "VEHICLE_TYPE              26058\n",
       "VEHICLE_USE               26058\n",
       "TRAVEL_DIRECTION          26058\n",
       "MANEUVER                  26058\n",
       "EXCEED_SPEED_LIMIT_I    1134303\n",
       "FIRST_CONTACT_POINT       34702\n",
       "dtype: int64"
      ]
     },
     "execution_count": 18,
     "metadata": {},
     "output_type": "execute_result"
    }
   ],
   "source": [
    "# Check for missing values\n",
    "\n",
    "df_vehicles_clean.isnull().sum()"
   ]
  },
  {
   "cell_type": "code",
   "execution_count": 19,
   "metadata": {},
   "outputs": [
    {
     "data": {
      "text/plain": [
       "(1136696, 10)"
      ]
     },
     "execution_count": 19,
     "metadata": {},
     "output_type": "execute_result"
    }
   ],
   "source": [
    "# Check the total count of the dataset\n",
    "\n",
    "df_vehicles_clean.shape"
   ]
  },
  {
   "cell_type": "markdown",
   "metadata": {},
   "source": [
    "EXCEED_SPEED_LIMIT_I column has majority values missings. Let's drop this column first."
   ]
  },
  {
   "cell_type": "code",
   "execution_count": 20,
   "metadata": {},
   "outputs": [],
   "source": [
    "# Drop Exceed_speed_limit\n",
    "\n",
    "df_vehicles_clean.drop('EXCEED_SPEED_LIMIT_I', axis=1, inplace=True)"
   ]
  },
  {
   "cell_type": "code",
   "execution_count": 21,
   "metadata": {},
   "outputs": [
    {
     "data": {
      "text/plain": [
       "UNIT_NO                    0\n",
       "UNIT_TYPE               1626\n",
       "VEHICLE_ID             26058\n",
       "VEHICLE_DEFECT         26058\n",
       "VEHICLE_TYPE           26058\n",
       "VEHICLE_USE            26058\n",
       "TRAVEL_DIRECTION       26058\n",
       "MANEUVER               26058\n",
       "FIRST_CONTACT_POINT    34702\n",
       "dtype: int64"
      ]
     },
     "execution_count": 21,
     "metadata": {},
     "output_type": "execute_result"
    }
   ],
   "source": [
    "df_vehicles_clean.isnull().sum()"
   ]
  },
  {
   "cell_type": "markdown",
   "metadata": {},
   "source": [
    "The rest of the missing values account for only 2% of the dataset. We will remove these values."
   ]
  },
  {
   "cell_type": "code",
   "execution_count": 22,
   "metadata": {},
   "outputs": [],
   "source": [
    "# Drop missing values\n",
    "\n",
    "df_vehicles_clean.dropna(axis=0, inplace=True)"
   ]
  },
  {
   "cell_type": "code",
   "execution_count": 23,
   "metadata": {},
   "outputs": [
    {
     "data": {
      "text/plain": [
       "UNIT_NO                0\n",
       "UNIT_TYPE              0\n",
       "VEHICLE_ID             0\n",
       "VEHICLE_DEFECT         0\n",
       "VEHICLE_TYPE           0\n",
       "VEHICLE_USE            0\n",
       "TRAVEL_DIRECTION       0\n",
       "MANEUVER               0\n",
       "FIRST_CONTACT_POINT    0\n",
       "dtype: int64"
      ]
     },
     "execution_count": 23,
     "metadata": {},
     "output_type": "execute_result"
    }
   ],
   "source": [
    "df_vehicles_clean.isnull().sum()"
   ]
  },
  {
   "cell_type": "markdown",
   "metadata": {},
   "source": [
    "Moving on to people data set."
   ]
  },
  {
   "cell_type": "markdown",
   "metadata": {},
   "source": [
    "### Traffic People Dataset"
   ]
  },
  {
   "cell_type": "code",
   "execution_count": 24,
   "metadata": {},
   "outputs": [
    {
     "data": {
      "text/html": [
       "<div>\n",
       "<style scoped>\n",
       "    .dataframe tbody tr th:only-of-type {\n",
       "        vertical-align: middle;\n",
       "    }\n",
       "\n",
       "    .dataframe tbody tr th {\n",
       "        vertical-align: top;\n",
       "    }\n",
       "\n",
       "    .dataframe thead th {\n",
       "        text-align: right;\n",
       "    }\n",
       "</style>\n",
       "<table border=\"1\" class=\"dataframe\">\n",
       "  <thead>\n",
       "    <tr style=\"text-align: right;\">\n",
       "      <th></th>\n",
       "      <th>PERSON_ID</th>\n",
       "      <th>PERSON_TYPE</th>\n",
       "      <th>CRASH_RECORD_ID</th>\n",
       "      <th>RD_NO</th>\n",
       "      <th>VEHICLE_ID</th>\n",
       "      <th>CRASH_DATE</th>\n",
       "      <th>SEAT_NO</th>\n",
       "      <th>CITY</th>\n",
       "      <th>STATE</th>\n",
       "      <th>ZIPCODE</th>\n",
       "      <th>...</th>\n",
       "      <th>EMS_RUN_NO</th>\n",
       "      <th>DRIVER_ACTION</th>\n",
       "      <th>DRIVER_VISION</th>\n",
       "      <th>PHYSICAL_CONDITION</th>\n",
       "      <th>PEDPEDAL_ACTION</th>\n",
       "      <th>PEDPEDAL_VISIBILITY</th>\n",
       "      <th>PEDPEDAL_LOCATION</th>\n",
       "      <th>BAC_RESULT</th>\n",
       "      <th>BAC_RESULT VALUE</th>\n",
       "      <th>CELL_PHONE_USE</th>\n",
       "    </tr>\n",
       "  </thead>\n",
       "  <tbody>\n",
       "    <tr>\n",
       "      <th>0</th>\n",
       "      <td>O749947</td>\n",
       "      <td>DRIVER</td>\n",
       "      <td>81dc0de2ed92aa62baccab641fa377be7feb1cc47e6554...</td>\n",
       "      <td>JC451435</td>\n",
       "      <td>834816</td>\n",
       "      <td>09/28/2019 03:30:00 AM</td>\n",
       "      <td>NaN</td>\n",
       "      <td>CHICAGO</td>\n",
       "      <td>IL</td>\n",
       "      <td>60651</td>\n",
       "      <td>...</td>\n",
       "      <td>NaN</td>\n",
       "      <td>UNKNOWN</td>\n",
       "      <td>UNKNOWN</td>\n",
       "      <td>UNKNOWN</td>\n",
       "      <td>NaN</td>\n",
       "      <td>NaN</td>\n",
       "      <td>NaN</td>\n",
       "      <td>TEST NOT OFFERED</td>\n",
       "      <td>NaN</td>\n",
       "      <td>NaN</td>\n",
       "    </tr>\n",
       "    <tr>\n",
       "      <th>1</th>\n",
       "      <td>O871921</td>\n",
       "      <td>DRIVER</td>\n",
       "      <td>af84fb5c8d996fcd3aefd36593c3a02e6e7509eeb27568...</td>\n",
       "      <td>JD208731</td>\n",
       "      <td>827212</td>\n",
       "      <td>04/13/2020 10:50:00 PM</td>\n",
       "      <td>NaN</td>\n",
       "      <td>CHICAGO</td>\n",
       "      <td>IL</td>\n",
       "      <td>60620</td>\n",
       "      <td>...</td>\n",
       "      <td>NaN</td>\n",
       "      <td>NONE</td>\n",
       "      <td>NOT OBSCURED</td>\n",
       "      <td>NORMAL</td>\n",
       "      <td>NaN</td>\n",
       "      <td>NaN</td>\n",
       "      <td>NaN</td>\n",
       "      <td>TEST NOT OFFERED</td>\n",
       "      <td>NaN</td>\n",
       "      <td>NaN</td>\n",
       "    </tr>\n",
       "    <tr>\n",
       "      <th>2</th>\n",
       "      <td>O10018</td>\n",
       "      <td>DRIVER</td>\n",
       "      <td>71162af7bf22799b776547132ebf134b5b438dcf3dac6b...</td>\n",
       "      <td>HY484534</td>\n",
       "      <td>9579</td>\n",
       "      <td>11/01/2015 05:00:00 AM</td>\n",
       "      <td>NaN</td>\n",
       "      <td>NaN</td>\n",
       "      <td>NaN</td>\n",
       "      <td>NaN</td>\n",
       "      <td>...</td>\n",
       "      <td>NaN</td>\n",
       "      <td>IMPROPER BACKING</td>\n",
       "      <td>UNKNOWN</td>\n",
       "      <td>UNKNOWN</td>\n",
       "      <td>NaN</td>\n",
       "      <td>NaN</td>\n",
       "      <td>NaN</td>\n",
       "      <td>TEST NOT OFFERED</td>\n",
       "      <td>NaN</td>\n",
       "      <td>NaN</td>\n",
       "    </tr>\n",
       "    <tr>\n",
       "      <th>3</th>\n",
       "      <td>O10038</td>\n",
       "      <td>DRIVER</td>\n",
       "      <td>c21c476e2ccc41af550b5d858d22aaac4ffc88745a1700...</td>\n",
       "      <td>HY484750</td>\n",
       "      <td>9598</td>\n",
       "      <td>11/01/2015 08:00:00 AM</td>\n",
       "      <td>NaN</td>\n",
       "      <td>NaN</td>\n",
       "      <td>NaN</td>\n",
       "      <td>NaN</td>\n",
       "      <td>...</td>\n",
       "      <td>NaN</td>\n",
       "      <td>UNKNOWN</td>\n",
       "      <td>UNKNOWN</td>\n",
       "      <td>UNKNOWN</td>\n",
       "      <td>NaN</td>\n",
       "      <td>NaN</td>\n",
       "      <td>NaN</td>\n",
       "      <td>TEST NOT OFFERED</td>\n",
       "      <td>NaN</td>\n",
       "      <td>NaN</td>\n",
       "    </tr>\n",
       "    <tr>\n",
       "      <th>4</th>\n",
       "      <td>O10039</td>\n",
       "      <td>DRIVER</td>\n",
       "      <td>eb390a4c8e114c69488f5fb8a097fe629f5a92fd528cf4...</td>\n",
       "      <td>HY484778</td>\n",
       "      <td>9600</td>\n",
       "      <td>11/01/2015 10:15:00 AM</td>\n",
       "      <td>NaN</td>\n",
       "      <td>NaN</td>\n",
       "      <td>NaN</td>\n",
       "      <td>NaN</td>\n",
       "      <td>...</td>\n",
       "      <td>NaN</td>\n",
       "      <td>UNKNOWN</td>\n",
       "      <td>UNKNOWN</td>\n",
       "      <td>UNKNOWN</td>\n",
       "      <td>NaN</td>\n",
       "      <td>NaN</td>\n",
       "      <td>NaN</td>\n",
       "      <td>TEST NOT OFFERED</td>\n",
       "      <td>NaN</td>\n",
       "      <td>NaN</td>\n",
       "    </tr>\n",
       "  </tbody>\n",
       "</table>\n",
       "<p>5 rows × 30 columns</p>\n",
       "</div>"
      ],
      "text/plain": [
       "  PERSON_ID PERSON_TYPE                                    CRASH_RECORD_ID  \\\n",
       "0   O749947      DRIVER  81dc0de2ed92aa62baccab641fa377be7feb1cc47e6554...   \n",
       "1   O871921      DRIVER  af84fb5c8d996fcd3aefd36593c3a02e6e7509eeb27568...   \n",
       "2    O10018      DRIVER  71162af7bf22799b776547132ebf134b5b438dcf3dac6b...   \n",
       "3    O10038      DRIVER  c21c476e2ccc41af550b5d858d22aaac4ffc88745a1700...   \n",
       "4    O10039      DRIVER  eb390a4c8e114c69488f5fb8a097fe629f5a92fd528cf4...   \n",
       "\n",
       "      RD_NO VEHICLE_ID              CRASH_DATE SEAT_NO     CITY STATE ZIPCODE  \\\n",
       "0  JC451435     834816  09/28/2019 03:30:00 AM     NaN  CHICAGO    IL   60651   \n",
       "1  JD208731     827212  04/13/2020 10:50:00 PM     NaN  CHICAGO    IL   60620   \n",
       "2  HY484534       9579  11/01/2015 05:00:00 AM     NaN      NaN   NaN     NaN   \n",
       "3  HY484750       9598  11/01/2015 08:00:00 AM     NaN      NaN   NaN     NaN   \n",
       "4  HY484778       9600  11/01/2015 10:15:00 AM     NaN      NaN   NaN     NaN   \n",
       "\n",
       "   ... EMS_RUN_NO     DRIVER_ACTION DRIVER_VISION PHYSICAL_CONDITION  \\\n",
       "0  ...        NaN           UNKNOWN       UNKNOWN            UNKNOWN   \n",
       "1  ...        NaN              NONE  NOT OBSCURED             NORMAL   \n",
       "2  ...        NaN  IMPROPER BACKING       UNKNOWN            UNKNOWN   \n",
       "3  ...        NaN           UNKNOWN       UNKNOWN            UNKNOWN   \n",
       "4  ...        NaN           UNKNOWN       UNKNOWN            UNKNOWN   \n",
       "\n",
       "  PEDPEDAL_ACTION PEDPEDAL_VISIBILITY PEDPEDAL_LOCATION        BAC_RESULT  \\\n",
       "0             NaN                 NaN               NaN  TEST NOT OFFERED   \n",
       "1             NaN                 NaN               NaN  TEST NOT OFFERED   \n",
       "2             NaN                 NaN               NaN  TEST NOT OFFERED   \n",
       "3             NaN                 NaN               NaN  TEST NOT OFFERED   \n",
       "4             NaN                 NaN               NaN  TEST NOT OFFERED   \n",
       "\n",
       "  BAC_RESULT VALUE CELL_PHONE_USE  \n",
       "0              NaN            NaN  \n",
       "1              NaN            NaN  \n",
       "2              NaN            NaN  \n",
       "3              NaN            NaN  \n",
       "4              NaN            NaN  \n",
       "\n",
       "[5 rows x 30 columns]"
      ]
     },
     "execution_count": 24,
     "metadata": {},
     "output_type": "execute_result"
    }
   ],
   "source": [
    "df_people_raw.head()"
   ]
  },
  {
   "cell_type": "code",
   "execution_count": 25,
   "metadata": {},
   "outputs": [
    {
     "data": {
      "text/plain": [
       "Index(['PERSON_ID', 'PERSON_TYPE', 'CRASH_RECORD_ID', 'RD_NO', 'VEHICLE_ID',\n",
       "       'CRASH_DATE', 'SEAT_NO', 'CITY', 'STATE', 'ZIPCODE', 'SEX', 'AGE',\n",
       "       'DRIVERS_LICENSE_STATE', 'DRIVERS_LICENSE_CLASS', 'SAFETY_EQUIPMENT',\n",
       "       'AIRBAG_DEPLOYED', 'EJECTION', 'INJURY_CLASSIFICATION', 'HOSPITAL',\n",
       "       'EMS_AGENCY', 'EMS_RUN_NO', 'DRIVER_ACTION', 'DRIVER_VISION',\n",
       "       'PHYSICAL_CONDITION', 'PEDPEDAL_ACTION', 'PEDPEDAL_VISIBILITY',\n",
       "       'PEDPEDAL_LOCATION', 'BAC_RESULT', 'BAC_RESULT VALUE',\n",
       "       'CELL_PHONE_USE'],\n",
       "      dtype='object')"
      ]
     },
     "execution_count": 25,
     "metadata": {},
     "output_type": "execute_result"
    }
   ],
   "source": [
    "df_people_raw.columns"
   ]
  },
  {
   "cell_type": "markdown",
   "metadata": {},
   "source": [
    "With the people dataset, we will be looking at the personal characterstics of the person and action he/she took to classify the car crash. With this in mind, we can remove the following variables."
   ]
  },
  {
   "cell_type": "code",
   "execution_count": 26,
   "metadata": {},
   "outputs": [],
   "source": [
    "columns_to_delete_people = ['PERSON_ID', 'RD_NO', 'CRASH_DATE', 'SEAT_NO', 'CITY', 'STATE', 'ZIPCODE',\n",
    "       'DRIVERS_LICENSE_STATE', 'DRIVERS_LICENSE_CLASS', 'SAFETY_EQUIPMENT', 'AIRBAG_DEPLOYED', 'EJECTION', \n",
    "       'INJURY_CLASSIFICATION', 'HOSPITAL', 'EMS_AGENCY', 'EMS_RUN_NO','PEDPEDAL_LOCATION']"
   ]
  },
  {
   "cell_type": "code",
   "execution_count": 27,
   "metadata": {},
   "outputs": [],
   "source": [
    "# Drop irrelevant columns\n",
    "\n",
    "df_people_clean = df_people_raw.drop(columns_to_delete_people, axis=1).copy()"
   ]
  },
  {
   "cell_type": "code",
   "execution_count": 28,
   "metadata": {},
   "outputs": [
    {
     "data": {
      "text/plain": [
       "PERSON_TYPE                  0\n",
       "CRASH_RECORD_ID              0\n",
       "VEHICLE_ID               24298\n",
       "SEX                      18549\n",
       "AGE                     352917\n",
       "DRIVER_ACTION           252940\n",
       "DRIVER_VISION           253279\n",
       "PHYSICAL_CONDITION      252247\n",
       "PEDPEDAL_ACTION        1204023\n",
       "PEDPEDAL_VISIBILITY    1204073\n",
       "BAC_RESULT              251851\n",
       "BAC_RESULT VALUE       1225378\n",
       "CELL_PHONE_USE         1225765\n",
       "dtype: int64"
      ]
     },
     "execution_count": 28,
     "metadata": {},
     "output_type": "execute_result"
    }
   ],
   "source": [
    "# Check for missing values\n",
    "\n",
    "df_people_clean.isnull().sum()"
   ]
  },
  {
   "cell_type": "code",
   "execution_count": 29,
   "metadata": {},
   "outputs": [
    {
     "data": {
      "text/plain": [
       "(1226922, 13)"
      ]
     },
     "execution_count": 29,
     "metadata": {},
     "output_type": "execute_result"
    }
   ],
   "source": [
    "# Check the total count of the dataset\n",
    "\n",
    "df_people_clean.shape"
   ]
  },
  {
   "cell_type": "markdown",
   "metadata": {},
   "source": [
    "We have majority of values missing in the following columns:\n",
    "- PEPPEDAL_ACTION,\n",
    "- PEDPEDAL_VISIBILITY,\n",
    "- BAC_RESULT_VALUE, and \n",
    "- CELL_PHONE_USE\n",
    "\n",
    "We will drop these columns."
   ]
  },
  {
   "cell_type": "code",
   "execution_count": 30,
   "metadata": {},
   "outputs": [],
   "source": [
    "df_people_clean.drop(['PEDPEDAL_ACTION','PEDPEDAL_VISIBILITY', 'BAC_RESULT VALUE', \n",
    "                      'CELL_PHONE_USE'], axis=1, inplace=True)"
   ]
  },
  {
   "cell_type": "code",
   "execution_count": 31,
   "metadata": {},
   "outputs": [
    {
     "data": {
      "text/plain": [
       "PERSON_TYPE                0\n",
       "CRASH_RECORD_ID            0\n",
       "VEHICLE_ID             24298\n",
       "SEX                    18549\n",
       "AGE                   352917\n",
       "DRIVER_ACTION         252940\n",
       "DRIVER_VISION         253279\n",
       "PHYSICAL_CONDITION    252247\n",
       "BAC_RESULT            251851\n",
       "dtype: int64"
      ]
     },
     "execution_count": 31,
     "metadata": {},
     "output_type": "execute_result"
    }
   ],
   "source": [
    "df_people_clean.isnull().sum()"
   ]
  },
  {
   "cell_type": "markdown",
   "metadata": {},
   "source": [
    "The amount of missing values are about 20% of the dataset so we cannot drop them. We will look deeper into what kind of information these columns hold. "
   ]
  },
  {
   "cell_type": "code",
   "execution_count": 32,
   "metadata": {},
   "outputs": [
    {
     "name": "stdout",
     "output_type": "stream",
     "text": [
      "\n",
      "PERSON_TYPE\n",
      "\n",
      "DRIVER                 952473\n",
      "PASSENGER              250616\n",
      "PEDESTRIAN              14008\n",
      "BICYCLE                  8549\n",
      "NON-MOTOR VEHICLE        1055\n",
      "NON-CONTACT VEHICLE       221\n",
      "Name: PERSON_TYPE, dtype: int64\n",
      "\n",
      "CRASH_RECORD_ID\n",
      "\n",
      "31ecf6862c691ff12d3856213b902c146b07337b42a5692e3a176a66d684d221028bb5118ef6d67a313bcaed9e97bee1855cb1f5e8650f49e8dc17663475a1ee    61\n",
      "13026c7fb51566d9ca487a093e38c6f5621c2ec25be48c306b6574983b61daeee589524b96bb2bfe66ddd0f695c8d2bf3ab0297558528e9c7a70363c763d6bd1    50\n",
      "1829f52c1281a0396ef94692331b3dc530bc4be5a54cd55e94c24a5e5e49b800fbcf9f24dabe4c8277c8964ad05aadc89e90fd94021959d6dff5fad55480d595    46\n",
      "c727dc759107cf17b2e8141149347128bb4bc26b026c7805562206c7c5761c543dd7cc0e47fc11379455a2ecbb2847c3d1744d6feb78f276d9a457e9beeb6121    45\n",
      "60fbcef1942e23e9d93ba3fd5dd7f1da2c5b1e4bcc30731363a0f9ed822b5971a38d109cace85875dc2a7321d8a28ba40f24548d9ddd728f600af3b08c036a70    44\n",
      "                                                                                                                                    ..\n",
      "5b1bee595fbbe6e43daff68272944458fbfede0ef067b23eed75e054e299a238bc036a1739dd851f78fe7dd4aa98050025807180bb9a4a58c722e0237241221b     1\n",
      "6d5713e7f112d137679706f9bdd874b82eb9e3e3ee177aea8b0491d2a2a707e60a5a39a0e919984316f557063455f8a0173b02b1dfcc984003e762a8f309b3cb     1\n",
      "3997cddd1f228c52e843e07339dc3720c1185e5c839b617f244d2cd6e7d4aa272e7b9057865da3f4a646c1765da58a99199395134360b6d3e2acf28c0a644d2d     1\n",
      "df8f27619c47ccbca6f6cec96e1bcf7e4b1e1cc5d2ef1b85594bd8a9c87a803ab6b66f8163ce1748816cd7f3a702a92a0448c0763d4c8c3a6f56b80517e78e66     1\n",
      "a6d3ca93738bf6661cee0dec0f770d923040a0acde69197b11616a6b12bdefc36ae4bec283ddbf82f0b3bb4539f027128bb01efc66d128eaabcb925041486e4f     1\n",
      "Name: CRASH_RECORD_ID, Length: 554090, dtype: int64\n",
      "\n",
      "VEHICLE_ID\n",
      "\n",
      "332155    60\n",
      "643997    47\n",
      "162199    44\n",
      "366311    44\n",
      "25920     43\n",
      "          ..\n",
      "713770     1\n",
      "827971     1\n",
      "82539      1\n",
      "338399     1\n",
      "393730     1\n",
      "Name: VEHICLE_ID, Length: 963877, dtype: int64\n",
      "\n",
      "SEX\n",
      "\n",
      "M    638600\n",
      "F    463620\n",
      "X    106153\n",
      "Name: SEX, dtype: int64\n",
      "\n",
      "AGE\n",
      "\n",
      "25      25260\n",
      "26      25005\n",
      "27      24791\n",
      "28      24249\n",
      "24      24219\n",
      "        ...  \n",
      "106         1\n",
      "-40         1\n",
      "-177        1\n",
      "-47         1\n",
      "-49         1\n",
      "Name: AGE, Length: 116, dtype: int64\n",
      "\n",
      "DRIVER_ACTION\n",
      "\n",
      "NONE                                 353547\n",
      "UNKNOWN                              234576\n",
      "FAILED TO YIELD                       89967\n",
      "OTHER                                 84367\n",
      "FOLLOWED TOO CLOSELY                  62169\n",
      "IMPROPER BACKING                      30850\n",
      "IMPROPER TURN                         25750\n",
      "IMPROPER LANE CHANGE                  25641\n",
      "IMPROPER PASSING                      21606\n",
      "DISREGARDED CONTROL DEVICES           16387\n",
      "TOO FAST FOR CONDITIONS               15691\n",
      "WRONG WAY/SIDE                         3760\n",
      "IMPROPER PARKING                       3759\n",
      "CELL PHONE USE OTHER THAN TEXTING      1608\n",
      "EVADING POLICE VEHICLE                 1596\n",
      "OVERCORRECTED                          1201\n",
      "EMERGENCY VEHICLE ON CALL               925\n",
      "TEXTING                                 425\n",
      "STOPPED SCHOOL BUS                      113\n",
      "LICENSE RESTRICTIONS                     44\n",
      "Name: DRIVER_ACTION, dtype: int64\n",
      "\n",
      "DRIVER_VISION\n",
      "\n",
      "NOT OBSCURED              523296\n",
      "UNKNOWN                   425185\n",
      "OTHER                      10244\n",
      "MOVING VEHICLES             5988\n",
      "PARKED VEHICLES             3625\n",
      "WINDSHIELD (WATER/ICE)      2957\n",
      "BLINDED - SUNLIGHT          1175\n",
      "TREES, PLANTS                465\n",
      "BUILDINGS                    379\n",
      "BLINDED - HEADLIGHTS          92\n",
      "HILLCREST                     76\n",
      "BLOWING MATERIALS             75\n",
      "EMBANKMENT                    62\n",
      "SIGNBOARD                     24\n",
      "Name: DRIVER_VISION, dtype: int64\n",
      "\n",
      "PHYSICAL_CONDITION\n",
      "\n",
      "NORMAL                          649591\n",
      "UNKNOWN                         306472\n",
      "IMPAIRED - ALCOHOL                4658\n",
      "REMOVED BY EMS                    3779\n",
      "OTHER                             2818\n",
      "FATIGUED/ASLEEP                   2604\n",
      "EMOTIONAL                         2137\n",
      "ILLNESS/FAINTED                    919\n",
      "HAD BEEN DRINKING                  773\n",
      "IMPAIRED - DRUGS                   565\n",
      "IMPAIRED - ALCOHOL AND DRUGS       236\n",
      "MEDICATED                          123\n",
      "Name: PHYSICAL_CONDITION, dtype: int64\n",
      "\n",
      "BAC_RESULT\n",
      "\n",
      "TEST NOT OFFERED                   960116\n",
      "TEST REFUSED                        10617\n",
      "TEST PERFORMED, RESULTS UNKNOWN      2470\n",
      "TEST TAKEN                           1868\n",
      "Name: BAC_RESULT, dtype: int64\n"
     ]
    }
   ],
   "source": [
    "# Loop through each of the columns and print it's unique values\n",
    "\n",
    "for col in df_people_clean.columns:\n",
    "    print('\\n' + col + '\\n')\n",
    "    print(df_people_clean[col].value_counts())"
   ]
  },
  {
   "cell_type": "markdown",
   "metadata": {},
   "source": [
    "Looking at the details above:\n",
    "\n",
    "- We are only interested in the DRIVER for PERSON_TYPE. We will slice the rest out of the dataset.\n",
    "- 'SEX - X' and negative 'AGE' values does not explain much about the person. We will slice them out of the dataset.\n",
    "- DRIVER_ACTION seems more of a target variable rather than a predictor. We will drop this column.\n",
    "- BAC_RESULT has mostly TEST NOT OFFERED. The rest of the data will not be able to add much weight for this predictor. We will drop this as well."
   ]
  },
  {
   "cell_type": "code",
   "execution_count": 33,
   "metadata": {},
   "outputs": [],
   "source": [
    "# Drop the irrelevant columns first\n",
    "\n",
    "df_people_clean.drop(['DRIVER_ACTION', 'BAC_RESULT'], axis=1, inplace=True)"
   ]
  },
  {
   "cell_type": "code",
   "execution_count": 34,
   "metadata": {},
   "outputs": [],
   "source": [
    "# Slice the rest of the columns as mentioned\n",
    "\n",
    "df_people_clean = df_people_clean[(df_people_clean['PERSON_TYPE'] == 'DRIVER') & \n",
    "                                  (df_people_clean['SEX'] != 'X') & \n",
    "                                  (df_people_clean['AGE'] > '0')]"
   ]
  },
  {
   "cell_type": "code",
   "execution_count": 35,
   "metadata": {},
   "outputs": [
    {
     "data": {
      "text/plain": [
       "PERSON_TYPE             0\n",
       "CRASH_RECORD_ID         0\n",
       "VEHICLE_ID            374\n",
       "SEX                     0\n",
       "AGE                     0\n",
       "DRIVER_VISION           0\n",
       "PHYSICAL_CONDITION      0\n",
       "dtype: int64"
      ]
     },
     "execution_count": 35,
     "metadata": {},
     "output_type": "execute_result"
    }
   ],
   "source": [
    "df_people_clean.isnull().sum()"
   ]
  },
  {
   "cell_type": "markdown",
   "metadata": {},
   "source": [
    "The 374 missing values in VEHICLE_ID is minimal. We will drop these values."
   ]
  },
  {
   "cell_type": "code",
   "execution_count": 36,
   "metadata": {},
   "outputs": [],
   "source": [
    "# Remove the missing values\n",
    "\n",
    "df_people_clean.dropna(axis=0, inplace=True)"
   ]
  },
  {
   "cell_type": "code",
   "execution_count": 37,
   "metadata": {},
   "outputs": [
    {
     "data": {
      "text/plain": [
       "(693111, 7)"
      ]
     },
     "execution_count": 37,
     "metadata": {},
     "output_type": "execute_result"
    }
   ],
   "source": [
    "# Check the final count of the dataset\n",
    "\n",
    "df_people_clean.shape"
   ]
  },
  {
   "cell_type": "markdown",
   "metadata": {},
   "source": [
    "Now, that all the datasets are cleaned, we will merge them together."
   ]
  },
  {
   "cell_type": "markdown",
   "metadata": {},
   "source": [
    "### Merge all datasets"
   ]
  },
  {
   "cell_type": "markdown",
   "metadata": {},
   "source": [
    "We will start the merge with the 'Vehicles' and 'People' dataset first. Since these are instances reported in a crash where a vehicle was involved, we will use the VEHICLE_ID as the unique key to merge them."
   ]
  },
  {
   "cell_type": "code",
   "execution_count": 38,
   "metadata": {},
   "outputs": [],
   "source": [
    "df_vehicles_people = pd.merge(df_vehicles_clean, df_people_clean, on=['VEHICLE_ID'], how = 'inner')"
   ]
  },
  {
   "cell_type": "code",
   "execution_count": 39,
   "metadata": {},
   "outputs": [
    {
     "data": {
      "text/html": [
       "<div>\n",
       "<style scoped>\n",
       "    .dataframe tbody tr th:only-of-type {\n",
       "        vertical-align: middle;\n",
       "    }\n",
       "\n",
       "    .dataframe tbody tr th {\n",
       "        vertical-align: top;\n",
       "    }\n",
       "\n",
       "    .dataframe thead th {\n",
       "        text-align: right;\n",
       "    }\n",
       "</style>\n",
       "<table border=\"1\" class=\"dataframe\">\n",
       "  <thead>\n",
       "    <tr style=\"text-align: right;\">\n",
       "      <th></th>\n",
       "      <th>UNIT_NO</th>\n",
       "      <th>UNIT_TYPE</th>\n",
       "      <th>VEHICLE_ID</th>\n",
       "      <th>VEHICLE_DEFECT</th>\n",
       "      <th>VEHICLE_TYPE</th>\n",
       "      <th>VEHICLE_USE</th>\n",
       "      <th>TRAVEL_DIRECTION</th>\n",
       "      <th>MANEUVER</th>\n",
       "      <th>FIRST_CONTACT_POINT</th>\n",
       "      <th>PERSON_TYPE</th>\n",
       "      <th>CRASH_RECORD_ID</th>\n",
       "      <th>SEX</th>\n",
       "      <th>AGE</th>\n",
       "      <th>DRIVER_VISION</th>\n",
       "      <th>PHYSICAL_CONDITION</th>\n",
       "    </tr>\n",
       "  </thead>\n",
       "  <tbody>\n",
       "    <tr>\n",
       "      <th>0</th>\n",
       "      <td>1</td>\n",
       "      <td>DRIVER</td>\n",
       "      <td>796949</td>\n",
       "      <td>NONE</td>\n",
       "      <td>PASSENGER</td>\n",
       "      <td>PERSONAL</td>\n",
       "      <td>N</td>\n",
       "      <td>STRAIGHT AHEAD</td>\n",
       "      <td>FRONT</td>\n",
       "      <td>DRIVER</td>\n",
       "      <td>24ddf9fd8542199d832e1c223cc474e5601b356f1d77a6...</td>\n",
       "      <td>M</td>\n",
       "      <td>35</td>\n",
       "      <td>NOT OBSCURED</td>\n",
       "      <td>NORMAL</td>\n",
       "    </tr>\n",
       "    <tr>\n",
       "      <th>1</th>\n",
       "      <td>1</td>\n",
       "      <td>DRIVER</td>\n",
       "      <td>834816</td>\n",
       "      <td>UNKNOWN</td>\n",
       "      <td>PASSENGER</td>\n",
       "      <td>PERSONAL</td>\n",
       "      <td>N</td>\n",
       "      <td>STRAIGHT AHEAD</td>\n",
       "      <td>FRONT</td>\n",
       "      <td>DRIVER</td>\n",
       "      <td>81dc0de2ed92aa62baccab641fa377be7feb1cc47e6554...</td>\n",
       "      <td>M</td>\n",
       "      <td>25</td>\n",
       "      <td>UNKNOWN</td>\n",
       "      <td>UNKNOWN</td>\n",
       "    </tr>\n",
       "    <tr>\n",
       "      <th>2</th>\n",
       "      <td>2</td>\n",
       "      <td>DRIVER</td>\n",
       "      <td>827212</td>\n",
       "      <td>NONE</td>\n",
       "      <td>PASSENGER</td>\n",
       "      <td>PERSONAL</td>\n",
       "      <td>W</td>\n",
       "      <td>STRAIGHT AHEAD</td>\n",
       "      <td>FRONT-RIGHT</td>\n",
       "      <td>DRIVER</td>\n",
       "      <td>af84fb5c8d996fcd3aefd36593c3a02e6e7509eeb27568...</td>\n",
       "      <td>M</td>\n",
       "      <td>37</td>\n",
       "      <td>NOT OBSCURED</td>\n",
       "      <td>NORMAL</td>\n",
       "    </tr>\n",
       "    <tr>\n",
       "      <th>3</th>\n",
       "      <td>1</td>\n",
       "      <td>DRIVER</td>\n",
       "      <td>792247</td>\n",
       "      <td>NONE</td>\n",
       "      <td>PASSENGER</td>\n",
       "      <td>PERSONAL</td>\n",
       "      <td>W</td>\n",
       "      <td>STRAIGHT AHEAD</td>\n",
       "      <td>OTHER</td>\n",
       "      <td>DRIVER</td>\n",
       "      <td>ecf9e646f89a73ed3df0f373e4fbd18e91f5a595004019...</td>\n",
       "      <td>F</td>\n",
       "      <td>32</td>\n",
       "      <td>NOT OBSCURED</td>\n",
       "      <td>NORMAL</td>\n",
       "    </tr>\n",
       "    <tr>\n",
       "      <th>4</th>\n",
       "      <td>2</td>\n",
       "      <td>DRIVER</td>\n",
       "      <td>792252</td>\n",
       "      <td>NONE</td>\n",
       "      <td>PASSENGER</td>\n",
       "      <td>PERSONAL</td>\n",
       "      <td>S</td>\n",
       "      <td>STRAIGHT AHEAD</td>\n",
       "      <td>ROOF</td>\n",
       "      <td>DRIVER</td>\n",
       "      <td>ecf9e646f89a73ed3df0f373e4fbd18e91f5a595004019...</td>\n",
       "      <td>F</td>\n",
       "      <td>37</td>\n",
       "      <td>NOT OBSCURED</td>\n",
       "      <td>NORMAL</td>\n",
       "    </tr>\n",
       "  </tbody>\n",
       "</table>\n",
       "</div>"
      ],
      "text/plain": [
       "  UNIT_NO UNIT_TYPE VEHICLE_ID VEHICLE_DEFECT VEHICLE_TYPE VEHICLE_USE  \\\n",
       "0       1    DRIVER     796949           NONE    PASSENGER    PERSONAL   \n",
       "1       1    DRIVER     834816        UNKNOWN    PASSENGER    PERSONAL   \n",
       "2       2    DRIVER     827212           NONE    PASSENGER    PERSONAL   \n",
       "3       1    DRIVER     792247           NONE    PASSENGER    PERSONAL   \n",
       "4       2    DRIVER     792252           NONE    PASSENGER    PERSONAL   \n",
       "\n",
       "  TRAVEL_DIRECTION        MANEUVER FIRST_CONTACT_POINT PERSON_TYPE  \\\n",
       "0                N  STRAIGHT AHEAD               FRONT      DRIVER   \n",
       "1                N  STRAIGHT AHEAD               FRONT      DRIVER   \n",
       "2                W  STRAIGHT AHEAD         FRONT-RIGHT      DRIVER   \n",
       "3                W  STRAIGHT AHEAD               OTHER      DRIVER   \n",
       "4                S  STRAIGHT AHEAD                ROOF      DRIVER   \n",
       "\n",
       "                                     CRASH_RECORD_ID SEX AGE DRIVER_VISION  \\\n",
       "0  24ddf9fd8542199d832e1c223cc474e5601b356f1d77a6...   M  35  NOT OBSCURED   \n",
       "1  81dc0de2ed92aa62baccab641fa377be7feb1cc47e6554...   M  25       UNKNOWN   \n",
       "2  af84fb5c8d996fcd3aefd36593c3a02e6e7509eeb27568...   M  37  NOT OBSCURED   \n",
       "3  ecf9e646f89a73ed3df0f373e4fbd18e91f5a595004019...   F  32  NOT OBSCURED   \n",
       "4  ecf9e646f89a73ed3df0f373e4fbd18e91f5a595004019...   F  37  NOT OBSCURED   \n",
       "\n",
       "  PHYSICAL_CONDITION  \n",
       "0             NORMAL  \n",
       "1            UNKNOWN  \n",
       "2             NORMAL  \n",
       "3             NORMAL  \n",
       "4             NORMAL  "
      ]
     },
     "execution_count": 39,
     "metadata": {},
     "output_type": "execute_result"
    }
   ],
   "source": [
    "df_vehicles_people.head()"
   ]
  },
  {
   "cell_type": "markdown",
   "metadata": {},
   "source": [
    "Now we can use the CRASH_RECORD_ID to combine the rest of the details from 'Crashes' dataset."
   ]
  },
  {
   "cell_type": "code",
   "execution_count": 40,
   "metadata": {},
   "outputs": [],
   "source": [
    "df_vehicles_people_crashes = pd.merge(df_vehicles_people, df_crashes_clean, on=['CRASH_RECORD_ID'], how='inner')"
   ]
  },
  {
   "cell_type": "code",
   "execution_count": 41,
   "metadata": {},
   "outputs": [
    {
     "data": {
      "text/html": [
       "<div>\n",
       "<style scoped>\n",
       "    .dataframe tbody tr th:only-of-type {\n",
       "        vertical-align: middle;\n",
       "    }\n",
       "\n",
       "    .dataframe tbody tr th {\n",
       "        vertical-align: top;\n",
       "    }\n",
       "\n",
       "    .dataframe thead th {\n",
       "        text-align: right;\n",
       "    }\n",
       "</style>\n",
       "<table border=\"1\" class=\"dataframe\">\n",
       "  <thead>\n",
       "    <tr style=\"text-align: right;\">\n",
       "      <th></th>\n",
       "      <th>UNIT_NO</th>\n",
       "      <th>UNIT_TYPE</th>\n",
       "      <th>VEHICLE_ID</th>\n",
       "      <th>VEHICLE_DEFECT</th>\n",
       "      <th>VEHICLE_TYPE</th>\n",
       "      <th>VEHICLE_USE</th>\n",
       "      <th>TRAVEL_DIRECTION</th>\n",
       "      <th>MANEUVER</th>\n",
       "      <th>FIRST_CONTACT_POINT</th>\n",
       "      <th>PERSON_TYPE</th>\n",
       "      <th>...</th>\n",
       "      <th>CRASH_TYPE</th>\n",
       "      <th>DAMAGE</th>\n",
       "      <th>PRIM_CONTRIBUTORY_CAUSE</th>\n",
       "      <th>NUM_UNITS</th>\n",
       "      <th>CRASH_HOUR</th>\n",
       "      <th>CRASH_DAY_OF_WEEK</th>\n",
       "      <th>CRASH_MONTH</th>\n",
       "      <th>LATITUDE</th>\n",
       "      <th>LONGITUDE</th>\n",
       "      <th>LOCATION</th>\n",
       "    </tr>\n",
       "  </thead>\n",
       "  <tbody>\n",
       "    <tr>\n",
       "      <th>0</th>\n",
       "      <td>1</td>\n",
       "      <td>DRIVER</td>\n",
       "      <td>796949</td>\n",
       "      <td>NONE</td>\n",
       "      <td>PASSENGER</td>\n",
       "      <td>PERSONAL</td>\n",
       "      <td>N</td>\n",
       "      <td>STRAIGHT AHEAD</td>\n",
       "      <td>FRONT</td>\n",
       "      <td>DRIVER</td>\n",
       "      <td>...</td>\n",
       "      <td>NO INJURY / DRIVE AWAY</td>\n",
       "      <td>$501 - $1,500</td>\n",
       "      <td>UNABLE TO DETERMINE</td>\n",
       "      <td>1</td>\n",
       "      <td>6</td>\n",
       "      <td>4</td>\n",
       "      <td>1</td>\n",
       "      <td>41.860250</td>\n",
       "      <td>-87.695575</td>\n",
       "      <td>POINT (-87.695575177986 41.860250253825)</td>\n",
       "    </tr>\n",
       "    <tr>\n",
       "      <th>1</th>\n",
       "      <td>1</td>\n",
       "      <td>DRIVER</td>\n",
       "      <td>834816</td>\n",
       "      <td>UNKNOWN</td>\n",
       "      <td>PASSENGER</td>\n",
       "      <td>PERSONAL</td>\n",
       "      <td>N</td>\n",
       "      <td>STRAIGHT AHEAD</td>\n",
       "      <td>FRONT</td>\n",
       "      <td>DRIVER</td>\n",
       "      <td>...</td>\n",
       "      <td>NO INJURY / DRIVE AWAY</td>\n",
       "      <td>OVER $1,500</td>\n",
       "      <td>UNABLE TO DETERMINE</td>\n",
       "      <td>3</td>\n",
       "      <td>3</td>\n",
       "      <td>7</td>\n",
       "      <td>9</td>\n",
       "      <td>41.900043</td>\n",
       "      <td>-87.755577</td>\n",
       "      <td>POINT (-87.755576950444 41.900042872883)</td>\n",
       "    </tr>\n",
       "    <tr>\n",
       "      <th>2</th>\n",
       "      <td>2</td>\n",
       "      <td>DRIVER</td>\n",
       "      <td>827212</td>\n",
       "      <td>NONE</td>\n",
       "      <td>PASSENGER</td>\n",
       "      <td>PERSONAL</td>\n",
       "      <td>W</td>\n",
       "      <td>STRAIGHT AHEAD</td>\n",
       "      <td>FRONT-RIGHT</td>\n",
       "      <td>DRIVER</td>\n",
       "      <td>...</td>\n",
       "      <td>NO INJURY / DRIVE AWAY</td>\n",
       "      <td>$500 OR LESS</td>\n",
       "      <td>IMPROPER OVERTAKING/PASSING</td>\n",
       "      <td>2</td>\n",
       "      <td>22</td>\n",
       "      <td>2</td>\n",
       "      <td>4</td>\n",
       "      <td>41.736044</td>\n",
       "      <td>-87.653404</td>\n",
       "      <td>POINT (-87.653404241798 41.736044089544)</td>\n",
       "    </tr>\n",
       "    <tr>\n",
       "      <th>3</th>\n",
       "      <td>1</td>\n",
       "      <td>DRIVER</td>\n",
       "      <td>792247</td>\n",
       "      <td>NONE</td>\n",
       "      <td>PASSENGER</td>\n",
       "      <td>PERSONAL</td>\n",
       "      <td>W</td>\n",
       "      <td>STRAIGHT AHEAD</td>\n",
       "      <td>OTHER</td>\n",
       "      <td>DRIVER</td>\n",
       "      <td>...</td>\n",
       "      <td>INJURY AND / OR TOW DUE TO CRASH</td>\n",
       "      <td>OVER $1,500</td>\n",
       "      <td>DISREGARDING TRAFFIC SIGNALS</td>\n",
       "      <td>2</td>\n",
       "      <td>15</td>\n",
       "      <td>2</td>\n",
       "      <td>2</td>\n",
       "      <td>41.997755</td>\n",
       "      <td>-87.694830</td>\n",
       "      <td>POINT (-87.694829722211 41.997754789249)</td>\n",
       "    </tr>\n",
       "    <tr>\n",
       "      <th>4</th>\n",
       "      <td>2</td>\n",
       "      <td>DRIVER</td>\n",
       "      <td>792252</td>\n",
       "      <td>NONE</td>\n",
       "      <td>PASSENGER</td>\n",
       "      <td>PERSONAL</td>\n",
       "      <td>S</td>\n",
       "      <td>STRAIGHT AHEAD</td>\n",
       "      <td>ROOF</td>\n",
       "      <td>DRIVER</td>\n",
       "      <td>...</td>\n",
       "      <td>INJURY AND / OR TOW DUE TO CRASH</td>\n",
       "      <td>OVER $1,500</td>\n",
       "      <td>DISREGARDING TRAFFIC SIGNALS</td>\n",
       "      <td>2</td>\n",
       "      <td>15</td>\n",
       "      <td>2</td>\n",
       "      <td>2</td>\n",
       "      <td>41.997755</td>\n",
       "      <td>-87.694830</td>\n",
       "      <td>POINT (-87.694829722211 41.997754789249)</td>\n",
       "    </tr>\n",
       "  </tbody>\n",
       "</table>\n",
       "<p>5 rows × 35 columns</p>\n",
       "</div>"
      ],
      "text/plain": [
       "  UNIT_NO UNIT_TYPE VEHICLE_ID VEHICLE_DEFECT VEHICLE_TYPE VEHICLE_USE  \\\n",
       "0       1    DRIVER     796949           NONE    PASSENGER    PERSONAL   \n",
       "1       1    DRIVER     834816        UNKNOWN    PASSENGER    PERSONAL   \n",
       "2       2    DRIVER     827212           NONE    PASSENGER    PERSONAL   \n",
       "3       1    DRIVER     792247           NONE    PASSENGER    PERSONAL   \n",
       "4       2    DRIVER     792252           NONE    PASSENGER    PERSONAL   \n",
       "\n",
       "  TRAVEL_DIRECTION        MANEUVER FIRST_CONTACT_POINT PERSON_TYPE  ...  \\\n",
       "0                N  STRAIGHT AHEAD               FRONT      DRIVER  ...   \n",
       "1                N  STRAIGHT AHEAD               FRONT      DRIVER  ...   \n",
       "2                W  STRAIGHT AHEAD         FRONT-RIGHT      DRIVER  ...   \n",
       "3                W  STRAIGHT AHEAD               OTHER      DRIVER  ...   \n",
       "4                S  STRAIGHT AHEAD                ROOF      DRIVER  ...   \n",
       "\n",
       "                         CRASH_TYPE         DAMAGE  \\\n",
       "0            NO INJURY / DRIVE AWAY  $501 - $1,500   \n",
       "1            NO INJURY / DRIVE AWAY    OVER $1,500   \n",
       "2            NO INJURY / DRIVE AWAY   $500 OR LESS   \n",
       "3  INJURY AND / OR TOW DUE TO CRASH    OVER $1,500   \n",
       "4  INJURY AND / OR TOW DUE TO CRASH    OVER $1,500   \n",
       "\n",
       "        PRIM_CONTRIBUTORY_CAUSE NUM_UNITS CRASH_HOUR  CRASH_DAY_OF_WEEK  \\\n",
       "0           UNABLE TO DETERMINE         1          6                  4   \n",
       "1           UNABLE TO DETERMINE         3          3                  7   \n",
       "2   IMPROPER OVERTAKING/PASSING         2         22                  2   \n",
       "3  DISREGARDING TRAFFIC SIGNALS         2         15                  2   \n",
       "4  DISREGARDING TRAFFIC SIGNALS         2         15                  2   \n",
       "\n",
       "  CRASH_MONTH   LATITUDE  LONGITUDE                                  LOCATION  \n",
       "0           1  41.860250 -87.695575  POINT (-87.695575177986 41.860250253825)  \n",
       "1           9  41.900043 -87.755577  POINT (-87.755576950444 41.900042872883)  \n",
       "2           4  41.736044 -87.653404  POINT (-87.653404241798 41.736044089544)  \n",
       "3           2  41.997755 -87.694830  POINT (-87.694829722211 41.997754789249)  \n",
       "4           2  41.997755 -87.694830  POINT (-87.694829722211 41.997754789249)  \n",
       "\n",
       "[5 rows x 35 columns]"
      ]
     },
     "execution_count": 41,
     "metadata": {},
     "output_type": "execute_result"
    }
   ],
   "source": [
    "df_vehicles_people_crashes.head()"
   ]
  },
  {
   "cell_type": "code",
   "execution_count": 42,
   "metadata": {},
   "outputs": [
    {
     "data": {
      "text/plain": [
       "Index(['UNIT_NO', 'UNIT_TYPE', 'VEHICLE_ID', 'VEHICLE_DEFECT', 'VEHICLE_TYPE',\n",
       "       'VEHICLE_USE', 'TRAVEL_DIRECTION', 'MANEUVER', 'FIRST_CONTACT_POINT',\n",
       "       'PERSON_TYPE', 'CRASH_RECORD_ID', 'SEX', 'AGE', 'DRIVER_VISION',\n",
       "       'PHYSICAL_CONDITION', 'POSTED_SPEED_LIMIT', 'TRAFFIC_CONTROL_DEVICE',\n",
       "       'DEVICE_CONDITION', 'WEATHER_CONDITION', 'LIGHTING_CONDITION',\n",
       "       'FIRST_CRASH_TYPE', 'TRAFFICWAY_TYPE', 'ALIGNMENT',\n",
       "       'ROADWAY_SURFACE_COND', 'ROAD_DEFECT', 'CRASH_TYPE', 'DAMAGE',\n",
       "       'PRIM_CONTRIBUTORY_CAUSE', 'NUM_UNITS', 'CRASH_HOUR',\n",
       "       'CRASH_DAY_OF_WEEK', 'CRASH_MONTH', 'LATITUDE', 'LONGITUDE',\n",
       "       'LOCATION'],\n",
       "      dtype='object')"
      ]
     },
     "execution_count": 42,
     "metadata": {},
     "output_type": "execute_result"
    }
   ],
   "source": [
    "# Check all columns included in the final dataset\n",
    "\n",
    "df_vehicles_people_crashes.columns"
   ]
  },
  {
   "cell_type": "code",
   "execution_count": 43,
   "metadata": {},
   "outputs": [
    {
     "data": {
      "text/html": [
       "<div>\n",
       "<style scoped>\n",
       "    .dataframe tbody tr th:only-of-type {\n",
       "        vertical-align: middle;\n",
       "    }\n",
       "\n",
       "    .dataframe tbody tr th {\n",
       "        vertical-align: top;\n",
       "    }\n",
       "\n",
       "    .dataframe thead th {\n",
       "        text-align: right;\n",
       "    }\n",
       "</style>\n",
       "<table border=\"1\" class=\"dataframe\">\n",
       "  <thead>\n",
       "    <tr style=\"text-align: right;\">\n",
       "      <th></th>\n",
       "      <th>UNIT_NO</th>\n",
       "      <th>UNIT_TYPE</th>\n",
       "      <th>VEHICLE_ID</th>\n",
       "      <th>VEHICLE_DEFECT</th>\n",
       "      <th>VEHICLE_TYPE</th>\n",
       "      <th>VEHICLE_USE</th>\n",
       "      <th>TRAVEL_DIRECTION</th>\n",
       "      <th>MANEUVER</th>\n",
       "      <th>FIRST_CONTACT_POINT</th>\n",
       "      <th>PERSON_TYPE</th>\n",
       "      <th>...</th>\n",
       "      <th>CRASH_TYPE</th>\n",
       "      <th>DAMAGE</th>\n",
       "      <th>PRIM_CONTRIBUTORY_CAUSE</th>\n",
       "      <th>NUM_UNITS</th>\n",
       "      <th>CRASH_HOUR</th>\n",
       "      <th>CRASH_DAY_OF_WEEK</th>\n",
       "      <th>CRASH_MONTH</th>\n",
       "      <th>LATITUDE</th>\n",
       "      <th>LONGITUDE</th>\n",
       "      <th>LOCATION</th>\n",
       "    </tr>\n",
       "  </thead>\n",
       "  <tbody>\n",
       "    <tr>\n",
       "      <th>0</th>\n",
       "      <td>1</td>\n",
       "      <td>DRIVER</td>\n",
       "      <td>796949</td>\n",
       "      <td>NONE</td>\n",
       "      <td>PASSENGER</td>\n",
       "      <td>PERSONAL</td>\n",
       "      <td>N</td>\n",
       "      <td>STRAIGHT AHEAD</td>\n",
       "      <td>FRONT</td>\n",
       "      <td>DRIVER</td>\n",
       "      <td>...</td>\n",
       "      <td>NO INJURY / DRIVE AWAY</td>\n",
       "      <td>$501 - $1,500</td>\n",
       "      <td>UNABLE TO DETERMINE</td>\n",
       "      <td>1</td>\n",
       "      <td>6</td>\n",
       "      <td>4</td>\n",
       "      <td>1</td>\n",
       "      <td>41.860250</td>\n",
       "      <td>-87.695575</td>\n",
       "      <td>POINT (-87.695575177986 41.860250253825)</td>\n",
       "    </tr>\n",
       "    <tr>\n",
       "      <th>1</th>\n",
       "      <td>1</td>\n",
       "      <td>DRIVER</td>\n",
       "      <td>834816</td>\n",
       "      <td>UNKNOWN</td>\n",
       "      <td>PASSENGER</td>\n",
       "      <td>PERSONAL</td>\n",
       "      <td>N</td>\n",
       "      <td>STRAIGHT AHEAD</td>\n",
       "      <td>FRONT</td>\n",
       "      <td>DRIVER</td>\n",
       "      <td>...</td>\n",
       "      <td>NO INJURY / DRIVE AWAY</td>\n",
       "      <td>OVER $1,500</td>\n",
       "      <td>UNABLE TO DETERMINE</td>\n",
       "      <td>3</td>\n",
       "      <td>3</td>\n",
       "      <td>7</td>\n",
       "      <td>9</td>\n",
       "      <td>41.900043</td>\n",
       "      <td>-87.755577</td>\n",
       "      <td>POINT (-87.755576950444 41.900042872883)</td>\n",
       "    </tr>\n",
       "    <tr>\n",
       "      <th>2</th>\n",
       "      <td>2</td>\n",
       "      <td>DRIVER</td>\n",
       "      <td>827212</td>\n",
       "      <td>NONE</td>\n",
       "      <td>PASSENGER</td>\n",
       "      <td>PERSONAL</td>\n",
       "      <td>W</td>\n",
       "      <td>STRAIGHT AHEAD</td>\n",
       "      <td>FRONT-RIGHT</td>\n",
       "      <td>DRIVER</td>\n",
       "      <td>...</td>\n",
       "      <td>NO INJURY / DRIVE AWAY</td>\n",
       "      <td>$500 OR LESS</td>\n",
       "      <td>IMPROPER OVERTAKING/PASSING</td>\n",
       "      <td>2</td>\n",
       "      <td>22</td>\n",
       "      <td>2</td>\n",
       "      <td>4</td>\n",
       "      <td>41.736044</td>\n",
       "      <td>-87.653404</td>\n",
       "      <td>POINT (-87.653404241798 41.736044089544)</td>\n",
       "    </tr>\n",
       "    <tr>\n",
       "      <th>3</th>\n",
       "      <td>1</td>\n",
       "      <td>DRIVER</td>\n",
       "      <td>792247</td>\n",
       "      <td>NONE</td>\n",
       "      <td>PASSENGER</td>\n",
       "      <td>PERSONAL</td>\n",
       "      <td>W</td>\n",
       "      <td>STRAIGHT AHEAD</td>\n",
       "      <td>OTHER</td>\n",
       "      <td>DRIVER</td>\n",
       "      <td>...</td>\n",
       "      <td>INJURY AND / OR TOW DUE TO CRASH</td>\n",
       "      <td>OVER $1,500</td>\n",
       "      <td>DISREGARDING TRAFFIC SIGNALS</td>\n",
       "      <td>2</td>\n",
       "      <td>15</td>\n",
       "      <td>2</td>\n",
       "      <td>2</td>\n",
       "      <td>41.997755</td>\n",
       "      <td>-87.694830</td>\n",
       "      <td>POINT (-87.694829722211 41.997754789249)</td>\n",
       "    </tr>\n",
       "    <tr>\n",
       "      <th>4</th>\n",
       "      <td>2</td>\n",
       "      <td>DRIVER</td>\n",
       "      <td>792252</td>\n",
       "      <td>NONE</td>\n",
       "      <td>PASSENGER</td>\n",
       "      <td>PERSONAL</td>\n",
       "      <td>S</td>\n",
       "      <td>STRAIGHT AHEAD</td>\n",
       "      <td>ROOF</td>\n",
       "      <td>DRIVER</td>\n",
       "      <td>...</td>\n",
       "      <td>INJURY AND / OR TOW DUE TO CRASH</td>\n",
       "      <td>OVER $1,500</td>\n",
       "      <td>DISREGARDING TRAFFIC SIGNALS</td>\n",
       "      <td>2</td>\n",
       "      <td>15</td>\n",
       "      <td>2</td>\n",
       "      <td>2</td>\n",
       "      <td>41.997755</td>\n",
       "      <td>-87.694830</td>\n",
       "      <td>POINT (-87.694829722211 41.997754789249)</td>\n",
       "    </tr>\n",
       "  </tbody>\n",
       "</table>\n",
       "<p>5 rows × 35 columns</p>\n",
       "</div>"
      ],
      "text/plain": [
       "  UNIT_NO UNIT_TYPE VEHICLE_ID VEHICLE_DEFECT VEHICLE_TYPE VEHICLE_USE  \\\n",
       "0       1    DRIVER     796949           NONE    PASSENGER    PERSONAL   \n",
       "1       1    DRIVER     834816        UNKNOWN    PASSENGER    PERSONAL   \n",
       "2       2    DRIVER     827212           NONE    PASSENGER    PERSONAL   \n",
       "3       1    DRIVER     792247           NONE    PASSENGER    PERSONAL   \n",
       "4       2    DRIVER     792252           NONE    PASSENGER    PERSONAL   \n",
       "\n",
       "  TRAVEL_DIRECTION        MANEUVER FIRST_CONTACT_POINT PERSON_TYPE  ...  \\\n",
       "0                N  STRAIGHT AHEAD               FRONT      DRIVER  ...   \n",
       "1                N  STRAIGHT AHEAD               FRONT      DRIVER  ...   \n",
       "2                W  STRAIGHT AHEAD         FRONT-RIGHT      DRIVER  ...   \n",
       "3                W  STRAIGHT AHEAD               OTHER      DRIVER  ...   \n",
       "4                S  STRAIGHT AHEAD                ROOF      DRIVER  ...   \n",
       "\n",
       "                         CRASH_TYPE         DAMAGE  \\\n",
       "0            NO INJURY / DRIVE AWAY  $501 - $1,500   \n",
       "1            NO INJURY / DRIVE AWAY    OVER $1,500   \n",
       "2            NO INJURY / DRIVE AWAY   $500 OR LESS   \n",
       "3  INJURY AND / OR TOW DUE TO CRASH    OVER $1,500   \n",
       "4  INJURY AND / OR TOW DUE TO CRASH    OVER $1,500   \n",
       "\n",
       "        PRIM_CONTRIBUTORY_CAUSE NUM_UNITS CRASH_HOUR  CRASH_DAY_OF_WEEK  \\\n",
       "0           UNABLE TO DETERMINE         1          6                  4   \n",
       "1           UNABLE TO DETERMINE         3          3                  7   \n",
       "2   IMPROPER OVERTAKING/PASSING         2         22                  2   \n",
       "3  DISREGARDING TRAFFIC SIGNALS         2         15                  2   \n",
       "4  DISREGARDING TRAFFIC SIGNALS         2         15                  2   \n",
       "\n",
       "  CRASH_MONTH   LATITUDE  LONGITUDE                                  LOCATION  \n",
       "0           1  41.860250 -87.695575  POINT (-87.695575177986 41.860250253825)  \n",
       "1           9  41.900043 -87.755577  POINT (-87.755576950444 41.900042872883)  \n",
       "2           4  41.736044 -87.653404  POINT (-87.653404241798 41.736044089544)  \n",
       "3           2  41.997755 -87.694830  POINT (-87.694829722211 41.997754789249)  \n",
       "4           2  41.997755 -87.694830  POINT (-87.694829722211 41.997754789249)  \n",
       "\n",
       "[5 rows x 35 columns]"
      ]
     },
     "execution_count": 43,
     "metadata": {},
     "output_type": "execute_result"
    }
   ],
   "source": [
    "df_vehicles_people_crashes.head()"
   ]
  },
  {
   "cell_type": "code",
   "execution_count": 44,
   "metadata": {},
   "outputs": [
    {
     "data": {
      "text/plain": [
       "(687278, 35)"
      ]
     },
     "execution_count": 44,
     "metadata": {},
     "output_type": "execute_result"
    }
   ],
   "source": [
    "# Check the final count of the dataset\n",
    "\n",
    "df_vehicles_people_crashes.shape"
   ]
  },
  {
   "cell_type": "markdown",
   "metadata": {},
   "source": [
    "Our cleaned dataset has over 680,000 rows with 35 columns. Almost all of the columns are categorical. We will have to do some feature elimination to make sure this fits into a model."
   ]
  },
  {
   "cell_type": "markdown",
   "metadata": {},
   "source": [
    "### Feature Engineering"
   ]
  },
  {
   "cell_type": "markdown",
   "metadata": {},
   "source": [
    "Feature engineering is a process to add, remove, create, or combine different classes to better suit the purpose of the EDA. We will look at both Target and Predictor variables to see if we need to change some values to make it more meaningful or reduce it for modeling."
   ]
  },
  {
   "cell_type": "code",
   "execution_count": 45,
   "metadata": {},
   "outputs": [
    {
     "data": {
      "text/plain": [
       "Index(['UNIT_NO', 'UNIT_TYPE', 'VEHICLE_ID', 'VEHICLE_DEFECT', 'VEHICLE_TYPE',\n",
       "       'VEHICLE_USE', 'TRAVEL_DIRECTION', 'MANEUVER', 'FIRST_CONTACT_POINT',\n",
       "       'PERSON_TYPE', 'CRASH_RECORD_ID', 'SEX', 'AGE', 'DRIVER_VISION',\n",
       "       'PHYSICAL_CONDITION', 'POSTED_SPEED_LIMIT', 'TRAFFIC_CONTROL_DEVICE',\n",
       "       'DEVICE_CONDITION', 'WEATHER_CONDITION', 'LIGHTING_CONDITION',\n",
       "       'FIRST_CRASH_TYPE', 'TRAFFICWAY_TYPE', 'ALIGNMENT',\n",
       "       'ROADWAY_SURFACE_COND', 'ROAD_DEFECT', 'CRASH_TYPE', 'DAMAGE',\n",
       "       'PRIM_CONTRIBUTORY_CAUSE', 'NUM_UNITS', 'CRASH_HOUR',\n",
       "       'CRASH_DAY_OF_WEEK', 'CRASH_MONTH', 'LATITUDE', 'LONGITUDE',\n",
       "       'LOCATION'],\n",
       "      dtype='object')"
      ]
     },
     "execution_count": 45,
     "metadata": {},
     "output_type": "execute_result"
    }
   ],
   "source": [
    "# Check all columns present in the dataset\n",
    "\n",
    "df_vehicles_people_crashes.columns"
   ]
  },
  {
   "cell_type": "markdown",
   "metadata": {},
   "source": [
    "Let's look into each one of our columns and see how many classes are present and can be modified."
   ]
  },
  {
   "cell_type": "code",
   "execution_count": 46,
   "metadata": {},
   "outputs": [
    {
     "name": "stdout",
     "output_type": "stream",
     "text": [
      "\n",
      "UNIT_NO\n",
      "\n",
      "2     347927\n",
      "1     321706\n",
      "3      15365\n",
      "4       1830\n",
      "5        319\n",
      "6         83\n",
      "7         31\n",
      "8         12\n",
      "9          3\n",
      "0          1\n",
      "10         1\n",
      "Name: UNIT_NO, dtype: int64\n",
      "\n",
      "UNIT_TYPE\n",
      "\n",
      "DRIVER    687278\n",
      "Name: UNIT_TYPE, dtype: int64\n",
      "\n",
      "VEHICLE_ID\n",
      "\n",
      "316605     1\n",
      "1075946    1\n",
      "289156     1\n",
      "1091489    1\n",
      "356566     1\n",
      "          ..\n",
      "253194     1\n",
      "481761     1\n",
      "21829      1\n",
      "69861      1\n",
      "393730     1\n",
      "Name: VEHICLE_ID, Length: 687278, dtype: int64\n",
      "\n",
      "VEHICLE_DEFECT\n",
      "\n",
      "NONE                465329\n",
      "UNKNOWN             214583\n",
      "BRAKES                3134\n",
      "OTHER                 2579\n",
      "TIRES                  474\n",
      "STEERING               465\n",
      "WHEELS                 236\n",
      "SUSPENSION             171\n",
      "ENGINE/MOTOR           112\n",
      "LIGHTS                  45\n",
      "FUEL SYSTEM             44\n",
      "WINDOWS                 38\n",
      "CARGO                   20\n",
      "SIGNALS                 15\n",
      "RESTRAINT SYSTEM        13\n",
      "TRAILER COUPLING        10\n",
      "EXHAUST                 10\n",
      "Name: VEHICLE_DEFECT, dtype: int64\n",
      "\n",
      "VEHICLE_TYPE\n",
      "\n",
      "PASSENGER                                 474714\n",
      "SPORT UTILITY VEHICLE (SUV)                95094\n",
      "VAN/MINI-VAN                               35936\n",
      "PICKUP                                     20859\n",
      "TRUCK - SINGLE UNIT                        14211\n",
      "UNKNOWN/NA                                 13892\n",
      "BUS OVER 15 PASS.                           9566\n",
      "OTHER                                       8294\n",
      "TRACTOR W/ SEMI-TRAILER                     7719\n",
      "MOTORCYCLE (OVER 150CC)                     1815\n",
      "BUS UP TO 15 PASS.                          1794\n",
      "TRACTOR W/O SEMI-TRAILER                    1054\n",
      "OTHER VEHICLE WITH TRAILER                   987\n",
      "SINGLE UNIT TRUCK WITH TRAILER               723\n",
      "MOTOR DRIVEN CYCLE                           209\n",
      "MOPED OR MOTORIZED BICYCLE                   160\n",
      "AUTOCYCLE                                    108\n",
      "ALL-TERRAIN VEHICLE (ATV)                     73\n",
      "FARM EQUIPMENT                                43\n",
      "3-WHEELED MOTORCYCLE (2 REAR WHEELS)          17\n",
      "RECREATIONAL OFF-HIGHWAY VEHICLE (ROV)         7\n",
      "SNOWMOBILE                                     3\n",
      "Name: VEHICLE_TYPE, dtype: int64\n",
      "\n",
      "VEHICLE_USE\n",
      "\n",
      "PERSONAL                        548475\n",
      "UNKNOWN/NA                       48995\n",
      "OTHER                            24287\n",
      "TAXI/FOR HIRE                    13761\n",
      "COMMERCIAL - SINGLE UNIT         10774\n",
      "RIDESHARE SERVICE                 8266\n",
      "CTA                               6185\n",
      "POLICE                            4901\n",
      "CONSTRUCTION/MAINTENANCE          3965\n",
      "COMMERCIAL - MULTI-UNIT           3526\n",
      "OTHER TRANSIT                     3177\n",
      "NOT IN USE                        2981\n",
      "SCHOOL BUS                        2392\n",
      "TOW TRUCK                         1402\n",
      "AMBULANCE                          968\n",
      "FIRE                               772\n",
      "STATE OWNED                        703\n",
      "MASS TRANSIT                       643\n",
      "DRIVER EDUCATION                   606\n",
      "LAWN CARE/LANDSCAPING              318\n",
      "AGRICULTURE                         89\n",
      "MILITARY                            37\n",
      "CAMPER/RV - SINGLE UNIT             37\n",
      "HOUSE TRAILER                       14\n",
      "CAMPER/RV - TOWED/MULTI-UNIT         4\n",
      "Name: VEHICLE_USE, dtype: int64\n",
      "\n",
      "TRAVEL_DIRECTION\n",
      "\n",
      "N          168060\n",
      "S          165130\n",
      "W          153811\n",
      "E          150214\n",
      "UNKNOWN     14408\n",
      "SE          10539\n",
      "NW           9305\n",
      "NE           7936\n",
      "SW           7875\n",
      "Name: TRAVEL_DIRECTION, dtype: int64\n",
      "\n",
      "MANEUVER\n",
      "\n",
      "STRAIGHT AHEAD                        392414\n",
      "SLOW/STOP IN TRAFFIC                   76486\n",
      "TURNING LEFT                           52665\n",
      "BACKING                                29930\n",
      "TURNING RIGHT                          28219\n",
      "UNKNOWN/NA                             16744\n",
      "CHANGING LANES                         14848\n",
      "PASSING/OVERTAKING                     14186\n",
      "OTHER                                  13418\n",
      "ENTERING TRAFFIC LANE FROM PARKING      9600\n",
      "STARTING IN TRAFFIC                     5597\n",
      "MERGING                                 5540\n",
      "U-TURN                                  4319\n",
      "AVOIDING VEHICLES/OBJECTS               4214\n",
      "LEAVING TRAFFIC LANE TO PARK            4008\n",
      "SKIDDING/CONTROL LOSS                   3640\n",
      "ENTER FROM DRIVE/ALLEY                  3342\n",
      "SLOW/STOP - LEFT TURN                   2684\n",
      "SLOW/STOP - RIGHT TURN                  1650\n",
      "SLOW/STOP - LOAD/UNLOAD                 1446\n",
      "NEGOTIATING A CURVE                     1077\n",
      "DRIVING WRONG WAY                        829\n",
      "TURNING ON RED                           288\n",
      "DIVERGING                                123\n",
      "PARKED                                    10\n",
      "PARKED IN TRAFFIC LANE                     1\n",
      "Name: MANEUVER, dtype: int64\n",
      "\n",
      "FIRST_CONTACT_POINT\n",
      "\n",
      "FRONT                121613\n",
      "REAR                  79242\n",
      "REAR-LEFT             77676\n",
      "OTHER                 74604\n",
      "FRONT-RIGHT           61064\n",
      "FRONT-LEFT            60800\n",
      "SIDE-RIGHT            51264\n",
      "TOTAL (ALL AREAS)     43040\n",
      "SIDE-LEFT             37645\n",
      "REAR-RIGHT            31361\n",
      "ROOF                  20667\n",
      "UNKNOWN               13471\n",
      "NONE                   7483\n",
      "UNDER CARRIAGE         7348\n",
      "Name: FIRST_CONTACT_POINT, dtype: int64\n",
      "\n",
      "PERSON_TYPE\n",
      "\n",
      "DRIVER    687278\n",
      "Name: PERSON_TYPE, dtype: int64\n",
      "\n",
      "CRASH_RECORD_ID\n",
      "\n",
      "c9d233e31a4f2a07733ef75f0404e75c360b30c7ee9bc45076938dc80c375578c1468bc096ecb773d2bfc71270d746d95f416a5bd6b15fbcf8707b1748693722    12\n",
      "e37c9d9c015f0b82720644d4d48b4092b8e96b0af99fc1b5db100d8079c250825a5606e87fd7331d7f20c869438ff02511f368ef5ecd4cf881cb93eeed00d416    12\n",
      "f28f71fecccb0d5dc1b0146d44f98ea0d234e6225faf0e3ed310c6f267a3b455a466f41a5df5b1bdcacbe31b6cb81b6f9c7f8e8401d478e103120e705dfc7063    10\n",
      "7e4048aa331ab03ec78f74e94e881ad33d776bc812a50005ce0aa4523ba2eb0087d89f0b70c46221dd39ebaf4d85019d13115dd91fbce063b57ac831f8bf68fe    10\n",
      "31c386eea15a7079ebdd75b47de8b1fcfae40dc6c1ac49df0d2dd600a16663754436a213e70c4605d08c404ee62ec17fd23d19f3764255482e3bd777f23d01e3     9\n",
      "                                                                                                                                    ..\n",
      "bcabf7e9eed9df5bf656dfb70d7804190c4b1236482dcc3f1397f631e99a3b1c87c1c0c1e21ae84765f95f22674dd64c93a0429fc88faf9d7ba54d7ccfaff223     1\n",
      "bcd41041dbb09c2f6c5e67f4c9d50ef1b8417e6a7064f5650d67bfff9ee17f545336466eea9e6235d124edd7ff7d7360e0aa5564389b594ee9bfc44656512a26     1\n",
      "7c3c6306dc7b59115939f0f069c9a32fef2b9fb9850688d2808aeea1d572eff61adb8ca160b48f52b75512248cdc2f07b22f2a1a06863a2d69969d08344804af     1\n",
      "f5243e8c66936fa29e22088cac2ef850518fbbed02024c34b10afbee9eac0d34b63b0ee372380569a1b9e928c69cdc9f62a52ff94c3b0d7a569ec697c893bd02     1\n",
      "0ede56ef2f1a40123b7d09b55932679f4bb510b8292a2b700284caae844b91f31f0b3c74f6fb00fc902abb7d81ed4470769e3ad6f316ea3e0471408dd22c8f9b     1\n",
      "Name: CRASH_RECORD_ID, Length: 437792, dtype: int64\n",
      "\n",
      "SEX\n",
      "\n",
      "M    410779\n",
      "F    276499\n",
      "Name: SEX, dtype: int64\n",
      "\n",
      "AGE\n",
      "\n",
      "25     20676\n",
      "27     20577\n",
      "26     20525\n",
      "28     20015\n",
      "24     19569\n",
      "       ...  \n",
      "107        2\n",
      "104        2\n",
      "109        2\n",
      "110        2\n",
      "108        2\n",
      "Name: AGE, Length: 107, dtype: int64\n",
      "\n",
      "DRIVER_VISION\n",
      "\n",
      "NOT OBSCURED              470250\n",
      "UNKNOWN                   195871\n",
      "OTHER                       7785\n",
      "MOVING VEHICLES             5404\n",
      "PARKED VEHICLES             3252\n",
      "WINDSHIELD (WATER/ICE)      2625\n",
      "BLINDED - SUNLIGHT          1096\n",
      "TREES, PLANTS                397\n",
      "BUILDINGS                    306\n",
      "BLINDED - HEADLIGHTS          78\n",
      "HILLCREST                     74\n",
      "BLOWING MATERIALS             63\n",
      "EMBANKMENT                    56\n",
      "SIGNBOARD                     21\n",
      "Name: DRIVER_VISION, dtype: int64\n",
      "\n",
      "PHYSICAL_CONDITION\n",
      "\n",
      "NORMAL                          583584\n",
      "UNKNOWN                          89038\n",
      "IMPAIRED - ALCOHOL                3943\n",
      "REMOVED BY EMS                    2412\n",
      "FATIGUED/ASLEEP                   2368\n",
      "OTHER                             1954\n",
      "EMOTIONAL                         1853\n",
      "ILLNESS/FAINTED                    864\n",
      "HAD BEEN DRINKING                  502\n",
      "IMPAIRED - DRUGS                   460\n",
      "IMPAIRED - ALCOHOL AND DRUGS       192\n",
      "MEDICATED                          108\n",
      "Name: PHYSICAL_CONDITION, dtype: int64\n",
      "\n",
      "POSTED_SPEED_LIMIT\n",
      "\n",
      "30    526232\n",
      "35     52821\n",
      "25     36525\n",
      "20     19937\n",
      "15     16537\n",
      "10      9956\n",
      "40      8027\n",
      "0       7271\n",
      "45      5065\n",
      "5       3319\n",
      "55       731\n",
      "3        177\n",
      "50       176\n",
      "9        105\n",
      "99        83\n",
      "39        81\n",
      "60        39\n",
      "1         38\n",
      "24        20\n",
      "32        20\n",
      "2         18\n",
      "34        17\n",
      "33        15\n",
      "65        13\n",
      "11         9\n",
      "6          8\n",
      "36         6\n",
      "14         4\n",
      "31         4\n",
      "12         3\n",
      "7          3\n",
      "18         2\n",
      "38         2\n",
      "22         2\n",
      "63         2\n",
      "4          2\n",
      "70         2\n",
      "29         2\n",
      "26         2\n",
      "49         1\n",
      "23         1\n",
      "Name: POSTED_SPEED_LIMIT, dtype: int64\n",
      "\n",
      "TRAFFIC_CONTROL_DEVICE\n",
      "\n",
      "NO CONTROLS                 337581\n",
      "TRAFFIC SIGNAL              239472\n",
      "STOP SIGN/FLASHER            81014\n",
      "UNKNOWN                      18824\n",
      "OTHER                         4061\n",
      "LANE USE MARKING              1812\n",
      "YIELD                         1145\n",
      "OTHER REG. SIGN                663\n",
      "OTHER WARNING SIGN             581\n",
      "RAILROAD CROSSING GATE         519\n",
      "PEDESTRIAN CROSSING SIGN       306\n",
      "POLICE/FLAGMAN                 301\n",
      "FLASHING CONTROL SIGNAL        254\n",
      "DELINEATORS                    237\n",
      "SCHOOL ZONE                    193\n",
      "OTHER RAILROAD CROSSING        177\n",
      "RR CROSSING SIGN                80\n",
      "NO PASSING                      41\n",
      "BICYCLE CROSSING SIGN           17\n",
      "Name: TRAFFIC_CONTROL_DEVICE, dtype: int64\n",
      "\n",
      "DEVICE_CONDITION\n",
      "\n",
      "NO CONTROLS                 344997\n",
      "FUNCTIONING PROPERLY        294116\n",
      "UNKNOWN                      35406\n",
      "OTHER                         5560\n",
      "FUNCTIONING IMPROPERLY        4344\n",
      "NOT FUNCTIONING               2430\n",
      "WORN REFLECTIVE MATERIAL       329\n",
      "MISSING                         96\n",
      "Name: DEVICE_CONDITION, dtype: int64\n",
      "\n",
      "WEATHER_CONDITION\n",
      "\n",
      "CLEAR                       553170\n",
      "RAIN                         64669\n",
      "SNOW                         24749\n",
      "CLOUDY/OVERCAST              22669\n",
      "UNKNOWN                      16687\n",
      "OTHER                         2088\n",
      "FOG/SMOKE/HAZE                1064\n",
      "SLEET/HAIL                     981\n",
      "FREEZING RAIN/DRIZZLE          877\n",
      "BLOWING SNOW                   203\n",
      "SEVERE CROSS WIND GATE         117\n",
      "BLOWING SAND, SOIL, DIRT         4\n",
      "Name: WEATHER_CONDITION, dtype: int64\n",
      "\n",
      "LIGHTING_CONDITION\n",
      "\n"
     ]
    },
    {
     "name": "stdout",
     "output_type": "stream",
     "text": [
      "DAYLIGHT                  475805\n",
      "DARKNESS, LIGHTED ROAD    139300\n",
      "DARKNESS                   28575\n",
      "DUSK                       21579\n",
      "DAWN                       11412\n",
      "UNKNOWN                    10607\n",
      "Name: LIGHTING_CONDITION, dtype: int64\n",
      "\n",
      "FIRST_CRASH_TYPE\n",
      "\n",
      "REAR END                        214259\n",
      "TURNING                         130833\n",
      "SIDESWIPE SAME DIRECTION        130417\n",
      "ANGLE                            98149\n",
      "PARKED MOTOR VEHICLE             46385\n",
      "FIXED OBJECT                     18110\n",
      "SIDESWIPE OPPOSITE DIRECTION     12089\n",
      "HEAD ON                           7679\n",
      "PEDESTRIAN                        7509\n",
      "REAR TO FRONT                     5790\n",
      "PEDALCYCLIST                      5206\n",
      "REAR TO SIDE                      3800\n",
      "OTHER OBJECT                      3786\n",
      "OTHER NONCOLLISION                1361\n",
      "REAR TO REAR                      1335\n",
      "ANIMAL                             285\n",
      "OVERTURNED                         252\n",
      "TRAIN                               33\n",
      "Name: FIRST_CRASH_TYPE, dtype: int64\n",
      "\n",
      "TRAFFICWAY_TYPE\n",
      "\n",
      "NOT DIVIDED                        314487\n",
      "DIVIDED - W/MEDIAN (NOT RAISED)    138571\n",
      "ONE-WAY                             63486\n",
      "DIVIDED - W/MEDIAN BARRIER          47827\n",
      "FOUR WAY                            34596\n",
      "PARKING LOT                         32342\n",
      "OTHER                               18194\n",
      "ALLEY                                8006\n",
      "CENTER TURN LANE                     7235\n",
      "T-INTERSECTION                       7162\n",
      "UNKNOWN                              6317\n",
      "RAMP                                 2430\n",
      "DRIVEWAY                             1868\n",
      "UNKNOWN INTERSECTION TYPE            1861\n",
      "FIVE POINT, OR MORE                   886\n",
      "Y-INTERSECTION                        849\n",
      "TRAFFIC ROUTE                         627\n",
      "NOT REPORTED                          284\n",
      "ROUNDABOUT                            148\n",
      "L-INTERSECTION                        102\n",
      "Name: TRAFFICWAY_TYPE, dtype: int64\n",
      "\n",
      "ALIGNMENT\n",
      "\n",
      "STRAIGHT AND LEVEL       668836\n",
      "STRAIGHT ON GRADE          9253\n",
      "CURVE, LEVEL               5392\n",
      "STRAIGHT ON HILLCREST      2350\n",
      "CURVE ON GRADE             1104\n",
      "CURVE ON HILLCREST          343\n",
      "Name: ALIGNMENT, dtype: int64\n",
      "\n",
      "ROADWAY_SURFACE_COND\n",
      "\n",
      "DRY                523671\n",
      "WET                 99315\n",
      "UNKNOWN             33511\n",
      "SNOW OR SLUSH       23783\n",
      "ICE                  5252\n",
      "OTHER                1518\n",
      "SAND, MUD, DIRT       228\n",
      "Name: ROADWAY_SURFACE_COND, dtype: int64\n",
      "\n",
      "ROAD_DEFECT\n",
      "\n",
      "NO DEFECTS           576466\n",
      "UNKNOWN               97498\n",
      "RUT, HOLES             4755\n",
      "OTHER                  3773\n",
      "WORN SURFACE           2819\n",
      "SHOULDER DEFECT        1413\n",
      "DEBRIS ON ROADWAY       554\n",
      "Name: ROAD_DEFECT, dtype: int64\n",
      "\n",
      "CRASH_TYPE\n",
      "\n",
      "NO INJURY / DRIVE AWAY              490967\n",
      "INJURY AND / OR TOW DUE TO CRASH    196311\n",
      "Name: CRASH_TYPE, dtype: int64\n",
      "\n",
      "DAMAGE\n",
      "\n",
      "OVER $1,500      423110\n",
      "$501 - $1,500    190521\n",
      "$500 OR LESS      73647\n",
      "Name: DAMAGE, dtype: int64\n",
      "\n",
      "PRIM_CONTRIBUTORY_CAUSE\n",
      "\n",
      "UNABLE TO DETERMINE                                                                 201806\n",
      "FAILING TO YIELD RIGHT-OF-WAY                                                        96154\n",
      "FOLLOWING TOO CLOSELY                                                                93349\n",
      "IMPROPER OVERTAKING/PASSING                                                          36121\n",
      "FAILING TO REDUCE SPEED TO AVOID CRASH                                               35824\n",
      "IMPROPER LANE USAGE                                                                  29477\n",
      "NOT APPLICABLE                                                                       28613\n",
      "IMPROPER TURNING/NO SIGNAL                                                           28394\n",
      "IMPROPER BACKING                                                                     26258\n",
      "DRIVING SKILLS/KNOWLEDGE/EXPERIENCE                                                  19940\n",
      "DISREGARDING TRAFFIC SIGNALS                                                         17390\n",
      "WEATHER                                                                              12357\n",
      "DISREGARDING STOP SIGN                                                                9176\n",
      "OPERATING VEHICLE IN ERRATIC, RECKLESS, CARELESS, NEGLIGENT OR AGGRESSIVE MANNER      6495\n",
      "DISTRACTION - FROM INSIDE VEHICLE                                                     6166\n",
      "VISION OBSCURED (SIGNS, TREE LIMBS, BUILDINGS, ETC.)                                  4838\n",
      "EQUIPMENT - VEHICLE CONDITION                                                         4662\n",
      "PHYSICAL CONDITION OF DRIVER                                                          4192\n",
      "UNDER THE INFLUENCE OF ALCOHOL/DRUGS (USE WHEN ARREST IS EFFECTED)                    4034\n",
      "DISTRACTION - FROM OUTSIDE VEHICLE                                                    3373\n",
      "DRIVING ON WRONG SIDE/WRONG WAY                                                       3348\n",
      "EXCEEDING SAFE SPEED FOR CONDITIONS                                                   2242\n",
      "EXCEEDING AUTHORIZED SPEED LIMIT                                                      2077\n",
      "DISREGARDING OTHER TRAFFIC SIGNS                                                      1697\n",
      "ROAD CONSTRUCTION/MAINTENANCE                                                         1484\n",
      "ROAD ENGINEERING/SURFACE/MARKING DEFECTS                                              1359\n",
      "EVASIVE ACTION DUE TO ANIMAL, OBJECT, NONMOTORIST                                     1292\n",
      "CELL PHONE USE OTHER THAN TEXTING                                                     1120\n",
      "DISREGARDING ROAD MARKINGS                                                             973\n",
      "TURNING RIGHT ON RED                                                                   588\n",
      "HAD BEEN DRINKING (USE WHEN ARREST IS NOT MADE)                                        532\n",
      "ANIMAL                                                                                 461\n",
      "DISTRACTION - OTHER ELECTRONIC DEVICE (NAVIGATION DEVICE, DVD PLAYER, ETC.)            405\n",
      "TEXTING                                                                                324\n",
      "DISREGARDING YIELD SIGN                                                                275\n",
      "RELATED TO BUS STOP                                                                    262\n",
      "PASSING STOPPED SCHOOL BUS                                                              87\n",
      "BICYCLE ADVANCING LEGALLY ON RED LIGHT                                                  58\n",
      "OBSTRUCTED CROSSWALKS                                                                   53\n",
      "MOTORCYCLE ADVANCING LEGALLY ON RED LIGHT                                               22\n",
      "Name: PRIM_CONTRIBUTORY_CAUSE, dtype: int64\n",
      "\n",
      "NUM_UNITS\n",
      "\n",
      "2     602574\n",
      "3      50978\n",
      "1      20930\n",
      "4       9596\n",
      "5       2112\n",
      "6        663\n",
      "7        223\n",
      "8        121\n",
      "9         48\n",
      "10        19\n",
      "11         6\n",
      "14         3\n",
      "18         2\n",
      "12         2\n",
      "16         1\n",
      "Name: NUM_UNITS, dtype: int64\n",
      "\n",
      "CRASH_HOUR\n",
      "\n",
      "16    57074\n",
      "15    56059\n",
      "17    56034\n",
      "14    49134\n",
      "18    44904\n",
      "13    44108\n",
      "12    41438\n",
      "8     37733\n",
      "11    36144\n",
      "9     31878\n",
      "10    31641\n",
      "19    31493\n",
      "7     30176\n",
      "20    23946\n",
      "21    21007\n",
      "22    18958\n",
      "23    15302\n",
      "6     14259\n",
      "0     11096\n",
      "1      8958\n",
      "2      7435\n",
      "5      7392\n",
      "3      5764\n",
      "4      5345\n",
      "Name: CRASH_HOUR, dtype: int64\n",
      "\n",
      "CRASH_DAY_OF_WEEK\n",
      "\n",
      "6    114828\n",
      "5    101485\n",
      "4    100409\n",
      "3    100079\n",
      "7     99177\n",
      "2     94498\n",
      "1     76802\n",
      "Name: CRASH_DAY_OF_WEEK, dtype: int64\n",
      "\n",
      "CRASH_MONTH\n",
      "\n",
      "10    67466\n",
      "9     65508\n",
      "8     63371\n",
      "7     61365\n",
      "6     59000\n",
      "5     57101\n",
      "12    55738\n",
      "11    54418\n",
      "1     52060\n",
      "3     51577\n",
      "2     50859\n",
      "4     48815\n",
      "Name: CRASH_MONTH, dtype: int64\n",
      "\n",
      "LATITUDE\n",
      "\n",
      "0.000000     4669\n",
      "41.976201     998\n",
      "41.900959     616\n",
      "41.751461     592\n",
      "41.791420     537\n",
      "             ... \n",
      "41.886852       1\n",
      "41.976721       1\n",
      "41.902831       1\n",
      "41.851814       1\n",
      "41.805925       1\n",
      "Name: LATITUDE, Length: 176818, dtype: int64\n",
      "\n",
      "LONGITUDE\n",
      "\n",
      " 0.000000     4669\n",
      "-87.905309     998\n",
      "-87.619928     616\n",
      "-87.585972     592\n",
      "-87.580148     537\n",
      "              ... \n",
      "-87.711234       1\n",
      "-87.614681       1\n",
      "-87.720839       1\n",
      "-87.731871       1\n",
      "-87.687627       1\n",
      "Name: LONGITUDE, Length: 176799, dtype: int64\n",
      "\n",
      "LOCATION\n",
      "\n",
      "0                                           4609\n",
      "POINT (-87.905309125103 41.976201139024)     998\n",
      "POINT (-87.619928173678 41.900958919109)     616\n",
      "POINT (-87.585971992965 41.751460603167)     592\n",
      "POINT (-87.580147768689 41.791420282098)     537\n",
      "                                            ... \n",
      "POINT (-87.634906924286 41.718041718283)       1\n",
      "POINT (-87.718713434376 41.751520619235)       1\n",
      "POINT (-87.702890110317 41.939956160401)       1\n",
      "POINT (-87.650464796725 41.947197081987)       1\n",
      "POINT (-87.721273226906 41.924659762056)       1\n",
      "Name: LOCATION, Length: 176882, dtype: int64\n"
     ]
    }
   ],
   "source": [
    "# Loop through each of the columns and print it's unique values\n",
    "\n",
    "for col in df_vehicles_people_crashes.columns:\n",
    "    print('\\n' + col + '\\n')\n",
    "    print(df_vehicles_people_crashes[col].value_counts())"
   ]
  },
  {
   "cell_type": "markdown",
   "metadata": {},
   "source": [
    "Looking at the values in each of our columns, we can make the following adjustments.\n",
    "\n",
    "* UNIT_NO has most values in 1 and 2. Since we are looking at the accident as a whole and not individual vehices, we will drop this column.\n",
    "* UNIT_TYPE has only one value. We will drop this.\n",
    "* VEHICLE_ID is not required anymore. We will drop this.\n",
    "* VEHICLE_DEFECT has majority values as NONE or UNKNOWN. This does not give us much insight so we will drop this.\n",
    "* VEHICLE_TYPE has majority values for PASSENGER. We are not able to say for sure if the other classes are either passenger or not . We will drop this column.\n",
    "* VEHICLE_USE has most values as PERSONAL, UNKNOWN/NA and OTHER. We will drop this.\n",
    "* TRAVEL_DIRECTION does not mean much to our analysis. We will drop this.\n",
    "* MANEUVER is something we are interested in so we will keep this as is.\n",
    "* FIRST_CONTACT_POINT is not relevant to our analysis. We will drop this.\n",
    "* PERSON_TYPE only has one class. We will drop this column.\n",
    "* CRASH_RECORD_ID is not required anymore. We will drop this.\n",
    "* SEX and AGE can be left as is.\n",
    "* FIRST_CRASH_TYPE has very distinct classes. Although irregularly distributed, all of them seem important. We will leave this as is. \n",
    "* ALIGNMENT has most values in only one class. We will drop this column.\n",
    "* PRIM_CONTRIBUTORY_CAUSE also has very distinct classes. We will leave them as is.\n",
    "* NUM_UNITS has most values in 2, 3 and 1. Since there are not too many classes with enough values, we will drop this.\n",
    "* CRASH_HOUR, CRASH_DAY_OF_WEEK, CRASH_MONTH, LATITUDE, LONGITUDE, and LOCATION are specific to each accident. we will leave them as is.\n",
    "* Rest of the columns consist of information that we need for our analysis. We will look at them individually. \n",
    "\n",
    "For our target variable, we will use CRASH_TYPE and DAMAGE. Combining these two columns, we will create four new classes where all our input variables will converge.\n",
    "\n",
    "- NO INJURY / DAMAGE < 1500\n",
    "- NO INJURY / DAMAGE > 1500\n",
    "- INJURY / DAMAGE < 1500\n",
    "- INJURY / DAMAGE > 1500"
   ]
  },
  {
   "cell_type": "code",
   "execution_count": 47,
   "metadata": {},
   "outputs": [],
   "source": [
    "columns_to_drop = ['UNIT_NO', 'UNIT_TYPE', 'VEHICLE_ID', 'VEHICLE_DEFECT', 'VEHICLE_TYPE',\n",
    "       'VEHICLE_USE', 'TRAVEL_DIRECTION', 'FIRST_CONTACT_POINT',\n",
    "       'PERSON_TYPE', 'CRASH_RECORD_ID', 'NUM_UNITS']"
   ]
  },
  {
   "cell_type": "code",
   "execution_count": 48,
   "metadata": {},
   "outputs": [],
   "source": [
    "# Drop the irrelevant columns and save the data in a new dataframe\n",
    "\n",
    "df_clean = df_vehicles_people_crashes.drop(columns_to_drop, axis=1).copy()"
   ]
  },
  {
   "cell_type": "code",
   "execution_count": 49,
   "metadata": {},
   "outputs": [
    {
     "data": {
      "text/plain": [
       "Index(['MANEUVER', 'SEX', 'AGE', 'DRIVER_VISION', 'PHYSICAL_CONDITION',\n",
       "       'POSTED_SPEED_LIMIT', 'TRAFFIC_CONTROL_DEVICE', 'DEVICE_CONDITION',\n",
       "       'WEATHER_CONDITION', 'LIGHTING_CONDITION', 'FIRST_CRASH_TYPE',\n",
       "       'TRAFFICWAY_TYPE', 'ALIGNMENT', 'ROADWAY_SURFACE_COND', 'ROAD_DEFECT',\n",
       "       'CRASH_TYPE', 'DAMAGE', 'PRIM_CONTRIBUTORY_CAUSE', 'CRASH_HOUR',\n",
       "       'CRASH_DAY_OF_WEEK', 'CRASH_MONTH', 'LATITUDE', 'LONGITUDE',\n",
       "       'LOCATION'],\n",
       "      dtype='object')"
      ]
     },
     "execution_count": 49,
     "metadata": {},
     "output_type": "execute_result"
    }
   ],
   "source": [
    "df_clean.columns"
   ]
  },
  {
   "cell_type": "code",
   "execution_count": 50,
   "metadata": {},
   "outputs": [
    {
     "data": {
      "text/plain": [
       "(687278, 24)"
      ]
     },
     "execution_count": 50,
     "metadata": {},
     "output_type": "execute_result"
    }
   ],
   "source": [
    "df_clean.shape"
   ]
  },
  {
   "cell_type": "markdown",
   "metadata": {},
   "source": [
    "We now have 24 columns. If we create the target variable using two of the columns as explained above, we will end up with 22 columns or predictor variables. The unique values also show unequal distribution of data across each predictor. This can lead to model bias, which attributes more importance to classes that are more in numbers than those that are not, thus giving us incorrect results. To solve this, we will have to look into each of these predictors independently and see if we can combine some categories to make the distribution normal."
   ]
  },
  {
   "cell_type": "markdown",
   "metadata": {},
   "source": [
    "We are now down to 24 columns. However, we can see that each of these predictors have multiple classes. It will be very difficult for us to model each and every class present in every predictor.  "
   ]
  },
  {
   "cell_type": "markdown",
   "metadata": {},
   "source": [
    "### Predictor Variables"
   ]
  },
  {
   "cell_type": "markdown",
   "metadata": {},
   "source": [
    "#### MANEUVER"
   ]
  },
  {
   "cell_type": "code",
   "execution_count": 51,
   "metadata": {},
   "outputs": [
    {
     "data": {
      "text/plain": [
       "STRAIGHT AHEAD                        392414\n",
       "SLOW/STOP IN TRAFFIC                   76486\n",
       "TURNING LEFT                           52665\n",
       "BACKING                                29930\n",
       "TURNING RIGHT                          28219\n",
       "UNKNOWN/NA                             16744\n",
       "CHANGING LANES                         14848\n",
       "PASSING/OVERTAKING                     14186\n",
       "OTHER                                  13418\n",
       "ENTERING TRAFFIC LANE FROM PARKING      9600\n",
       "STARTING IN TRAFFIC                     5597\n",
       "MERGING                                 5540\n",
       "U-TURN                                  4319\n",
       "AVOIDING VEHICLES/OBJECTS               4214\n",
       "LEAVING TRAFFIC LANE TO PARK            4008\n",
       "SKIDDING/CONTROL LOSS                   3640\n",
       "ENTER FROM DRIVE/ALLEY                  3342\n",
       "SLOW/STOP - LEFT TURN                   2684\n",
       "SLOW/STOP - RIGHT TURN                  1650\n",
       "SLOW/STOP - LOAD/UNLOAD                 1446\n",
       "NEGOTIATING A CURVE                     1077\n",
       "DRIVING WRONG WAY                        829\n",
       "TURNING ON RED                           288\n",
       "DIVERGING                                123\n",
       "PARKED                                    10\n",
       "PARKED IN TRAFFIC LANE                     1\n",
       "Name: MANEUVER, dtype: int64"
      ]
     },
     "execution_count": 51,
     "metadata": {},
     "output_type": "execute_result"
    }
   ],
   "source": [
    "df_clean.MANEUVER.value_counts()"
   ]
  },
  {
   "cell_type": "markdown",
   "metadata": {},
   "source": [
    "All values are unique to itself so we will leave this column as is."
   ]
  },
  {
   "cell_type": "markdown",
   "metadata": {},
   "source": [
    "#### SEX"
   ]
  },
  {
   "cell_type": "code",
   "execution_count": 52,
   "metadata": {},
   "outputs": [
    {
     "data": {
      "text/plain": [
       "M    410779\n",
       "F    276499\n",
       "Name: SEX, dtype: int64"
      ]
     },
     "execution_count": 52,
     "metadata": {},
     "output_type": "execute_result"
    }
   ],
   "source": [
    "df_clean.SEX.value_counts()"
   ]
  },
  {
   "cell_type": "markdown",
   "metadata": {},
   "source": [
    "There are only two classes here. However, we will have to take note that there are almost double of males than females in our dataset. While interpreting the results, we will have to keep this in consideration."
   ]
  },
  {
   "cell_type": "markdown",
   "metadata": {},
   "source": [
    "The count of Males are almost double than that of Females. The model will give higher probablity of an accident to a male than a female, but this is what our data shows. "
   ]
  },
  {
   "cell_type": "markdown",
   "metadata": {},
   "source": [
    "#### AGE"
   ]
  },
  {
   "cell_type": "code",
   "execution_count": 53,
   "metadata": {},
   "outputs": [
    {
     "data": {
      "text/plain": [
       "25     20676\n",
       "27     20577\n",
       "26     20525\n",
       "28     20015\n",
       "24     19569\n",
       "       ...  \n",
       "107        2\n",
       "104        2\n",
       "109        2\n",
       "110        2\n",
       "108        2\n",
       "Name: AGE, Length: 107, dtype: int64"
      ]
     },
     "execution_count": 53,
     "metadata": {},
     "output_type": "execute_result"
    }
   ],
   "source": [
    "df_clean.AGE.value_counts()"
   ]
  },
  {
   "cell_type": "markdown",
   "metadata": {},
   "source": [
    "AGE is a numerical value and can be left as is."
   ]
  },
  {
   "cell_type": "markdown",
   "metadata": {},
   "source": [
    "#### DRIVER VISION"
   ]
  },
  {
   "cell_type": "code",
   "execution_count": 54,
   "metadata": {},
   "outputs": [
    {
     "data": {
      "text/plain": [
       "NOT OBSCURED              470250\n",
       "UNKNOWN                   195871\n",
       "OTHER                       7785\n",
       "MOVING VEHICLES             5404\n",
       "PARKED VEHICLES             3252\n",
       "WINDSHIELD (WATER/ICE)      2625\n",
       "BLINDED - SUNLIGHT          1096\n",
       "TREES, PLANTS                397\n",
       "BUILDINGS                    306\n",
       "BLINDED - HEADLIGHTS          78\n",
       "HILLCREST                     74\n",
       "BLOWING MATERIALS             63\n",
       "EMBANKMENT                    56\n",
       "SIGNBOARD                     21\n",
       "Name: DRIVER_VISION, dtype: int64"
      ]
     },
     "execution_count": 54,
     "metadata": {},
     "output_type": "execute_result"
    }
   ],
   "source": [
    "df_clean.DRIVER_VISION.value_counts()"
   ]
  },
  {
   "cell_type": "markdown",
   "metadata": {},
   "source": [
    "- NOT OBSCURED has the highest number of values. We will leave them as os.\n",
    "- UNKNOWN cannot be classified into anything else so we will zero them out.\n",
    "- Rest of the classes all have very small number of values and are different variations of being obscured. We will group these together as OBSCURED."
   ]
  },
  {
   "cell_type": "code",
   "execution_count": 55,
   "metadata": {},
   "outputs": [],
   "source": [
    "df_clean.DRIVER_VISION = df_clean.DRIVER_VISION.map(lambda x: 'OBSCURED' \n",
    "                                                         if x not in ['NOT OBSCURED', \n",
    "                                                                      'UNKNOWN'] else x)\n",
    "df_clean.DRIVER_VISION = df_clean.DRIVER_VISION.map(lambda x: 0\n",
    "                                                         if x not in ['NOT OBSCURED',\n",
    "                                                                      'OBSCURED'] else x)"
   ]
  },
  {
   "cell_type": "code",
   "execution_count": 56,
   "metadata": {},
   "outputs": [
    {
     "data": {
      "text/plain": [
       "NOT OBSCURED    470250\n",
       "0               195871\n",
       "OBSCURED         21157\n",
       "Name: DRIVER_VISION, dtype: int64"
      ]
     },
     "execution_count": 56,
     "metadata": {},
     "output_type": "execute_result"
    }
   ],
   "source": [
    "df_clean.DRIVER_VISION.value_counts()"
   ]
  },
  {
   "cell_type": "markdown",
   "metadata": {},
   "source": [
    "#### PHYSICAL CONDITION"
   ]
  },
  {
   "cell_type": "code",
   "execution_count": 57,
   "metadata": {},
   "outputs": [
    {
     "data": {
      "text/plain": [
       "NORMAL                          583584\n",
       "UNKNOWN                          89038\n",
       "IMPAIRED - ALCOHOL                3943\n",
       "REMOVED BY EMS                    2412\n",
       "FATIGUED/ASLEEP                   2368\n",
       "OTHER                             1954\n",
       "EMOTIONAL                         1853\n",
       "ILLNESS/FAINTED                    864\n",
       "HAD BEEN DRINKING                  502\n",
       "IMPAIRED - DRUGS                   460\n",
       "IMPAIRED - ALCOHOL AND DRUGS       192\n",
       "MEDICATED                          108\n",
       "Name: PHYSICAL_CONDITION, dtype: int64"
      ]
     },
     "execution_count": 57,
     "metadata": {},
     "output_type": "execute_result"
    }
   ],
   "source": [
    "df_clean.PHYSICAL_CONDITION.value_counts()"
   ]
  },
  {
   "cell_type": "markdown",
   "metadata": {},
   "source": [
    "- NORMAL has the highest number of values. We will leave them as is.\n",
    "- UNKNOWN will be changed to zero.\n",
    "- Everything else is a version of IMPARIED. We will rename the rest as IMPAIRED."
   ]
  },
  {
   "cell_type": "code",
   "execution_count": 58,
   "metadata": {},
   "outputs": [],
   "source": [
    "df_clean.PHYSICAL_CONDITION = df_clean.PHYSICAL_CONDITION.map(lambda x: 'IMPAIRED' \n",
    "                                                                   if x not in ['NORMAL', \n",
    "                                                                                'UNKNOWN'] else x)\n",
    "df_clean.PHYSICAL_CONDITION = df_clean.PHYSICAL_CONDITION.map(lambda x: 0\n",
    "                                                                   if x == 'UNKNOWN' else x)"
   ]
  },
  {
   "cell_type": "code",
   "execution_count": 59,
   "metadata": {},
   "outputs": [
    {
     "data": {
      "text/plain": [
       "NORMAL      583584\n",
       "0            89038\n",
       "IMPAIRED     14656\n",
       "Name: PHYSICAL_CONDITION, dtype: int64"
      ]
     },
     "execution_count": 59,
     "metadata": {},
     "output_type": "execute_result"
    }
   ],
   "source": [
    "df_clean.PHYSICAL_CONDITION.value_counts()"
   ]
  },
  {
   "cell_type": "markdown",
   "metadata": {},
   "source": [
    "#### POSTED SPEED LIMIT"
   ]
  },
  {
   "cell_type": "code",
   "execution_count": 60,
   "metadata": {},
   "outputs": [
    {
     "data": {
      "text/plain": [
       "30    526232\n",
       "35     52821\n",
       "25     36525\n",
       "20     19937\n",
       "15     16537\n",
       "10      9956\n",
       "40      8027\n",
       "0       7271\n",
       "45      5065\n",
       "5       3319\n",
       "55       731\n",
       "3        177\n",
       "50       176\n",
       "9        105\n",
       "99        83\n",
       "39        81\n",
       "60        39\n",
       "1         38\n",
       "24        20\n",
       "32        20\n",
       "2         18\n",
       "34        17\n",
       "33        15\n",
       "65        13\n",
       "11         9\n",
       "6          8\n",
       "36         6\n",
       "14         4\n",
       "31         4\n",
       "12         3\n",
       "7          3\n",
       "18         2\n",
       "38         2\n",
       "22         2\n",
       "63         2\n",
       "4          2\n",
       "70         2\n",
       "29         2\n",
       "26         2\n",
       "49         1\n",
       "23         1\n",
       "Name: POSTED_SPEED_LIMIT, dtype: int64"
      ]
     },
     "execution_count": 60,
     "metadata": {},
     "output_type": "execute_result"
    }
   ],
   "source": [
    "df_clean.POSTED_SPEED_LIMIT.value_counts()"
   ]
  },
  {
   "cell_type": "markdown",
   "metadata": {},
   "source": [
    "We know that speed limits are usually in multiples of 5. We'll use this logic to group the above variation. The national speed limimt for school area is 15 mph, which is also the lowest speed limit. We will use this as the cutoff."
   ]
  },
  {
   "cell_type": "code",
   "execution_count": 61,
   "metadata": {},
   "outputs": [],
   "source": [
    "df_clean.POSTED_SPEED_LIMIT = df_clean.POSTED_SPEED_LIMIT.map(lambda x: 15 if x <= 15 else x)\n",
    "df_clean.POSTED_SPEED_LIMIT = df_clean.POSTED_SPEED_LIMIT.map(lambda x: 20 if 15 < x <= 20 else x)\n",
    "df_clean.POSTED_SPEED_LIMIT = df_clean.POSTED_SPEED_LIMIT.map(lambda x: 25 if 20 < x <= 25 else x)\n",
    "df_clean.POSTED_SPEED_LIMIT = df_clean.POSTED_SPEED_LIMIT.map(lambda x: 30 if 25 < x <= 30 else x)\n",
    "df_clean.POSTED_SPEED_LIMIT = df_clean.POSTED_SPEED_LIMIT.map(lambda x: 35 if 30 < x <= 35 else x)\n",
    "df_clean.POSTED_SPEED_LIMIT = df_clean.POSTED_SPEED_LIMIT.map(lambda x: 40 if 35 < x <= 40 else x)\n",
    "df_clean.POSTED_SPEED_LIMIT = df_clean.POSTED_SPEED_LIMIT.map(lambda x: 45 if 40 < x <= 45 else x)\n",
    "df_clean.POSTED_SPEED_LIMIT = df_clean.POSTED_SPEED_LIMIT.map(lambda x: 50 if 45 < x <= 50 else x)\n",
    "df_clean.POSTED_SPEED_LIMIT = df_clean.POSTED_SPEED_LIMIT.map(lambda x: 55 if 50 < x <= 55 else x)\n",
    "df_clean.POSTED_SPEED_LIMIT = df_clean.POSTED_SPEED_LIMIT.map(lambda x: 60 if 55 < x <= 60 else x)\n",
    "df_clean.POSTED_SPEED_LIMIT = df_clean.POSTED_SPEED_LIMIT.map(lambda x: 65 if 60 < x <= 65 else x)\n",
    "df_clean.POSTED_SPEED_LIMIT = df_clean.POSTED_SPEED_LIMIT.map(lambda x: 70 if 65 < x else x)"
   ]
  },
  {
   "cell_type": "code",
   "execution_count": 62,
   "metadata": {},
   "outputs": [
    {
     "data": {
      "text/plain": [
       "30    526236\n",
       "35     52877\n",
       "15     37450\n",
       "25     36548\n",
       "20     19939\n",
       "40      8116\n",
       "45      5065\n",
       "55       731\n",
       "50       177\n",
       "70        85\n",
       "60        39\n",
       "65        15\n",
       "Name: POSTED_SPEED_LIMIT, dtype: int64"
      ]
     },
     "execution_count": 62,
     "metadata": {},
     "output_type": "execute_result"
    }
   ],
   "source": [
    "df_clean.POSTED_SPEED_LIMIT.value_counts()"
   ]
  },
  {
   "cell_type": "code",
   "execution_count": 63,
   "metadata": {},
   "outputs": [
    {
     "data": {
      "text/plain": [
       "numpy.int64"
      ]
     },
     "execution_count": 63,
     "metadata": {},
     "output_type": "execute_result"
    }
   ],
   "source": [
    "type(df_clean.POSTED_SPEED_LIMIT[1])"
   ]
  },
  {
   "cell_type": "markdown",
   "metadata": {},
   "source": [
    "We also need these as classes so we will transform them into string values."
   ]
  },
  {
   "cell_type": "code",
   "execution_count": 64,
   "metadata": {},
   "outputs": [],
   "source": [
    "# Convert SPEED values to string\n",
    "\n",
    "df_clean.POSTED_SPEED_LIMIT = df_clean.POSTED_SPEED_LIMIT.map(lambda x: str(x))"
   ]
  },
  {
   "cell_type": "markdown",
   "metadata": {},
   "source": [
    "#### TRAFFIC CONTROL DEVICE"
   ]
  },
  {
   "cell_type": "code",
   "execution_count": 65,
   "metadata": {},
   "outputs": [
    {
     "data": {
      "text/plain": [
       "NO CONTROLS                 337581\n",
       "TRAFFIC SIGNAL              239472\n",
       "STOP SIGN/FLASHER            81014\n",
       "UNKNOWN                      18824\n",
       "OTHER                         4061\n",
       "LANE USE MARKING              1812\n",
       "YIELD                         1145\n",
       "OTHER REG. SIGN                663\n",
       "OTHER WARNING SIGN             581\n",
       "RAILROAD CROSSING GATE         519\n",
       "PEDESTRIAN CROSSING SIGN       306\n",
       "POLICE/FLAGMAN                 301\n",
       "FLASHING CONTROL SIGNAL        254\n",
       "DELINEATORS                    237\n",
       "SCHOOL ZONE                    193\n",
       "OTHER RAILROAD CROSSING        177\n",
       "RR CROSSING SIGN                80\n",
       "NO PASSING                      41\n",
       "BICYCLE CROSSING SIGN           17\n",
       "Name: TRAFFIC_CONTROL_DEVICE, dtype: int64"
      ]
     },
     "execution_count": 65,
     "metadata": {},
     "output_type": "execute_result"
    }
   ],
   "source": [
    "df_clean.TRAFFIC_CONTROL_DEVICE.value_counts()"
   ]
  },
  {
   "cell_type": "markdown",
   "metadata": {},
   "source": [
    "- NO CONTROLS has the highest number of values. We will leave them as is.\n",
    "- TRAFFIC SIGNAL has the second highest number of values. We will also leave them as is.\n",
    "- UNKNOWN will be changed to zero.\n",
    "- Rest can be grouped into one as they all have smaller values and are some form of OTHER CONTROLS."
   ]
  },
  {
   "cell_type": "code",
   "execution_count": 66,
   "metadata": {},
   "outputs": [],
   "source": [
    "# Rename the rest as OTHER CONTROLS\n",
    "\n",
    "df_clean.TRAFFIC_CONTROL_DEVICE = df_clean.TRAFFIC_CONTROL_DEVICE.map(lambda x: 'OTHER CONTROLS'\n",
    "                                                                           if x not in ['NO CONTROLS', \n",
    "                                                                                        'TRAFFIC SIGNAL',\n",
    "                                                                                        'UNKNOWN'] else x)\n",
    "df_clean.TRAFFIC_CONTROL_DEVICE = df_clean.TRAFFIC_CONTROL_DEVICE.map(lambda x: 0\n",
    "                                                                           if x == 'UNKNOWN' else x)"
   ]
  },
  {
   "cell_type": "code",
   "execution_count": 67,
   "metadata": {},
   "outputs": [
    {
     "data": {
      "text/plain": [
       "NO CONTROLS       337581\n",
       "TRAFFIC SIGNAL    239472\n",
       "OTHER CONTROLS     91401\n",
       "0                  18824\n",
       "Name: TRAFFIC_CONTROL_DEVICE, dtype: int64"
      ]
     },
     "execution_count": 67,
     "metadata": {},
     "output_type": "execute_result"
    }
   ],
   "source": [
    "df_clean.TRAFFIC_CONTROL_DEVICE.value_counts()"
   ]
  },
  {
   "cell_type": "markdown",
   "metadata": {},
   "source": [
    "#### DEVICE CONDITION"
   ]
  },
  {
   "cell_type": "code",
   "execution_count": 68,
   "metadata": {},
   "outputs": [
    {
     "data": {
      "text/plain": [
       "NO CONTROLS                 344997\n",
       "FUNCTIONING PROPERLY        294116\n",
       "UNKNOWN                      35406\n",
       "OTHER                         5560\n",
       "FUNCTIONING IMPROPERLY        4344\n",
       "NOT FUNCTIONING               2430\n",
       "WORN REFLECTIVE MATERIAL       329\n",
       "MISSING                         96\n",
       "Name: DEVICE_CONDITION, dtype: int64"
      ]
     },
     "execution_count": 68,
     "metadata": {},
     "output_type": "execute_result"
    }
   ],
   "source": [
    "df_clean.DEVICE_CONDITION.value_counts()"
   ]
  },
  {
   "cell_type": "markdown",
   "metadata": {},
   "source": [
    "- NO CONTROLS and FUNCTIONING PROPERLY has the highest number of values. We will leave them as is.\n",
    "- UNKNOWN, OTHER and MISSING all mean the same thing. We will rename them to zero.\n",
    "- WORN_RELECTIVE_MATERIAL basically means that the device was functioning properly. We will re-classify them as FUNCTIONING PROPERLY.\n",
    "* FUNCTIONING IMPROPERLY is as good as NOT FUNCTIONING at all. We will group them together. "
   ]
  },
  {
   "cell_type": "code",
   "execution_count": 69,
   "metadata": {},
   "outputs": [],
   "source": [
    "df_clean.DEVICE_CONDITION = df_clean.DEVICE_CONDITION.map(lambda x: 0 \n",
    "                                                               if x in ['UNKNOWN', \n",
    "                                                                        'OTHER',\n",
    "                                                                        'MISSING'] else x)\n",
    "df_clean.DEVICE_CONDITION = df_clean.DEVICE_CONDITION.map(lambda x: 'FUNCTIONING' \n",
    "                                                               if x in ['FUNCTIONING PROPERLY', \n",
    "                                                                        'WORN REFLECTIVE MATERIAL'] else x)\n",
    "df_clean.DEVICE_CONDITION = df_clean.DEVICE_CONDITION.apply(lambda x: 'NOT FUNCTIONING' \n",
    "                                                                 if x in ['FUNCTIONING IMPROPERLY',\n",
    "                                                                          'NOT FUNCTIONING'] else x)"
   ]
  },
  {
   "cell_type": "code",
   "execution_count": 70,
   "metadata": {},
   "outputs": [
    {
     "data": {
      "text/plain": [
       "NO CONTROLS        344997\n",
       "FUNCTIONING        294445\n",
       "0                   41062\n",
       "NOT FUNCTIONING      6774\n",
       "Name: DEVICE_CONDITION, dtype: int64"
      ]
     },
     "execution_count": 70,
     "metadata": {},
     "output_type": "execute_result"
    }
   ],
   "source": [
    "df_clean.DEVICE_CONDITION.value_counts()"
   ]
  },
  {
   "cell_type": "markdown",
   "metadata": {},
   "source": [
    "#### WEATHER CONDITION"
   ]
  },
  {
   "cell_type": "code",
   "execution_count": 71,
   "metadata": {},
   "outputs": [
    {
     "data": {
      "text/plain": [
       "CLEAR                       553170\n",
       "RAIN                         64669\n",
       "SNOW                         24749\n",
       "CLOUDY/OVERCAST              22669\n",
       "UNKNOWN                      16687\n",
       "OTHER                         2088\n",
       "FOG/SMOKE/HAZE                1064\n",
       "SLEET/HAIL                     981\n",
       "FREEZING RAIN/DRIZZLE          877\n",
       "BLOWING SNOW                   203\n",
       "SEVERE CROSS WIND GATE         117\n",
       "BLOWING SAND, SOIL, DIRT         4\n",
       "Name: WEATHER_CONDITION, dtype: int64"
      ]
     },
     "execution_count": 71,
     "metadata": {},
     "output_type": "execute_result"
    }
   ],
   "source": [
    "df_clean.WEATHER_CONDITION.value_counts()"
   ]
  },
  {
   "cell_type": "markdown",
   "metadata": {},
   "source": [
    "- BLOWING SNOW can be combined with SNOW to create a singular class for when snow is present.\n",
    "- FREEZING RAIN/DRIZZLE and SLEET/HAIL both occurs during a rain. We will combine them with rain.\n",
    "- FOG/SMOKE/HAZE, SEVERE CROSS WIND GATE, and BLOWING SAND, SOIL, DIRT, are all unique scenarios but with very low number of instances. We will group them with OTHER to reduce variation and increase number of class observation.\n",
    "- UNKNOWN will be changed to zero."
   ]
  },
  {
   "cell_type": "code",
   "execution_count": 72,
   "metadata": {},
   "outputs": [],
   "source": [
    "df_clean.WEATHER_CONDITION = df_clean.WEATHER_CONDITION.map(lambda x: 'SNOW' \n",
    "                                                                 if x == 'BLOWING SNOW' else x)\n",
    "df_clean.WEATHER_CONDITION = df_clean.WEATHER_CONDITION.map(lambda x: 'RAIN' \n",
    "                                                                 if x in ['FREEZING RAIN/DRIZZLE',\n",
    "                                                                          'SLEET/HAIL'] else x)\n",
    "df_clean.WEATHER_CONDITION = df_clean.WEATHER_CONDITION.map(lambda x: 'OTHER' \n",
    "                                                                 if x in ['FOG/SMOKE/HAZE',\n",
    "                                                                          'SEVERE CROSS WIND GATE',\n",
    "                                                                          'BLOWING SAND, SOIL, DIRT'] else x)\n",
    "df_clean.WEATHER_CONDITION = df_clean.WEATHER_CONDITION.map(lambda x: 0\n",
    "                                                                 if x == 'UNKNOWN' else x)"
   ]
  },
  {
   "cell_type": "code",
   "execution_count": 73,
   "metadata": {},
   "outputs": [
    {
     "data": {
      "text/plain": [
       "CLEAR              553170\n",
       "RAIN                66527\n",
       "SNOW                24952\n",
       "CLOUDY/OVERCAST     22669\n",
       "0                   16687\n",
       "OTHER                3273\n",
       "Name: WEATHER_CONDITION, dtype: int64"
      ]
     },
     "execution_count": 73,
     "metadata": {},
     "output_type": "execute_result"
    }
   ],
   "source": [
    "df_clean.WEATHER_CONDITION.value_counts()"
   ]
  },
  {
   "cell_type": "markdown",
   "metadata": {},
   "source": [
    "#### LIGHTING CONDITION"
   ]
  },
  {
   "cell_type": "code",
   "execution_count": 74,
   "metadata": {},
   "outputs": [
    {
     "data": {
      "text/plain": [
       "DAYLIGHT                  475805\n",
       "DARKNESS, LIGHTED ROAD    139300\n",
       "DARKNESS                   28575\n",
       "DUSK                       21579\n",
       "DAWN                       11412\n",
       "UNKNOWN                    10607\n",
       "Name: LIGHTING_CONDITION, dtype: int64"
      ]
     },
     "execution_count": 74,
     "metadata": {},
     "output_type": "execute_result"
    }
   ],
   "source": [
    "df_clean.LIGHTING_CONDITION.value_counts()"
   ]
  },
  {
   "cell_type": "markdown",
   "metadata": {},
   "source": [
    "- There is two different instances for DARKNESS. We will combine them to be one.\n",
    "- UNKNOWN will be changed to zero."
   ]
  },
  {
   "cell_type": "code",
   "execution_count": 75,
   "metadata": {},
   "outputs": [],
   "source": [
    "df_clean.LIGHTING_CONDITION = df_clean.LIGHTING_CONDITION.map(lambda x: 'DARKNESS' \n",
    "                                                                   if x == 'DARKNESS, LIGHTED ROAD' else x)\n",
    "df_clean.LIGHTING_CONDITION = df_clean.LIGHTING_CONDITION.map(lambda x: 0\n",
    "                                                                   if x == 'UNKNOWN' else x)"
   ]
  },
  {
   "cell_type": "code",
   "execution_count": 76,
   "metadata": {},
   "outputs": [
    {
     "data": {
      "text/plain": [
       "DAYLIGHT    475805\n",
       "DARKNESS    167875\n",
       "DUSK         21579\n",
       "DAWN         11412\n",
       "0            10607\n",
       "Name: LIGHTING_CONDITION, dtype: int64"
      ]
     },
     "execution_count": 76,
     "metadata": {},
     "output_type": "execute_result"
    }
   ],
   "source": [
    "df_clean.LIGHTING_CONDITION.value_counts()"
   ]
  },
  {
   "cell_type": "markdown",
   "metadata": {},
   "source": [
    "#### TRAFFICWAY TYPE"
   ]
  },
  {
   "cell_type": "code",
   "execution_count": 77,
   "metadata": {},
   "outputs": [
    {
     "data": {
      "text/plain": [
       "NOT DIVIDED                        314487\n",
       "DIVIDED - W/MEDIAN (NOT RAISED)    138571\n",
       "ONE-WAY                             63486\n",
       "DIVIDED - W/MEDIAN BARRIER          47827\n",
       "FOUR WAY                            34596\n",
       "PARKING LOT                         32342\n",
       "OTHER                               18194\n",
       "ALLEY                                8006\n",
       "CENTER TURN LANE                     7235\n",
       "T-INTERSECTION                       7162\n",
       "UNKNOWN                              6317\n",
       "RAMP                                 2430\n",
       "DRIVEWAY                             1868\n",
       "UNKNOWN INTERSECTION TYPE            1861\n",
       "FIVE POINT, OR MORE                   886\n",
       "Y-INTERSECTION                        849\n",
       "TRAFFIC ROUTE                         627\n",
       "NOT REPORTED                          284\n",
       "ROUNDABOUT                            148\n",
       "L-INTERSECTION                        102\n",
       "Name: TRAFFICWAY_TYPE, dtype: int64"
      ]
     },
     "execution_count": 77,
     "metadata": {},
     "output_type": "execute_result"
    }
   ],
   "source": [
    "df_clean.TRAFFICWAY_TYPE.value_counts()"
   ]
  },
  {
   "cell_type": "markdown",
   "metadata": {},
   "source": [
    "- All classes related to INTERSECTION can be grouped into one.\n",
    "- We can combine the DIVIDED variations into one as well.\n",
    "- NOT REPORTED is also UNKNOWN. We will rename them both to zero.\n",
    "- Rest is all unique."
   ]
  },
  {
   "cell_type": "code",
   "execution_count": 78,
   "metadata": {},
   "outputs": [],
   "source": [
    "df_clean.TRAFFICWAY_TYPE = df_clean.TRAFFICWAY_TYPE.map(lambda x: 'INTERSECTION' \n",
    "                                                             if x in ['T-INTERSECTION',\n",
    "                                                                      'UNKNOWN INTERSECTION TYPE',\n",
    "                                                                      'Y-INTERSECTION',\n",
    "                                                                      'L-INTERSECTION'] else x)\n",
    "df_clean.TRAFFICWAY_TYPE = df_clean.TRAFFICWAY_TYPE.map(lambda x: 'DIVIDED' \n",
    "                                                             if x in ['DIVIDED - W/MEDIAN (NOT RAISED)',\n",
    "                                                                      'DIVIDED - W/MEDIAN BARRIER'] else x)\n",
    "df_clean.TRAFFICWAY_TYPE = df_clean.TRAFFICWAY_TYPE.map(lambda x: 0\n",
    "                                                            if x in ['UNKNOWN',\n",
    "                                                                     'NOT REPORTED'] else x)"
   ]
  },
  {
   "cell_type": "code",
   "execution_count": 79,
   "metadata": {},
   "outputs": [
    {
     "data": {
      "text/plain": [
       "NOT DIVIDED            314487\n",
       "DIVIDED                186398\n",
       "ONE-WAY                 63486\n",
       "FOUR WAY                34596\n",
       "PARKING LOT             32342\n",
       "OTHER                   18194\n",
       "INTERSECTION             9974\n",
       "ALLEY                    8006\n",
       "CENTER TURN LANE         7235\n",
       "0                        6601\n",
       "RAMP                     2430\n",
       "DRIVEWAY                 1868\n",
       "FIVE POINT, OR MORE       886\n",
       "TRAFFIC ROUTE             627\n",
       "ROUNDABOUT                148\n",
       "Name: TRAFFICWAY_TYPE, dtype: int64"
      ]
     },
     "execution_count": 79,
     "metadata": {},
     "output_type": "execute_result"
    }
   ],
   "source": [
    "df_clean.TRAFFICWAY_TYPE.value_counts()"
   ]
  },
  {
   "cell_type": "markdown",
   "metadata": {},
   "source": [
    "#### ROADWAY SURFACE CONDITION"
   ]
  },
  {
   "cell_type": "code",
   "execution_count": 80,
   "metadata": {},
   "outputs": [
    {
     "data": {
      "text/plain": [
       "DRY                523671\n",
       "WET                 99315\n",
       "UNKNOWN             33511\n",
       "SNOW OR SLUSH       23783\n",
       "ICE                  5252\n",
       "OTHER                1518\n",
       "SAND, MUD, DIRT       228\n",
       "Name: ROADWAY_SURFACE_COND, dtype: int64"
      ]
     },
     "execution_count": 80,
     "metadata": {},
     "output_type": "execute_result"
    }
   ],
   "source": [
    "df_clean.ROADWAY_SURFACE_COND.value_counts()"
   ]
  },
  {
   "cell_type": "markdown",
   "metadata": {},
   "source": [
    "- We will combine ICE with SNOW OR SLUSH creating SNOW/SLUSH/ICE since they all occur during a snow.\n",
    "- SAND, MUD, DIRT can also be comined to OTHER since they all represent a minority group.\n",
    "- UNKNOWN will be changed to zero."
   ]
  },
  {
   "cell_type": "code",
   "execution_count": 81,
   "metadata": {},
   "outputs": [],
   "source": [
    "df_clean.ROADWAY_SURFACE_COND = df_clean.ROADWAY_SURFACE_COND.map(lambda x: 'SNOW/SLUSH/ICE' \n",
    "                                                                       if x in ['SNOW OR SLUSH',\n",
    "                                                                                'ICE'] else x)\n",
    "df_clean.ROADWAY_SURFACE_COND = df_clean.ROADWAY_SURFACE_COND.map(lambda x: 'OTHER' \n",
    "                                                                       if x in ['OTHER',\n",
    "                                                                                'SAND, MUD, DIRT'] else x)\n",
    "df_clean.ROADWAY_SURFACE_COND = df_clean.ROADWAY_SURFACE_COND.map(lambda x: 0\n",
    "                                                                       if x == 'UNKNOWN' else x)"
   ]
  },
  {
   "cell_type": "code",
   "execution_count": 82,
   "metadata": {},
   "outputs": [
    {
     "data": {
      "text/plain": [
       "DRY               523671\n",
       "WET                99315\n",
       "0                  33511\n",
       "SNOW/SLUSH/ICE     29035\n",
       "OTHER               1746\n",
       "Name: ROADWAY_SURFACE_COND, dtype: int64"
      ]
     },
     "execution_count": 82,
     "metadata": {},
     "output_type": "execute_result"
    }
   ],
   "source": [
    "df_clean.ROADWAY_SURFACE_COND.value_counts()"
   ]
  },
  {
   "cell_type": "markdown",
   "metadata": {},
   "source": [
    "#### ROAD DEFECT"
   ]
  },
  {
   "cell_type": "code",
   "execution_count": 83,
   "metadata": {},
   "outputs": [
    {
     "data": {
      "text/plain": [
       "NO DEFECTS           576466\n",
       "UNKNOWN               97498\n",
       "RUT, HOLES             4755\n",
       "OTHER                  3773\n",
       "WORN SURFACE           2819\n",
       "SHOULDER DEFECT        1413\n",
       "DEBRIS ON ROADWAY       554\n",
       "Name: ROAD_DEFECT, dtype: int64"
      ]
     },
     "execution_count": 83,
     "metadata": {},
     "output_type": "execute_result"
    }
   ],
   "source": [
    "df_clean.ROAD_DEFECT.value_counts()"
   ]
  },
  {
   "cell_type": "markdown",
   "metadata": {},
   "source": [
    "- Other than NO DEFECT and UNKNOWN, all others seem to be a variation of DEFECTS. We will group them together as DEFECTS.\n",
    "- UNKNOWN will be changed to zero."
   ]
  },
  {
   "cell_type": "code",
   "execution_count": 84,
   "metadata": {},
   "outputs": [],
   "source": [
    "df_clean.ROAD_DEFECT = df_clean.ROAD_DEFECT.map(lambda x: 'DEFECTS' \n",
    "                                                     if x not in ['NO DEFECTS', \n",
    "                                                                  'UNKNOWN'] else x)\n",
    "df_clean.ROAD_DEFECT = df_clean.ROAD_DEFECT.map(lambda x: 0\n",
    "                                                     if x == 'UNKNOWN' else x)"
   ]
  },
  {
   "cell_type": "code",
   "execution_count": 85,
   "metadata": {},
   "outputs": [
    {
     "data": {
      "text/plain": [
       "NO DEFECTS    576466\n",
       "0              97498\n",
       "DEFECTS        13314\n",
       "Name: ROAD_DEFECT, dtype: int64"
      ]
     },
     "execution_count": 85,
     "metadata": {},
     "output_type": "execute_result"
    }
   ],
   "source": [
    "df_clean.ROAD_DEFECT.value_counts()"
   ]
  },
  {
   "cell_type": "markdown",
   "metadata": {},
   "source": [
    "#### PRIMARY CONTRIBUTORY CAUSE"
   ]
  },
  {
   "cell_type": "code",
   "execution_count": 86,
   "metadata": {},
   "outputs": [
    {
     "data": {
      "text/plain": [
       "UNABLE TO DETERMINE                                                                 201806\n",
       "FAILING TO YIELD RIGHT-OF-WAY                                                        96154\n",
       "FOLLOWING TOO CLOSELY                                                                93349\n",
       "IMPROPER OVERTAKING/PASSING                                                          36121\n",
       "FAILING TO REDUCE SPEED TO AVOID CRASH                                               35824\n",
       "IMPROPER LANE USAGE                                                                  29477\n",
       "NOT APPLICABLE                                                                       28613\n",
       "IMPROPER TURNING/NO SIGNAL                                                           28394\n",
       "IMPROPER BACKING                                                                     26258\n",
       "DRIVING SKILLS/KNOWLEDGE/EXPERIENCE                                                  19940\n",
       "DISREGARDING TRAFFIC SIGNALS                                                         17390\n",
       "WEATHER                                                                              12357\n",
       "DISREGARDING STOP SIGN                                                                9176\n",
       "OPERATING VEHICLE IN ERRATIC, RECKLESS, CARELESS, NEGLIGENT OR AGGRESSIVE MANNER      6495\n",
       "DISTRACTION - FROM INSIDE VEHICLE                                                     6166\n",
       "VISION OBSCURED (SIGNS, TREE LIMBS, BUILDINGS, ETC.)                                  4838\n",
       "EQUIPMENT - VEHICLE CONDITION                                                         4662\n",
       "PHYSICAL CONDITION OF DRIVER                                                          4192\n",
       "UNDER THE INFLUENCE OF ALCOHOL/DRUGS (USE WHEN ARREST IS EFFECTED)                    4034\n",
       "DISTRACTION - FROM OUTSIDE VEHICLE                                                    3373\n",
       "DRIVING ON WRONG SIDE/WRONG WAY                                                       3348\n",
       "EXCEEDING SAFE SPEED FOR CONDITIONS                                                   2242\n",
       "EXCEEDING AUTHORIZED SPEED LIMIT                                                      2077\n",
       "DISREGARDING OTHER TRAFFIC SIGNS                                                      1697\n",
       "ROAD CONSTRUCTION/MAINTENANCE                                                         1484\n",
       "ROAD ENGINEERING/SURFACE/MARKING DEFECTS                                              1359\n",
       "EVASIVE ACTION DUE TO ANIMAL, OBJECT, NONMOTORIST                                     1292\n",
       "CELL PHONE USE OTHER THAN TEXTING                                                     1120\n",
       "DISREGARDING ROAD MARKINGS                                                             973\n",
       "TURNING RIGHT ON RED                                                                   588\n",
       "HAD BEEN DRINKING (USE WHEN ARREST IS NOT MADE)                                        532\n",
       "ANIMAL                                                                                 461\n",
       "DISTRACTION - OTHER ELECTRONIC DEVICE (NAVIGATION DEVICE, DVD PLAYER, ETC.)            405\n",
       "TEXTING                                                                                324\n",
       "DISREGARDING YIELD SIGN                                                                275\n",
       "RELATED TO BUS STOP                                                                    262\n",
       "PASSING STOPPED SCHOOL BUS                                                              87\n",
       "BICYCLE ADVANCING LEGALLY ON RED LIGHT                                                  58\n",
       "OBSTRUCTED CROSSWALKS                                                                   53\n",
       "MOTORCYCLE ADVANCING LEGALLY ON RED LIGHT                                               22\n",
       "Name: PRIM_CONTRIBUTORY_CAUSE, dtype: int64"
      ]
     },
     "execution_count": 86,
     "metadata": {},
     "output_type": "execute_result"
    }
   ],
   "source": [
    "df_clean.PRIM_CONTRIBUTORY_CAUSE.value_counts()"
   ]
  },
  {
   "cell_type": "markdown",
   "metadata": {},
   "source": [
    "- Everything variable points to a unique class of it's own. We will leave them as is.\n",
    "- UNKNOWN and NOT APPLICABLE can be changed to zero."
   ]
  },
  {
   "cell_type": "code",
   "execution_count": 87,
   "metadata": {},
   "outputs": [],
   "source": [
    "df_clean.PRIM_CONTRIBUTORY_CAUSE = df_clean.PRIM_CONTRIBUTORY_CAUSE.map(lambda x: 0\n",
    "                                                                            if x in ['UNABLE TO DETERMINE',\n",
    "                                                                                     'NOT APPLICABLE'] else x)"
   ]
  },
  {
   "cell_type": "code",
   "execution_count": 88,
   "metadata": {},
   "outputs": [
    {
     "data": {
      "text/plain": [
       "0                                                                                   230419\n",
       "FAILING TO YIELD RIGHT-OF-WAY                                                        96154\n",
       "FOLLOWING TOO CLOSELY                                                                93349\n",
       "IMPROPER OVERTAKING/PASSING                                                          36121\n",
       "FAILING TO REDUCE SPEED TO AVOID CRASH                                               35824\n",
       "IMPROPER LANE USAGE                                                                  29477\n",
       "IMPROPER TURNING/NO SIGNAL                                                           28394\n",
       "IMPROPER BACKING                                                                     26258\n",
       "DRIVING SKILLS/KNOWLEDGE/EXPERIENCE                                                  19940\n",
       "DISREGARDING TRAFFIC SIGNALS                                                         17390\n",
       "WEATHER                                                                              12357\n",
       "DISREGARDING STOP SIGN                                                                9176\n",
       "OPERATING VEHICLE IN ERRATIC, RECKLESS, CARELESS, NEGLIGENT OR AGGRESSIVE MANNER      6495\n",
       "DISTRACTION - FROM INSIDE VEHICLE                                                     6166\n",
       "VISION OBSCURED (SIGNS, TREE LIMBS, BUILDINGS, ETC.)                                  4838\n",
       "EQUIPMENT - VEHICLE CONDITION                                                         4662\n",
       "PHYSICAL CONDITION OF DRIVER                                                          4192\n",
       "UNDER THE INFLUENCE OF ALCOHOL/DRUGS (USE WHEN ARREST IS EFFECTED)                    4034\n",
       "DISTRACTION - FROM OUTSIDE VEHICLE                                                    3373\n",
       "DRIVING ON WRONG SIDE/WRONG WAY                                                       3348\n",
       "EXCEEDING SAFE SPEED FOR CONDITIONS                                                   2242\n",
       "EXCEEDING AUTHORIZED SPEED LIMIT                                                      2077\n",
       "DISREGARDING OTHER TRAFFIC SIGNS                                                      1697\n",
       "ROAD CONSTRUCTION/MAINTENANCE                                                         1484\n",
       "ROAD ENGINEERING/SURFACE/MARKING DEFECTS                                              1359\n",
       "EVASIVE ACTION DUE TO ANIMAL, OBJECT, NONMOTORIST                                     1292\n",
       "CELL PHONE USE OTHER THAN TEXTING                                                     1120\n",
       "DISREGARDING ROAD MARKINGS                                                             973\n",
       "TURNING RIGHT ON RED                                                                   588\n",
       "HAD BEEN DRINKING (USE WHEN ARREST IS NOT MADE)                                        532\n",
       "ANIMAL                                                                                 461\n",
       "DISTRACTION - OTHER ELECTRONIC DEVICE (NAVIGATION DEVICE, DVD PLAYER, ETC.)            405\n",
       "TEXTING                                                                                324\n",
       "DISREGARDING YIELD SIGN                                                                275\n",
       "RELATED TO BUS STOP                                                                    262\n",
       "PASSING STOPPED SCHOOL BUS                                                              87\n",
       "BICYCLE ADVANCING LEGALLY ON RED LIGHT                                                  58\n",
       "OBSTRUCTED CROSSWALKS                                                                   53\n",
       "MOTORCYCLE ADVANCING LEGALLY ON RED LIGHT                                               22\n",
       "Name: PRIM_CONTRIBUTORY_CAUSE, dtype: int64"
      ]
     },
     "execution_count": 88,
     "metadata": {},
     "output_type": "execute_result"
    }
   ],
   "source": [
    "df_clean.PRIM_CONTRIBUTORY_CAUSE.value_counts()"
   ]
  },
  {
   "cell_type": "markdown",
   "metadata": {},
   "source": [
    "### Target Variables"
   ]
  },
  {
   "cell_type": "markdown",
   "metadata": {},
   "source": [
    "We will be combining CRASH TYPE and DAMAGE columns to create our target variables."
   ]
  },
  {
   "cell_type": "code",
   "execution_count": 89,
   "metadata": {},
   "outputs": [
    {
     "data": {
      "text/plain": [
       "MANEUVER                        0\n",
       "SEX                             0\n",
       "AGE                             0\n",
       "DRIVER_VISION              195871\n",
       "PHYSICAL_CONDITION          89038\n",
       "POSTED_SPEED_LIMIT              0\n",
       "TRAFFIC_CONTROL_DEVICE      18824\n",
       "DEVICE_CONDITION            41062\n",
       "WEATHER_CONDITION           16687\n",
       "LIGHTING_CONDITION          10607\n",
       "FIRST_CRASH_TYPE                0\n",
       "TRAFFICWAY_TYPE              6601\n",
       "ALIGNMENT                       0\n",
       "ROADWAY_SURFACE_COND        33511\n",
       "ROAD_DEFECT                 97498\n",
       "CRASH_TYPE                      0\n",
       "DAMAGE                          0\n",
       "PRIM_CONTRIBUTORY_CAUSE    230419\n",
       "CRASH_HOUR                  11096\n",
       "CRASH_DAY_OF_WEEK               0\n",
       "CRASH_MONTH                     0\n",
       "LATITUDE                     4669\n",
       "LONGITUDE                    4669\n",
       "LOCATION                     4609\n",
       "dtype: int64"
      ]
     },
     "execution_count": 89,
     "metadata": {},
     "output_type": "execute_result"
    }
   ],
   "source": [
    "(df_clean==0).sum()"
   ]
  },
  {
   "cell_type": "markdown",
   "metadata": {},
   "source": [
    "#### CRASH TYPE"
   ]
  },
  {
   "cell_type": "code",
   "execution_count": 90,
   "metadata": {},
   "outputs": [
    {
     "data": {
      "text/plain": [
       "NO INJURY / DRIVE AWAY              490967\n",
       "INJURY AND / OR TOW DUE TO CRASH    196311\n",
       "Name: CRASH_TYPE, dtype: int64"
      ]
     },
     "execution_count": 90,
     "metadata": {},
     "output_type": "execute_result"
    }
   ],
   "source": [
    "df_clean.CRASH_TYPE.value_counts()"
   ]
  },
  {
   "cell_type": "markdown",
   "metadata": {},
   "source": [
    "We will renname these two columns as INJURY and NO INJURY."
   ]
  },
  {
   "cell_type": "code",
   "execution_count": 91,
   "metadata": {},
   "outputs": [],
   "source": [
    "df_clean.CRASH_TYPE = df_clean.CRASH_TYPE.map(lambda x: 'NO INJURY'\n",
    "                                                   if x == 'NO INJURY / DRIVE AWAY'\n",
    "                                                         else 'INJURY')"
   ]
  },
  {
   "cell_type": "code",
   "execution_count": 92,
   "metadata": {},
   "outputs": [
    {
     "data": {
      "text/plain": [
       "NO INJURY    490967\n",
       "INJURY       196311\n",
       "Name: CRASH_TYPE, dtype: int64"
      ]
     },
     "execution_count": 92,
     "metadata": {},
     "output_type": "execute_result"
    }
   ],
   "source": [
    "df_clean.CRASH_TYPE.value_counts()"
   ]
  },
  {
   "cell_type": "markdown",
   "metadata": {},
   "source": [
    "#### DAMAGE"
   ]
  },
  {
   "cell_type": "code",
   "execution_count": 93,
   "metadata": {},
   "outputs": [
    {
     "data": {
      "text/plain": [
       "OVER $1,500      423110\n",
       "$501 - $1,500    190521\n",
       "$500 OR LESS      73647\n",
       "Name: DAMAGE, dtype: int64"
      ]
     },
     "execution_count": 93,
     "metadata": {},
     "output_type": "execute_result"
    }
   ],
   "source": [
    "df_clean.DAMAGE.value_counts()"
   ]
  },
  {
   "cell_type": "markdown",
   "metadata": {},
   "source": [
    "For this, we will create two classes as OVER 1500 and UNDER 1500."
   ]
  },
  {
   "cell_type": "code",
   "execution_count": 94,
   "metadata": {},
   "outputs": [],
   "source": [
    "df_clean.DAMAGE = df_clean.DAMAGE.map(lambda x: 'DAMAGE UNDER $1,500' \n",
    "                                           if x != 'OVER $1,500' else 'DAMAGE OVER $1,500')"
   ]
  },
  {
   "cell_type": "code",
   "execution_count": 95,
   "metadata": {},
   "outputs": [
    {
     "data": {
      "text/plain": [
       "DAMAGE OVER $1,500     423110\n",
       "DAMAGE UNDER $1,500    264168\n",
       "Name: DAMAGE, dtype: int64"
      ]
     },
     "execution_count": 95,
     "metadata": {},
     "output_type": "execute_result"
    }
   ],
   "source": [
    "df_clean.DAMAGE.value_counts()"
   ]
  },
  {
   "cell_type": "code",
   "execution_count": 96,
   "metadata": {},
   "outputs": [],
   "source": [
    "# Let's combine these two columns to form a single target column\n",
    "\n",
    "df_clean['TARGET'] = df_clean.CRASH_TYPE + ' & ' + df_clean.DAMAGE"
   ]
  },
  {
   "cell_type": "code",
   "execution_count": 97,
   "metadata": {},
   "outputs": [
    {
     "data": {
      "text/plain": [
       "NO INJURY & DAMAGE OVER $1,500     258320\n",
       "NO INJURY & DAMAGE UNDER $1,500    232647\n",
       "INJURY & DAMAGE OVER $1,500        164790\n",
       "INJURY & DAMAGE UNDER $1,500        31521\n",
       "Name: TARGET, dtype: int64"
      ]
     },
     "execution_count": 97,
     "metadata": {},
     "output_type": "execute_result"
    }
   ],
   "source": [
    "df_clean.TARGET.value_counts()"
   ]
  },
  {
   "cell_type": "markdown",
   "metadata": {},
   "source": [
    "Our dataset is finally ready for exploration and modeling. However, we will continue the rest of this project in a new notebook. This will keep our work clean and organized for quick reference."
   ]
  },
  {
   "cell_type": "code",
   "execution_count": 98,
   "metadata": {},
   "outputs": [],
   "source": [
    "# Export the final dataset\n",
    "\n",
    "df_clean.to_csv(r'Datasets/final_dataset.csv', index=False)"
   ]
  }
 ],
 "metadata": {
  "kernelspec": {
   "display_name": "Python 3",
   "language": "python",
   "name": "python3"
  },
  "language_info": {
   "codemirror_mode": {
    "name": "ipython",
    "version": 3
   },
   "file_extension": ".py",
   "mimetype": "text/x-python",
   "name": "python",
   "nbconvert_exporter": "python",
   "pygments_lexer": "ipython3",
   "version": "3.8.3"
  }
 },
 "nbformat": 4,
 "nbformat_minor": 2
}
